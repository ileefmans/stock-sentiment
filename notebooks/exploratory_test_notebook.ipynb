{
 "cells": [
  {
   "cell_type": "code",
   "execution_count": 1,
   "metadata": {},
   "outputs": [
    {
     "name": "stdout",
     "output_type": "stream",
     "text": [
      "/Users/ianleefmans/Desktop/stock-sentiment\n"
     ]
    }
   ],
   "source": [
    "import sys\n",
    "sys.path.append('/Users/ianleefmans/Desktop/stock-sentiment/utils')\n",
    "from data import Database, ScrapeWSB, Stock\n",
    "from datahelper import PostDataset, CommentDataset, get_indices\n",
    "from torch.utils.data import DataLoader\n",
    "from inference import RunInference\n",
    "from models import FineTuneBaseModel, FineTuneClassifier\n",
    "%cd /Users/ianleefmans/Desktop/stock-sentiment"
   ]
  },
  {
   "cell_type": "code",
   "execution_count": 2,
   "metadata": {},
   "outputs": [],
   "source": [
    "import transformers\n",
    "import torch\n",
    "from transformers import BertTokenizer, BertForSequenceClassification"
   ]
  },
  {
   "cell_type": "code",
   "execution_count": 2,
   "metadata": {},
   "outputs": [
    {
     "name": "stdout",
     "output_type": "stream",
     "text": [
      "connection established\n",
      "[(datetime.datetime(2021, 6, 14, 14, 31, 50),)]\n",
      "[('COMMENTS',), ('POSTS',), ('STOCKS',)]\n"
     ]
    }
   ],
   "source": [
    "\n",
    "db = Database()\n",
    "db.use_database('DB1')\n",
    "\n",
    "print(db.query('show tables;'))"
   ]
  },
  {
   "cell_type": "code",
   "execution_count": 7,
   "metadata": {},
   "outputs": [
    {
     "name": "stdout",
     "output_type": "stream",
     "text": [
      "505\n"
     ]
    }
   ],
   "source": [
    "print(len(db.query(\"SELECT COMMENT_ID FROM COMMENTS WHERE TARGET IN (0,1)\")))"
   ]
  },
  {
   "cell_type": "code",
   "execution_count": 8,
   "metadata": {},
   "outputs": [
    {
     "data": {
      "text/plain": [
       "38"
      ]
     },
     "execution_count": 8,
     "metadata": {},
     "output_type": "execute_result"
    }
   ],
   "source": [
    "len(db.query('''SELECT TITLE, TARGET FROM POSTS WHERE TARGET IN (0,1);'''))"
   ]
  },
  {
   "cell_type": "code",
   "execution_count": 8,
   "metadata": {},
   "outputs": [
    {
     "data": {
      "text/plain": [
       "203"
      ]
     },
     "execution_count": 8,
     "metadata": {},
     "output_type": "execute_result"
    }
   ],
   "source": [
    "len(db.query('''SELECT COMMENT, TARGET FROM COMMENTS WHERE TARGET IN (0,1);'''))"
   ]
  },
  {
   "cell_type": "code",
   "execution_count": 7,
   "metadata": {},
   "outputs": [
    {
     "data": {
      "text/plain": [
       "[('AMC', datetime.datetime(2021, 6, 6, 22, 15, 44))]"
      ]
     },
     "execution_count": 7,
     "metadata": {},
     "output_type": "execute_result"
    }
   ],
   "source": [
    "db.query(\"SELECT * FROM STOCKS WHERE STOCK_ID='AMC' AND LAST_SCRAPED >= DATE_SUB(NOW(),INTERVAL 55 MINUTE)\")"
   ]
  },
  {
   "cell_type": "code",
   "execution_count": 16,
   "metadata": {},
   "outputs": [
    {
     "data": {
      "text/plain": [
       "[('nx2ihx',),\n",
       " ('nxcb5h',),\n",
       " ('nxp5r6',),\n",
       " ('nxtjj4',),\n",
       " ('nxv9jr',),\n",
       " ('nxx9sz',),\n",
       " ('ny01wx',),\n",
       " ('nz6tgd',),\n",
       " ('nzf0mj',),\n",
       " ('nzjcfg',)]"
      ]
     },
     "execution_count": 16,
     "metadata": {},
     "output_type": "execute_result"
    }
   ],
   "source": [
    "db.query(\"SELECT POST_ID FROM POSTS WHERE STOCK_ID='{}' AND LAST_SCRAPED >= DATE_SUB((SELECT LAST_SCRAPED FROM STOCKS WHERE STOCK_ID = '{}'), INTERVAL {} HOUR);\".format('BB', 'BB', 6))\n",
    "\n"
   ]
  },
  {
   "cell_type": "code",
   "execution_count": 12,
   "metadata": {},
   "outputs": [
    {
     "data": {
      "text/plain": [
       "[('nx2ihx',),\n",
       " ('nxcb5h',),\n",
       " ('nxp5r6',),\n",
       " ('nxtjj4',),\n",
       " ('nxv9jr',),\n",
       " ('nxx9sz',),\n",
       " ('ny01wx',),\n",
       " ('nz6tgd',),\n",
       " ('nzf0mj',),\n",
       " ('nzjcfg',)]"
      ]
     },
     "execution_count": 12,
     "metadata": {},
     "output_type": "execute_result"
    }
   ],
   "source": [
    "db.query(\"SELECT POST_ID FROM POSTS WHERE STOCK_ID='{}' AND LAST_SCRAPED >= DATE_SUB((SELECT LAST_SCRAPED FROM STOCKS WHERE STOCK_ID = '{}'),INTERVAL {} HOUR);\".format('BB','BB',6))\n",
    "\n"
   ]
  },
  {
   "cell_type": "code",
   "execution_count": 4,
   "metadata": {},
   "outputs": [
    {
     "data": {
      "text/plain": [
       "[(datetime.datetime(2021, 6, 7, 1, 40, 2),),\n",
       " (datetime.datetime(2021, 6, 7, 1, 40, 2),),\n",
       " (datetime.datetime(2021, 6, 7, 1, 40, 2),),\n",
       " (datetime.datetime(2021, 6, 7, 1, 40, 2),),\n",
       " (datetime.datetime(2021, 6, 7, 1, 40, 2),),\n",
       " (datetime.datetime(2021, 6, 7, 1, 40, 2),),\n",
       " (datetime.datetime(2021, 6, 7, 1, 40, 2),),\n",
       " (datetime.datetime(2021, 6, 7, 1, 40, 2),),\n",
       " (datetime.datetime(2021, 6, 7, 1, 40, 1),),\n",
       " (datetime.datetime(2021, 6, 7, 1, 40, 1),),\n",
       " (datetime.datetime(2021, 6, 7, 1, 40),),\n",
       " (datetime.datetime(2021, 6, 7, 1, 40),),\n",
       " (datetime.datetime(2021, 6, 7, 1, 40, 1),),\n",
       " (datetime.datetime(2021, 6, 7, 1, 40, 1),),\n",
       " (datetime.datetime(2021, 6, 7, 1, 40),),\n",
       " (datetime.datetime(2021, 6, 7, 1, 40, 1),),\n",
       " (datetime.datetime(2021, 6, 7, 1, 40, 1),),\n",
       " (datetime.datetime(2021, 6, 7, 1, 40, 1),),\n",
       " (datetime.datetime(2021, 6, 7, 1, 40),),\n",
       " (datetime.datetime(2021, 6, 7, 1, 40),),\n",
       " (datetime.datetime(2021, 6, 7, 1, 40),),\n",
       " (datetime.datetime(2021, 6, 7, 1, 39, 59),),\n",
       " (datetime.datetime(2021, 6, 7, 1, 45, 36),),\n",
       " (datetime.datetime(2021, 6, 7, 1, 45, 36),),\n",
       " (datetime.datetime(2021, 6, 7, 1, 39, 59),),\n",
       " (datetime.datetime(2021, 6, 7, 1, 39, 59),),\n",
       " (datetime.datetime(2021, 6, 7, 1, 39, 59),),\n",
       " (datetime.datetime(2021, 6, 7, 1, 39, 59),),\n",
       " (datetime.datetime(2021, 6, 7, 1, 39, 59),),\n",
       " (datetime.datetime(2021, 6, 7, 1, 45, 36),),\n",
       " (datetime.datetime(2021, 6, 7, 1, 38, 7),),\n",
       " (datetime.datetime(2021, 6, 7, 1, 38, 7),),\n",
       " (datetime.datetime(2021, 6, 7, 1, 38, 6),),\n",
       " (datetime.datetime(2021, 6, 7, 1, 38, 6),),\n",
       " (datetime.datetime(2021, 6, 7, 1, 38, 6),),\n",
       " (datetime.datetime(2021, 6, 7, 1, 45, 35),),\n",
       " (datetime.datetime(2021, 6, 7, 1, 38, 5),),\n",
       " (datetime.datetime(2021, 6, 7, 1, 17, 45),),\n",
       " (datetime.datetime(2021, 6, 7, 1, 17, 45),),\n",
       " (datetime.datetime(2021, 6, 7, 1, 45, 35),),\n",
       " (datetime.datetime(2021, 6, 7, 1, 17, 44),),\n",
       " (datetime.datetime(2021, 6, 7, 1, 38, 7),),\n",
       " (datetime.datetime(2021, 6, 7, 1, 17, 44),),\n",
       " (datetime.datetime(2021, 6, 7, 1, 45, 35),),\n",
       " (datetime.datetime(2021, 6, 7, 1, 38, 7),),\n",
       " (datetime.datetime(2021, 6, 7, 1, 45, 35),),\n",
       " (datetime.datetime(2021, 6, 7, 1, 38, 7),),\n",
       " (datetime.datetime(2021, 6, 7, 1, 38, 5),),\n",
       " (datetime.datetime(2021, 6, 7, 1, 17, 44),),\n",
       " (datetime.datetime(2021, 6, 7, 1, 38, 6),),\n",
       " (datetime.datetime(2021, 6, 7, 1, 38, 5),),\n",
       " (datetime.datetime(2021, 6, 7, 1, 17, 44),),\n",
       " (datetime.datetime(2021, 6, 7, 1, 39, 59),),\n",
       " (datetime.datetime(2021, 6, 7, 1, 17, 44),),\n",
       " (datetime.datetime(2021, 6, 7, 1, 17, 44),),\n",
       " (datetime.datetime(2021, 6, 7, 1, 38, 6),),\n",
       " (datetime.datetime(2021, 6, 7, 1, 38, 6),),\n",
       " (datetime.datetime(2021, 6, 7, 1, 38, 6),),\n",
       " (datetime.datetime(2021, 6, 7, 1, 38, 5),),\n",
       " (datetime.datetime(2021, 6, 7, 1, 17, 44),),\n",
       " (datetime.datetime(2021, 6, 7, 1, 17, 45),),\n",
       " (datetime.datetime(2021, 6, 7, 1, 38, 5),),\n",
       " (datetime.datetime(2021, 6, 7, 1, 38, 5),),\n",
       " (datetime.datetime(2021, 6, 7, 1, 17, 43),),\n",
       " (datetime.datetime(2021, 6, 7, 1, 39, 59),),\n",
       " (datetime.datetime(2021, 6, 7, 1, 45, 35),),\n",
       " (datetime.datetime(2021, 6, 7, 1, 38, 5),),\n",
       " (datetime.datetime(2021, 6, 7, 1, 38, 4),),\n",
       " (datetime.datetime(2021, 6, 7, 1, 17, 43),),\n",
       " (datetime.datetime(2021, 6, 7, 1, 38, 5),),\n",
       " (datetime.datetime(2021, 6, 7, 1, 20, 33),),\n",
       " (datetime.datetime(2021, 6, 7, 1, 45, 35),),\n",
       " (datetime.datetime(2021, 6, 7, 1, 20, 33),),\n",
       " (datetime.datetime(2021, 6, 7, 1, 20, 32),),\n",
       " (datetime.datetime(2021, 6, 7, 1, 17, 43),),\n",
       " (datetime.datetime(2021, 6, 7, 1, 45, 35),),\n",
       " (datetime.datetime(2021, 6, 7, 1, 38, 4),),\n",
       " (datetime.datetime(2021, 6, 7, 1, 20, 32),),\n",
       " (datetime.datetime(2021, 6, 7, 1, 20, 32),),\n",
       " (datetime.datetime(2021, 6, 7, 1, 20, 32),),\n",
       " (datetime.datetime(2021, 6, 7, 1, 38, 4),),\n",
       " (datetime.datetime(2021, 6, 7, 1, 38, 4),),\n",
       " (datetime.datetime(2021, 6, 7, 1, 38, 4),),\n",
       " (datetime.datetime(2021, 6, 7, 1, 45, 35),),\n",
       " (datetime.datetime(2021, 6, 7, 1, 45, 34),),\n",
       " (datetime.datetime(2021, 6, 7, 1, 20, 32),),\n",
       " (datetime.datetime(2021, 6, 7, 1, 17, 43),),\n",
       " (datetime.datetime(2021, 6, 7, 1, 45, 35),),\n",
       " (datetime.datetime(2021, 6, 7, 1, 20, 31),),\n",
       " (datetime.datetime(2021, 6, 7, 1, 38, 4),),\n",
       " (datetime.datetime(2021, 6, 7, 1, 20, 31),),\n",
       " (datetime.datetime(2021, 6, 7, 1, 20, 31),),\n",
       " (datetime.datetime(2021, 6, 7, 1, 20, 31),),\n",
       " (datetime.datetime(2021, 6, 7, 1, 20, 30),),\n",
       " (datetime.datetime(2021, 6, 7, 1, 45, 34),),\n",
       " (datetime.datetime(2021, 6, 7, 1, 20, 32),),\n",
       " (datetime.datetime(2021, 6, 7, 1, 20, 30),),\n",
       " (datetime.datetime(2021, 6, 7, 1, 20, 32),),\n",
       " (datetime.datetime(2021, 6, 7, 1, 20, 30),),\n",
       " (datetime.datetime(2021, 6, 7, 1, 20, 30),),\n",
       " (datetime.datetime(2021, 6, 7, 1, 45, 34),),\n",
       " (datetime.datetime(2021, 6, 7, 1, 45, 33),),\n",
       " (datetime.datetime(2021, 6, 7, 1, 20, 31),),\n",
       " (datetime.datetime(2021, 6, 7, 1, 20, 32),),\n",
       " (datetime.datetime(2021, 6, 7, 1, 45, 33),),\n",
       " (datetime.datetime(2021, 6, 7, 1, 20, 31),),\n",
       " (datetime.datetime(2021, 6, 7, 1, 45, 34),),\n",
       " (datetime.datetime(2021, 6, 7, 1, 39, 58),),\n",
       " (datetime.datetime(2021, 6, 7, 1, 20, 29),),\n",
       " (datetime.datetime(2021, 6, 7, 1, 20, 31),),\n",
       " (datetime.datetime(2021, 6, 7, 1, 45, 34),),\n",
       " (datetime.datetime(2021, 6, 7, 1, 17, 42),),\n",
       " (datetime.datetime(2021, 6, 7, 1, 45, 34),),\n",
       " (datetime.datetime(2021, 6, 7, 1, 45, 34),),\n",
       " (datetime.datetime(2021, 6, 7, 1, 38, 3),),\n",
       " (datetime.datetime(2021, 6, 7, 1, 45, 34),),\n",
       " (datetime.datetime(2021, 6, 7, 1, 20, 30),),\n",
       " (datetime.datetime(2021, 6, 6, 21, 13, 36),),\n",
       " (datetime.datetime(2021, 6, 6, 21, 13, 36),),\n",
       " (datetime.datetime(2021, 6, 7, 1, 17, 42),),\n",
       " (datetime.datetime(2021, 6, 6, 21, 13, 35),),\n",
       " (datetime.datetime(2021, 6, 6, 21, 13, 36),),\n",
       " (datetime.datetime(2021, 6, 7, 1, 38, 3),),\n",
       " (datetime.datetime(2021, 6, 7, 1, 45, 33),),\n",
       " (datetime.datetime(2021, 6, 7, 1, 17, 42),),\n",
       " (datetime.datetime(2021, 6, 7, 1, 17, 42),),\n",
       " (datetime.datetime(2021, 6, 7, 1, 20, 30),),\n",
       " (datetime.datetime(2021, 6, 6, 21, 13, 36),),\n",
       " (datetime.datetime(2021, 6, 6, 21, 13, 35),),\n",
       " (datetime.datetime(2021, 6, 7, 1, 20, 29),),\n",
       " (datetime.datetime(2021, 6, 6, 17, 24, 2),),\n",
       " (datetime.datetime(2021, 6, 7, 1, 20, 29),),\n",
       " (datetime.datetime(2021, 6, 7, 1, 17, 42),),\n",
       " (datetime.datetime(2021, 6, 6, 21, 13, 35),),\n",
       " (datetime.datetime(2021, 6, 7, 1, 17, 43),),\n",
       " (datetime.datetime(2021, 6, 6, 21, 13, 35),),\n",
       " (datetime.datetime(2021, 6, 6, 17, 24, 2),),\n",
       " (datetime.datetime(2021, 6, 7, 1, 17, 42),),\n",
       " (datetime.datetime(2021, 6, 6, 17, 24, 2),),\n",
       " (datetime.datetime(2021, 6, 6, 17, 24, 2),),\n",
       " (datetime.datetime(2021, 6, 7, 1, 45, 33),),\n",
       " (datetime.datetime(2021, 6, 7, 1, 17, 43),),\n",
       " (datetime.datetime(2021, 6, 7, 1, 20, 30),),\n",
       " (datetime.datetime(2021, 6, 7, 1, 45, 33),),\n",
       " (datetime.datetime(2021, 6, 7, 1, 20, 29),),\n",
       " (datetime.datetime(2021, 6, 7, 1, 38, 3),),\n",
       " (datetime.datetime(2021, 6, 6, 17, 24, 2),),\n",
       " (datetime.datetime(2021, 6, 6, 22, 13, 52),),\n",
       " (datetime.datetime(2021, 6, 7, 1, 45, 33),),\n",
       " (datetime.datetime(2021, 6, 7, 1, 20, 29),),\n",
       " (datetime.datetime(2021, 6, 7, 1, 45, 33),),\n",
       " (datetime.datetime(2021, 6, 6, 22, 13, 51),),\n",
       " (datetime.datetime(2021, 6, 7, 1, 17, 41),),\n",
       " (datetime.datetime(2021, 6, 7, 1, 13, 45),),\n",
       " (datetime.datetime(2021, 6, 6, 17, 24, 2),),\n",
       " (datetime.datetime(2021, 6, 6, 22, 13, 51),),\n",
       " (datetime.datetime(2021, 6, 6, 22, 13, 50),),\n",
       " (datetime.datetime(2021, 6, 7, 1, 13, 45),),\n",
       " (datetime.datetime(2021, 6, 7, 1, 13, 44),),\n",
       " (datetime.datetime(2021, 6, 7, 1, 13, 45),),\n",
       " (datetime.datetime(2021, 6, 7, 1, 17, 41),),\n",
       " (datetime.datetime(2021, 6, 6, 17, 24, 2),),\n",
       " (datetime.datetime(2021, 6, 7, 1, 13, 45),),\n",
       " (datetime.datetime(2021, 6, 7, 1, 13, 44),),\n",
       " (datetime.datetime(2021, 6, 7, 1, 17, 43),),\n",
       " (datetime.datetime(2021, 6, 7, 1, 13, 44),),\n",
       " (datetime.datetime(2021, 6, 6, 22, 13, 51),),\n",
       " (datetime.datetime(2021, 6, 7, 1, 13, 45),),\n",
       " (datetime.datetime(2021, 6, 7, 1, 17, 41),),\n",
       " (datetime.datetime(2021, 6, 7, 1, 13, 45),),\n",
       " (datetime.datetime(2021, 6, 7, 1, 13, 44),),\n",
       " (datetime.datetime(2021, 6, 7, 1, 17, 41),),\n",
       " (datetime.datetime(2021, 6, 6, 17, 24, 2),),\n",
       " (datetime.datetime(2021, 6, 7, 1, 13, 45),),\n",
       " (datetime.datetime(2021, 6, 6, 22, 13, 51),),\n",
       " (datetime.datetime(2021, 6, 7, 1, 13, 44),),\n",
       " (datetime.datetime(2021, 6, 6, 22, 13, 50),),\n",
       " (datetime.datetime(2021, 6, 6, 22, 13, 51),),\n",
       " (datetime.datetime(2021, 6, 7, 1, 13, 44),),\n",
       " (datetime.datetime(2021, 6, 6, 17, 24, 1),),\n",
       " (datetime.datetime(2021, 6, 6, 17, 24, 1),),\n",
       " (datetime.datetime(2021, 6, 6, 22, 13, 50),),\n",
       " (datetime.datetime(2021, 6, 6, 22, 13, 51),),\n",
       " (datetime.datetime(2021, 6, 6, 22, 13, 50),),\n",
       " (datetime.datetime(2021, 6, 7, 1, 17, 41),),\n",
       " (datetime.datetime(2021, 6, 7, 1, 13, 43),),\n",
       " (datetime.datetime(2021, 6, 7, 1, 13, 44),),\n",
       " (datetime.datetime(2021, 6, 6, 22, 13, 50),),\n",
       " (datetime.datetime(2021, 6, 7, 1, 13, 43),),\n",
       " (datetime.datetime(2021, 6, 7, 1, 13, 43),),\n",
       " (datetime.datetime(2021, 6, 6, 22, 13, 50),),\n",
       " (datetime.datetime(2021, 6, 6, 22, 13, 50),),\n",
       " (datetime.datetime(2021, 6, 7, 1, 13, 43),),\n",
       " (datetime.datetime(2021, 6, 7, 1, 13, 43),),\n",
       " (datetime.datetime(2021, 6, 7, 1, 13, 44),),\n",
       " (datetime.datetime(2021, 6, 7, 1, 13, 43),),\n",
       " (datetime.datetime(2021, 6, 7, 1, 13, 43),),\n",
       " (datetime.datetime(2021, 6, 7, 1, 13, 42),),\n",
       " (datetime.datetime(2021, 6, 7, 1, 20, 29),),\n",
       " (datetime.datetime(2021, 6, 6, 22, 13, 49),),\n",
       " (datetime.datetime(2021, 6, 7, 1, 17, 42),),\n",
       " (datetime.datetime(2021, 6, 6, 17, 24, 1),),\n",
       " (datetime.datetime(2021, 6, 7, 1, 13, 42),),\n",
       " (datetime.datetime(2021, 6, 6, 22, 13, 49),),\n",
       " (datetime.datetime(2021, 6, 7, 1, 13, 42),),\n",
       " (datetime.datetime(2021, 6, 6, 21, 13, 34),),\n",
       " (datetime.datetime(2021, 6, 7, 1, 13, 42),),\n",
       " (datetime.datetime(2021, 6, 7, 1, 13, 42),),\n",
       " (datetime.datetime(2021, 6, 6, 21, 13, 35),),\n",
       " (datetime.datetime(2021, 6, 7, 1, 13, 42),),\n",
       " (datetime.datetime(2021, 6, 6, 22, 13, 49),),\n",
       " (datetime.datetime(2021, 6, 14, 14, 27, 44),),\n",
       " (datetime.datetime(2021, 6, 14, 14, 27, 44),),\n",
       " (datetime.datetime(2021, 6, 14, 14, 27, 44),),\n",
       " (datetime.datetime(2021, 6, 14, 14, 27, 44),),\n",
       " (datetime.datetime(2021, 6, 14, 14, 27, 44),),\n",
       " (datetime.datetime(2021, 6, 14, 14, 27, 43),),\n",
       " (datetime.datetime(2021, 6, 14, 14, 27, 44),),\n",
       " (datetime.datetime(2021, 6, 14, 14, 27, 43),),\n",
       " (datetime.datetime(2021, 6, 14, 14, 27, 43),),\n",
       " (datetime.datetime(2021, 6, 14, 14, 27, 43),)]"
      ]
     },
     "execution_count": 4,
     "metadata": {},
     "output_type": "execute_result"
    }
   ],
   "source": [
    "db.query(\"SELECT LAST_SCRAPED FROM POSTS WHERE LAST_SCRAPED >= DATE_SUB((SELECT LAST_SCRAPED FROM STOCKS WHERE STOCK_ID = 'GME'),INTERVAL 6 HOUR);\")\n",
    "         \n",
    "         \n",
    "         \n"
   ]
  },
  {
   "cell_type": "code",
   "execution_count": 11,
   "metadata": {},
   "outputs": [
    {
     "data": {
      "text/plain": [
       "[(datetime.datetime(2021, 6, 6, 17, 24, 2),),\n",
       " (datetime.datetime(2021, 6, 6, 17, 24, 2),),\n",
       " (datetime.datetime(2021, 6, 6, 17, 24, 2),),\n",
       " (datetime.datetime(2021, 6, 6, 17, 24, 2),),\n",
       " (datetime.datetime(2021, 6, 6, 17, 24, 2),),\n",
       " (datetime.datetime(2021, 6, 6, 17, 24, 2),),\n",
       " (datetime.datetime(2021, 6, 6, 17, 24, 2),),\n",
       " (datetime.datetime(2021, 6, 6, 17, 24, 2),),\n",
       " (datetime.datetime(2021, 6, 6, 17, 24, 1),),\n",
       " (datetime.datetime(2021, 6, 6, 17, 24, 1),),\n",
       " (datetime.datetime(2021, 6, 6, 17, 24, 1),)]"
      ]
     },
     "execution_count": 11,
     "metadata": {},
     "output_type": "execute_result"
    }
   ],
   "source": [
    "db.query(\"SELECT LAST_SCRAPED FROM POSTS\")"
   ]
  },
  {
   "cell_type": "code",
   "execution_count": 45,
   "metadata": {},
   "outputs": [],
   "source": [
    "indices = db.query(\"SELECT POST_ID FROM POSTS WHERE StOCK_ID='{}';\".format(\"GME\"))"
   ]
  },
  {
   "cell_type": "code",
   "execution_count": 4,
   "metadata": {},
   "outputs": [
    {
     "name": "stdout",
     "output_type": "stream",
     "text": [
      "connection established\n",
      "[(datetime.datetime(2021, 6, 6, 17, 23, 59),)]\n",
      "connection established\n",
      "[(datetime.datetime(2021, 6, 6, 17, 24),)]\n"
     ]
    },
    {
     "name": "stderr",
     "output_type": "stream",
     "text": [
      "\r",
      "  0%|          | 0/11 [00:00<?, ?it/s]"
     ]
    },
    {
     "name": "stdout",
     "output_type": "stream",
     "text": [
      "connection established\n",
      "[(datetime.datetime(2021, 6, 6, 17, 24, 3),)]\n"
     ]
    },
    {
     "name": "stderr",
     "output_type": "stream",
     "text": [
      "100%|██████████| 11/11 [01:08<00:00,  6.24s/it]"
     ]
    },
    {
     "name": "stdout",
     "output_type": "stream",
     "text": [
      "DONE\n"
     ]
    },
    {
     "name": "stderr",
     "output_type": "stream",
     "text": [
      "\n"
     ]
    }
   ],
   "source": [
    "db = Database()\n",
    "db.use_database('DB1')\n",
    "#db.drop_table(\"LABELED_POSTS\")\n",
    "#db.drop_table(\"LABELED_COMMENTS\")\n",
    "\n",
    "db.initialize_tables()\n",
    "\n",
    "scrapewsb = ScrapeWSB('GME', 11, 2)\n",
    "\n",
    "df = scrapewsb.scrape()\n",
    "scrapewsb.convert(df)\n",
    "print(\"DONE\")"
   ]
  },
  {
   "cell_type": "code",
   "execution_count": 4,
   "metadata": {},
   "outputs": [
    {
     "name": "stdout",
     "output_type": "stream",
     "text": [
      "connection established\n",
      "[(datetime.datetime(2021, 5, 30, 0, 20, 6),)]\n"
     ]
    }
   ],
   "source": [
    "db = Database()\n",
    "db.use_database('DB1')"
   ]
  },
  {
   "cell_type": "code",
   "execution_count": 3,
   "metadata": {},
   "outputs": [],
   "source": [
    "db.drop_table('COMMENTS')\n",
    "db.drop_table(\"POSTS\")\n",
    "db.drop_table(\"STOCKS\")"
   ]
  },
  {
   "cell_type": "code",
   "execution_count": null,
   "metadata": {},
   "outputs": [],
   "source": []
  },
  {
   "cell_type": "code",
   "execution_count": 2,
   "metadata": {},
   "outputs": [
    {
     "name": "stdout",
     "output_type": "stream",
     "text": [
      "connection established\n",
      "[(datetime.datetime(2021, 6, 14, 16, 40, 42),)]\n"
     ]
    }
   ],
   "source": [
    "indices = get_indices(\"BB\")"
   ]
  },
  {
   "cell_type": "code",
   "execution_count": 3,
   "metadata": {},
   "outputs": [],
   "source": [
    "post_train = PostDataset(512, indices['post_train'])\n",
    "\n"
   ]
  },
  {
   "cell_type": "code",
   "execution_count": 4,
   "metadata": {},
   "outputs": [],
   "source": [
    "post_trainloader = DataLoader(\n",
    "    dataset=post_train, \n",
    "    batch_size=3, \n",
    "    num_workers=0,\n",
    "    shuffle=True\n",
    "    )"
   ]
  },
  {
   "cell_type": "code",
   "execution_count": 5,
   "metadata": {},
   "outputs": [
    {
     "name": "stdout",
     "output_type": "stream",
     "text": [
      "connection established\n",
      "[(datetime.datetime(2021, 6, 14, 16, 40, 44),)]\n"
     ]
    },
    {
     "name": "stderr",
     "output_type": "stream",
     "text": [
      "/Users/ianleefmans/opt/anaconda3/envs/StockSentiment/lib/python3.7/site-packages/transformers/tokenization_utils_base.py:2110: FutureWarning: The `pad_to_max_length` argument is deprecated and will be removed in a future version, use `padding=True` or `padding='longest'` to pad to the longest sequence in the batch, or use `padding='max_length'` to pad to a max length. In this case, you can give a specific length with `max_length` (e.g. `max_length=45`) or leave max_length to None to pad to the maximal input size of the model (e.g. 512 for Bert).\n",
      "  FutureWarning,\n"
     ]
    },
    {
     "name": "stdout",
     "output_type": "stream",
     "text": [
      "connection established\n",
      "[(datetime.datetime(2021, 6, 14, 16, 40, 44),)]\n",
      "connection established\n",
      "[(datetime.datetime(2021, 6, 14, 16, 40, 45),)]\n"
     ]
    }
   ],
   "source": [
    "sample = iter(post_trainloader).next()"
   ]
  },
  {
   "cell_type": "code",
   "execution_count": 6,
   "metadata": {},
   "outputs": [
    {
     "data": {
      "text/plain": [
       "{'post': ['TD Ameritrade has added AMC to the restricted securities list',\n",
       "  'AMC ends dizzying week with more wild moves',\n",
       "  'First ever gains post.. GME and AMC to the moon we hodl 🦍💎🙌🚀🌝'],\n",
       " 'post_input_ids': tensor([[  101, 15439,  7277,  ...,     0,     0,     0],\n",
       "         [  101, 24810,  3769,  ...,     0,     0,     0],\n",
       "         [  101,  1752,  1518,  ...,     0,     0,     0]]),\n",
       " 'post_attention_mask': tensor([[1, 1, 1,  ..., 0, 0, 0],\n",
       "         [1, 1, 1,  ..., 0, 0, 0],\n",
       "         [1, 1, 1,  ..., 0, 0, 0]]),\n",
       " 'target': tensor([0, 0, 1])}"
      ]
     },
     "execution_count": 6,
     "metadata": {},
     "output_type": "execute_result"
    }
   ],
   "source": [
    "sample\n"
   ]
  },
  {
   "cell_type": "code",
   "execution_count": 7,
   "metadata": {},
   "outputs": [
    {
     "name": "stderr",
     "output_type": "stream",
     "text": [
      "Some weights of the model checkpoint at bert-base-cased were not used when initializing BertForSequenceClassification: ['cls.predictions.transform.LayerNorm.bias', 'cls.predictions.transform.LayerNorm.weight', 'cls.predictions.transform.dense.bias', 'cls.seq_relationship.weight', 'cls.seq_relationship.bias', 'cls.predictions.bias', 'cls.predictions.decoder.weight', 'cls.predictions.transform.dense.weight']\n",
      "- This IS expected if you are initializing BertForSequenceClassification from the checkpoint of a model trained on another task or with another architecture (e.g. initializing a BertForSequenceClassification model from a BertForPreTraining model).\n",
      "- This IS NOT expected if you are initializing BertForSequenceClassification from the checkpoint of a model that you expect to be exactly identical (initializing a BertForSequenceClassification model from a BertForSequenceClassification model).\n",
      "Some weights of BertForSequenceClassification were not initialized from the model checkpoint at bert-base-cased and are newly initialized: ['classifier.bias', 'classifier.weight']\n",
      "You should probably TRAIN this model on a down-stream task to be able to use it for predictions and inference.\n"
     ]
    }
   ],
   "source": [
    "model = FineTuneClassifier()\n",
    "\n",
    "out = model(input_ids=sample['post_input_ids'], attention_masks=sample['post_attention_mask'])"
   ]
  },
  {
   "cell_type": "code",
   "execution_count": 10,
   "metadata": {},
   "outputs": [
    {
     "data": {
      "text/plain": [
       "tensor([[0.3778, 0.6222],\n",
       "        [0.3432, 0.6568],\n",
       "        [0.3604, 0.6396]], grad_fn=<SoftmaxBackward>)"
      ]
     },
     "execution_count": 10,
     "metadata": {},
     "output_type": "execute_result"
    }
   ],
   "source": [
    "out"
   ]
  },
  {
   "cell_type": "code",
   "execution_count": 8,
   "metadata": {},
   "outputs": [
    {
     "name": "stderr",
     "output_type": "stream",
     "text": [
      "Some weights of the model checkpoint at bert-base-cased were not used when initializing BertForSequenceClassification: ['cls.seq_relationship.bias', 'cls.predictions.decoder.weight', 'cls.predictions.bias', 'cls.predictions.transform.LayerNorm.weight', 'cls.predictions.transform.LayerNorm.bias', 'cls.predictions.transform.dense.weight', 'cls.predictions.transform.dense.bias', 'cls.seq_relationship.weight']\n",
      "- This IS expected if you are initializing BertForSequenceClassification from the checkpoint of a model trained on another task or with another architecture (e.g. initializing a BertForSequenceClassification model from a BertForPreTraining model).\n",
      "- This IS NOT expected if you are initializing BertForSequenceClassification from the checkpoint of a model that you expect to be exactly identical (initializing a BertForSequenceClassification model from a BertForSequenceClassification model).\n",
      "Some weights of BertForSequenceClassification were not initialized from the model checkpoint at bert-base-cased and are newly initialized: ['classifier.bias', 'classifier.weight']\n",
      "You should probably TRAIN this model on a down-stream task to be able to use it for predictions and inference.\n"
     ]
    }
   ],
   "source": [
    "model = FineTuneClassifier()\n",
    "out = model(input_ids=sample['post_input_ids'], attention_masks=sample['post_attention_mask'])"
   ]
  },
  {
   "cell_type": "code",
   "execution_count": 9,
   "metadata": {},
   "outputs": [
    {
     "data": {
      "text/plain": [
       "SequenceClassifierOutput(loss=None, logits=tensor([[0.2113, 0.7564],\n",
       "        [0.1775, 0.7651],\n",
       "        [0.2064, 0.8715]], grad_fn=<AddmmBackward>), hidden_states=None, attentions=None)"
      ]
     },
     "execution_count": 9,
     "metadata": {},
     "output_type": "execute_result"
    }
   ],
   "source": [
    "out"
   ]
  },
  {
   "cell_type": "code",
   "execution_count": 2,
   "metadata": {},
   "outputs": [
    {
     "name": "stderr",
     "output_type": "stream",
     "text": [
      "Some weights of the model checkpoint at bert-base-cased were not used when initializing BertForSequenceClassification: ['cls.seq_relationship.weight', 'cls.predictions.bias', 'cls.predictions.transform.LayerNorm.weight', 'cls.predictions.transform.dense.bias', 'cls.seq_relationship.bias', 'cls.predictions.transform.LayerNorm.bias', 'cls.predictions.transform.dense.weight', 'cls.predictions.decoder.weight']\n",
      "- This IS expected if you are initializing BertForSequenceClassification from the checkpoint of a model trained on another task or with another architecture (e.g. initializing a BertForSequenceClassification model from a BertForPreTraining model).\n",
      "- This IS NOT expected if you are initializing BertForSequenceClassification from the checkpoint of a model that you expect to be exactly identical (initializing a BertForSequenceClassification model from a BertForSequenceClassification model).\n",
      "Some weights of BertForSequenceClassification were not initialized from the model checkpoint at bert-base-cased and are newly initialized: ['classifier.weight', 'classifier.bias']\n",
      "You should probably TRAIN this model on a down-stream task to be able to use it for predictions and inference.\n"
     ]
    },
    {
     "name": "stdout",
     "output_type": "stream",
     "text": [
      "connection established\n",
      "[(datetime.datetime(2021, 6, 14, 17, 1, 30),)]\n"
     ]
    },
    {
     "name": "stderr",
     "output_type": "stream",
     "text": [
      "\r",
      "Determining Sentiment From Posts:   0%|          | 0/1 [00:00<?, ?it/s]"
     ]
    },
    {
     "name": "stdout",
     "output_type": "stream",
     "text": [
      "connection established\n",
      "[(datetime.datetime(2021, 6, 14, 17, 1, 32),)]\n",
      "connection established\n",
      "[(datetime.datetime(2021, 6, 14, 17, 1, 33),)]\n"
     ]
    },
    {
     "name": "stderr",
     "output_type": "stream",
     "text": [
      "/Users/ianleefmans/opt/anaconda3/envs/StockSentiment/lib/python3.7/site-packages/transformers/tokenization_utils_base.py:2110: FutureWarning: The `pad_to_max_length` argument is deprecated and will be removed in a future version, use `padding=True` or `padding='longest'` to pad to the longest sequence in the batch, or use `padding='max_length'` to pad to a max length. In this case, you can give a specific length with `max_length` (e.g. `max_length=45`) or leave max_length to None to pad to the maximal input size of the model (e.g. 512 for Bert).\n",
      "  FutureWarning,\n"
     ]
    },
    {
     "name": "stdout",
     "output_type": "stream",
     "text": [
      "connection established\n",
      "[(datetime.datetime(2021, 6, 14, 17, 1, 33),)]\n",
      "connection established\n",
      "[(datetime.datetime(2021, 6, 14, 17, 1, 34),)]\n",
      "connection established\n",
      "[(datetime.datetime(2021, 6, 14, 17, 1, 34),)]\n",
      "connection established\n",
      "[(datetime.datetime(2021, 6, 14, 17, 1, 35),)]\n",
      "connection established\n",
      "[(datetime.datetime(2021, 6, 14, 17, 1, 35),)]\n",
      "connection established\n",
      "[(datetime.datetime(2021, 6, 14, 17, 1, 36),)]\n",
      "connection established\n",
      "[(datetime.datetime(2021, 6, 14, 17, 1, 36),)]\n",
      "connection established\n",
      "[(datetime.datetime(2021, 6, 14, 17, 1, 37),)]\n",
      "connection established\n",
      "[(datetime.datetime(2021, 6, 14, 17, 1, 37),)]\n"
     ]
    },
    {
     "name": "stderr",
     "output_type": "stream",
     "text": [
      "Determining Sentiment From Posts: 100%|██████████| 1/1 [00:21<00:00, 21.32s/it]\n",
      "Determining Sentiment From Comments: 100%|██████████| 2/2 [01:39<00:00, 49.56s/it]\n"
     ]
    }
   ],
   "source": [
    "run_inference = RunInference(stock_id='BB')\n",
    "inference_output = run_inference.evaluate()\n",
    "\n",
    "post_probs = inference_output['avg_post_probs']\n",
    "\n",
    "comment_probs = inference_output['avg_comment_probs']"
   ]
  },
  {
   "cell_type": "code",
   "execution_count": 3,
   "metadata": {},
   "outputs": [
    {
     "data": {
      "text/plain": [
       "tensor([0.7672, 0.2328])"
      ]
     },
     "execution_count": 3,
     "metadata": {},
     "output_type": "execute_result"
    }
   ],
   "source": [
    "post_probs"
   ]
  },
  {
   "cell_type": "code",
   "execution_count": 4,
   "metadata": {},
   "outputs": [
    {
     "data": {
      "text/plain": [
       "tensor([0.7638, 0.2362])"
      ]
     },
     "execution_count": 4,
     "metadata": {},
     "output_type": "execute_result"
    }
   ],
   "source": [
    "comment_probs"
   ]
  },
  {
   "cell_type": "code",
   "execution_count": 5,
   "metadata": {},
   "outputs": [],
   "source": [
    "all_post_probs = inference_output['all_post_probs']\n",
    "all_comment_probs = inference_output['all_comment_probs']"
   ]
  },
  {
   "cell_type": "code",
   "execution_count": 11,
   "metadata": {},
   "outputs": [
    {
     "data": {
      "text/plain": [
       "tensor([[0.7791, 0.2209],\n",
       "        [0.7635, 0.2365],\n",
       "        [0.7730, 0.2270],\n",
       "        [0.7626, 0.2374],\n",
       "        [0.7716, 0.2284],\n",
       "        [0.7655, 0.2345],\n",
       "        [0.7509, 0.2491],\n",
       "        [0.7704, 0.2296],\n",
       "        [0.7654, 0.2346],\n",
       "        [0.7704, 0.2296]])"
      ]
     },
     "execution_count": 11,
     "metadata": {},
     "output_type": "execute_result"
    }
   ],
   "source": [
    "all_post_probs"
   ]
  },
  {
   "cell_type": "code",
   "execution_count": 38,
   "metadata": {},
   "outputs": [],
   "source": [
    "import pandas as pd\n",
    "from matplotlib import pyplot as plt\n",
    "import seaborn as sns\n",
    "\n",
    "\n"
   ]
  },
  {
   "cell_type": "code",
   "execution_count": 46,
   "metadata": {},
   "outputs": [
    {
     "data": {
      "image/png": "[encoded data removed]",
      "text/plain": [
       "<Figure size 432x288 with 1 Axes>"
      ]
     },
     "metadata": {
      "needs_background": "light"
     },
     "output_type": "display_data"
    }
   ],
   "source": [
    "ser = pd.Series(all_post_probs[:,1])\n",
    "\n",
    "sns.kdeplot(ser, color=\"darkorange\", shade=True);\n",
    "# df = ser.to_frame()\n",
    "# df.rename(columns={0:'post_probs'}, inplace=True)\n",
    "# df.reset_index(inplace=True)\n",
    "#df.plot.scatter(x='index', y=0)"
   ]
  },
  {
   "cell_type": "code",
   "execution_count": 7,
   "metadata": {},
   "outputs": [
    {
     "data": {
      "text/plain": [
       "tensor([[0.7604, 0.2396],\n",
       "        [0.7518, 0.2482],\n",
       "        [0.7723, 0.2277],\n",
       "        [0.7716, 0.2284],\n",
       "        [0.7508, 0.2492],\n",
       "        [0.7618, 0.2382],\n",
       "        [0.7722, 0.2278],\n",
       "        [0.7670, 0.2330],\n",
       "        [0.7587, 0.2413],\n",
       "        [0.7611, 0.2389],\n",
       "        [0.7651, 0.2349],\n",
       "        [0.7816, 0.2184],\n",
       "        [0.7610, 0.2390],\n",
       "        [0.7634, 0.2366],\n",
       "        [0.7697, 0.2303],\n",
       "        [0.7680, 0.2320],\n",
       "        [0.7722, 0.2278],\n",
       "        [0.7743, 0.2257],\n",
       "        [0.7654, 0.2346],\n",
       "        [0.7648, 0.2352],\n",
       "        [0.7728, 0.2272],\n",
       "        [0.7570, 0.2430],\n",
       "        [0.7581, 0.2419],\n",
       "        [0.7626, 0.2374],\n",
       "        [0.7695, 0.2305],\n",
       "        [0.7559, 0.2441],\n",
       "        [0.7705, 0.2295],\n",
       "        [0.7588, 0.2412],\n",
       "        [0.7704, 0.2296],\n",
       "        [0.7501, 0.2499],\n",
       "        [0.7649, 0.2351],\n",
       "        [0.7705, 0.2295],\n",
       "        [0.7688, 0.2312],\n",
       "        [0.7670, 0.2330],\n",
       "        [0.7519, 0.2481],\n",
       "        [0.7464, 0.2536],\n",
       "        [0.7651, 0.2349],\n",
       "        [0.7705, 0.2295],\n",
       "        [0.7565, 0.2435],\n",
       "        [0.7488, 0.2512],\n",
       "        [0.7691, 0.2309],\n",
       "        [0.7427, 0.2573],\n",
       "        [0.7524, 0.2476],\n",
       "        [0.7670, 0.2330],\n",
       "        [0.7707, 0.2293],\n",
       "        [0.7614, 0.2386],\n",
       "        [0.7490, 0.2510],\n",
       "        [0.7783, 0.2217],\n",
       "        [0.7842, 0.2158],\n",
       "        [0.7633, 0.2367]])"
      ]
     },
     "execution_count": 7,
     "metadata": {},
     "output_type": "execute_result"
    }
   ],
   "source": [
    "all_comment_probs"
   ]
  },
  {
   "cell_type": "code",
   "execution_count": 26,
   "metadata": {},
   "outputs": [
    {
     "data": {
      "text/plain": [
       "torch.Size([6, 2])"
      ]
     },
     "execution_count": 26,
     "metadata": {},
     "output_type": "execute_result"
    }
   ],
   "source": [
    "import torch\n",
    "torch.cat((out,out), dim=0).size()"
   ]
  },
  {
   "cell_type": "code",
   "execution_count": 22,
   "metadata": {},
   "outputs": [
    {
     "data": {
      "text/plain": [
       "torch.Size([3, 2])"
      ]
     },
     "execution_count": 22,
     "metadata": {},
     "output_type": "execute_result"
    }
   ],
   "source": [
    "out.size()"
   ]
  },
  {
   "cell_type": "code",
   "execution_count": null,
   "metadata": {},
   "outputs": [],
   "source": []
  }
 ],
 "metadata": {
  "kernelspec": {
   "display_name": "Python 3",
   "language": "python",
   "name": "python3"
  },
  "language_info": {
   "codemirror_mode": {
    "name": "ipython",
    "version": 3
   },
   "file_extension": ".py",
   "mimetype": "text/x-python",
   "name": "python",
   "nbconvert_exporter": "python",
   "pygments_lexer": "ipython3",
   "version": "3.7.9"
  }
 },
 "nbformat": 4,
 "nbformat_minor": 4
}
