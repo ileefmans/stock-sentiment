{
 "cells": [
  {
   "cell_type": "code",
   "execution_count": null,
   "metadata": {},
   "outputs": [],
   "source": [
    "import praw\n",
    "from praw.models import MoreComments\n",
    "import pandas as pd\n"
   ]
  },
  {
   "cell_type": "code",
   "execution_count": null,
   "metadata": {},
   "outputs": [],
   "source": [
    "# Create \"reddit\" object\n",
    "reddit = praw.Reddit(client_id='pjzGSwuoF7dgxA', client_secret='PIW3cZ1TiX9i5VVhr-wjdQvWT8ik1w', user_agent='WebScraping')\n",
    "\n",
    "#Blank list for hottest posts and their attributes\n",
    "posts = []\n",
    "\n",
    "# obtain top 10 hottest posts from wallstreetbets\n",
    "hot_posts = reddit.subreddit('wallstreetbets').hot(limit=10)\n",
    "\n",
    "print(\"TOP 10 HOTTEST POSTS ON /rwallstreetbets: \\n \\n\")\n",
    "\n",
    "# Loop through 10 hottest posts and print title\n",
    "count=1\n",
    "for post in hot_posts:\n",
    "    print(\"Post #{}:   {}\\n\".format(count, post.title))\n",
    "    count+=1\n",
    "\n",
    "    # append post attributes to list\n",
    "    posts.append([post.title, post.score, post.id, post.subreddit, post.url, post.num_comments, post.selftext, post.created])\n",
    "\n",
    "# Create Dataframe for top 10 hottest posts\n",
    "posts = pd.DataFrame(posts,columns=['title', 'score', 'id', 'subreddit', 'url', 'num_comments', 'body', 'created'])\n",
    "print(posts)\n",
    "\n",
    "\n",
    "url = posts.url[0]\n",
    "submission = reddit.submission(url = url)\n",
    "\n",
    "print(\"\\n \\n \\n \\n \\n \\n\")\n",
    "# for top_level_comment in submission.comments:\n",
    "#     print(top_level_comment.body)\n",
    "print(len(submission.comments))"
   ]
  }
 ],
 "metadata": {
  "kernelspec": {
   "display_name": "Python 3",
   "language": "python",
   "name": "python3"
  },
  "language_info": {
   "codemirror_mode": {
    "name": "ipython",
    "version": 3
   },
   "file_extension": ".py",
   "mimetype": "text/x-python",
   "name": "python",
   "nbconvert_exporter": "python",
   "pygments_lexer": "ipython3",
   "version": "3.8.3"
  }
 },
 "nbformat": 4,
 "nbformat_minor": 4
}
