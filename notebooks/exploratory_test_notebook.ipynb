{
 "cells": [
  {
   "cell_type": "code",
   "execution_count": 1,
   "metadata": {},
   "outputs": [
    {
     "name": "stdout",
     "output_type": "stream",
     "text": [
      "/Users/ianleefmans/Desktop/stock-sentiment\n"
     ]
    }
   ],
   "source": [
    "import sys\n",
    "sys.path.append('/Users/ianleefmans/Desktop/stock-sentiment/utils')\n",
    "from data import Database, ScrapeWSB, Stock\n",
    "from datahelper import PostDataset, CommentDataset, get_indices\n",
    "from torch.utils.data import DataLoader\n",
    "from inference import RunInference\n",
    "from models import FineTuneBaseModel, FineTuneClassifier\n",
    "%cd /Users/ianleefmans/Desktop/stock-sentiment"
   ]
  },
  {
   "cell_type": "code",
   "execution_count": 2,
   "metadata": {},
   "outputs": [],
   "source": [
    "import transformers\n",
    "import torch\n",
    "from transformers import BertTokenizer, BertForSequenceClassification"
   ]
  },
  {
   "cell_type": "code",
   "execution_count": 82,
   "metadata": {},
   "outputs": [
    {
     "name": "stdout",
     "output_type": "stream",
     "text": [
      "connection established\n",
      "[(datetime.datetime(2021, 6, 14, 18, 22, 44),)]\n",
      "[('COMMENTS',), ('POSTS',), ('STOCKS',)]\n"
     ]
    }
   ],
   "source": [
    "\n",
    "db = Database()\n",
    "db.use_database('DB1')\n",
    "\n",
    "print(db.query('show tables;'))"
   ]
  },
  {
   "cell_type": "code",
   "execution_count": 7,
   "metadata": {},
   "outputs": [
    {
     "data": {
      "text/plain": [
       "[('AMC', datetime.datetime(2021, 6, 6, 22, 15, 44))]"
      ]
     },
     "execution_count": 7,
     "metadata": {},
     "output_type": "execute_result"
    }
   ],
   "source": [
    "db.query(\"SELECT * FROM STOCKS WHERE STOCK_ID='AMC' AND LAST_SCRAPED >= DATE_SUB(NOW(),INTERVAL 55 MINUTE)\")"
   ]
  },
  {
   "cell_type": "code",
   "execution_count": 16,
   "metadata": {},
   "outputs": [
    {
     "data": {
      "text/plain": [
       "[('nx2ihx',),\n",
       " ('nxcb5h',),\n",
       " ('nxp5r6',),\n",
       " ('nxtjj4',),\n",
       " ('nxv9jr',),\n",
       " ('nxx9sz',),\n",
       " ('ny01wx',),\n",
       " ('nz6tgd',),\n",
       " ('nzf0mj',),\n",
       " ('nzjcfg',)]"
      ]
     },
     "execution_count": 16,
     "metadata": {},
     "output_type": "execute_result"
    }
   ],
   "source": [
    "db.query(\"SELECT POST_ID FROM POSTS WHERE STOCK_ID='{}' AND LAST_SCRAPED >= DATE_SUB((SELECT LAST_SCRAPED FROM STOCKS WHERE STOCK_ID = '{}'), INTERVAL {} HOUR);\".format('BB', 'BB', 6))\n",
    "\n"
   ]
  },
  {
   "cell_type": "code",
   "execution_count": 86,
   "metadata": {},
   "outputs": [
    {
     "data": {
      "text/plain": [
       "[('nv0h06',)]"
      ]
     },
     "execution_count": 86,
     "metadata": {},
     "output_type": "execute_result"
    }
   ],
   "source": [
    "db.query(\"SELECT POST_ID FROM POSTS WHERE STOCK_ID='{}' AND LAST_SCRAPED >= DATE_SUB((SELECT LAST_SCRAPED FROM STOCKS WHERE STOCK_ID = '{}'),INTERVAL {} HOUR);\".format('AAPL','AAPL',6))\n",
    "\n"
   ]
  },
  {
   "cell_type": "code",
   "execution_count": 85,
   "metadata": {},
   "outputs": [
    {
     "data": {
      "text/plain": [
       "[(datetime.datetime(2021, 6, 14, 18, 21, 27),),\n",
       " (datetime.datetime(2021, 6, 14, 14, 27, 44),),\n",
       " (datetime.datetime(2021, 6, 14, 14, 27, 44),),\n",
       " (datetime.datetime(2021, 6, 14, 14, 27, 44),),\n",
       " (datetime.datetime(2021, 6, 14, 14, 27, 44),),\n",
       " (datetime.datetime(2021, 6, 14, 14, 27, 44),),\n",
       " (datetime.datetime(2021, 6, 14, 14, 27, 43),),\n",
       " (datetime.datetime(2021, 6, 14, 14, 27, 44),),\n",
       " (datetime.datetime(2021, 6, 14, 14, 27, 43),),\n",
       " (datetime.datetime(2021, 6, 14, 14, 27, 43),),\n",
       " (datetime.datetime(2021, 6, 14, 14, 27, 43),)]"
      ]
     },
     "execution_count": 85,
     "metadata": {},
     "output_type": "execute_result"
    }
   ],
   "source": [
    "db.query(\"SELECT LAST_SCRAPED FROM POSTS WHERE LAST_SCRAPED >= DATE_SUB((SELECT LAST_SCRAPED FROM STOCKS WHERE STOCK_ID = 'AAPL'),INTERVAL 6 HOUR);\")\n",
    "         \n",
    "         \n",
    "         \n"
   ]
  },
  {
   "cell_type": "code",
   "execution_count": 89,
   "metadata": {},
   "outputs": [
    {
     "data": {
      "text/plain": [
       "[('mzzf2q', datetime.datetime(2021, 6, 7, 1, 38, 7)),\n",
       " ('n0ivmx', datetime.datetime(2021, 6, 7, 1, 38, 7)),\n",
       " ('n1kq5z', datetime.datetime(2021, 6, 7, 1, 38, 6)),\n",
       " ('n226xb', datetime.datetime(2021, 6, 7, 1, 38, 6)),\n",
       " ('n2guu3', datetime.datetime(2021, 6, 7, 1, 38, 6)),\n",
       " ('n3m6m0', datetime.datetime(2021, 6, 7, 1, 38, 5)),\n",
       " ('n51zx5', datetime.datetime(2021, 6, 7, 1, 38, 7)),\n",
       " ('n5sglk', datetime.datetime(2021, 6, 7, 1, 38, 7)),\n",
       " ('n6991f', datetime.datetime(2021, 6, 7, 1, 38, 7)),\n",
       " ('n6fa9f', datetime.datetime(2021, 6, 7, 1, 38, 5)),\n",
       " ('n6k7wf', datetime.datetime(2021, 6, 7, 1, 38, 6)),\n",
       " ('n6m3qj', datetime.datetime(2021, 6, 7, 1, 38, 5)),\n",
       " ('n799ne', datetime.datetime(2021, 6, 7, 1, 38, 6)),\n",
       " ('n7fe53', datetime.datetime(2021, 6, 7, 1, 38, 6)),\n",
       " ('n8coni', datetime.datetime(2021, 6, 7, 1, 38, 6)),\n",
       " ('n8mv7h', datetime.datetime(2021, 6, 7, 1, 38, 5)),\n",
       " ('n90iyg', datetime.datetime(2021, 6, 7, 1, 38, 5)),\n",
       " ('n93o6x', datetime.datetime(2021, 6, 7, 1, 38, 5)),\n",
       " ('na8f8j', datetime.datetime(2021, 6, 7, 1, 38, 5)),\n",
       " ('namvm5', datetime.datetime(2021, 6, 7, 1, 38, 4)),\n",
       " ('nbjqzf', datetime.datetime(2021, 6, 7, 1, 38, 5)),\n",
       " ('nekymm', datetime.datetime(2021, 6, 7, 1, 38, 4)),\n",
       " ('nggpql', datetime.datetime(2021, 6, 7, 1, 38, 4)),\n",
       " ('nh66wz', datetime.datetime(2021, 6, 7, 1, 38, 4)),\n",
       " ('nh6ijq', datetime.datetime(2021, 6, 7, 1, 38, 4)),\n",
       " ('njoxij', datetime.datetime(2021, 6, 7, 1, 38, 4)),\n",
       " ('nolej2', datetime.datetime(2021, 6, 7, 1, 38, 3)),\n",
       " ('nquul5', datetime.datetime(2021, 6, 7, 1, 38, 3)),\n",
       " ('nrnkge', datetime.datetime(2021, 6, 7, 1, 38, 3)),\n",
       " ('nv0h06', datetime.datetime(2021, 6, 14, 18, 21, 27))]"
      ]
     },
     "execution_count": 89,
     "metadata": {},
     "output_type": "execute_result"
    }
   ],
   "source": [
    "db.query(\"SELECT POST_ID, LAST_SCRAPED FROM POSTS WHERE STOCK_ID='AAPL'\")"
   ]
  },
  {
   "cell_type": "code",
   "execution_count": 45,
   "metadata": {},
   "outputs": [],
   "source": [
    "indices = db.query(\"SELECT POST_ID FROM POSTS WHERE StOCK_ID='{}';\".format(\"GME\"))"
   ]
  },
  {
   "cell_type": "code",
   "execution_count": 4,
   "metadata": {},
   "outputs": [
    {
     "name": "stdout",
     "output_type": "stream",
     "text": [
      "connection established\n",
      "[(datetime.datetime(2021, 6, 6, 17, 23, 59),)]\n",
      "connection established\n",
      "[(datetime.datetime(2021, 6, 6, 17, 24),)]\n"
     ]
    },
    {
     "name": "stderr",
     "output_type": "stream",
     "text": [
      "\r",
      "  0%|          | 0/11 [00:00<?, ?it/s]"
     ]
    },
    {
     "name": "stdout",
     "output_type": "stream",
     "text": [
      "connection established\n",
      "[(datetime.datetime(2021, 6, 6, 17, 24, 3),)]\n"
     ]
    },
    {
     "name": "stderr",
     "output_type": "stream",
     "text": [
      "100%|██████████| 11/11 [01:08<00:00,  6.24s/it]"
     ]
    },
    {
     "name": "stdout",
     "output_type": "stream",
     "text": [
      "DONE\n"
     ]
    },
    {
     "name": "stderr",
     "output_type": "stream",
     "text": [
      "\n"
     ]
    }
   ],
   "source": [
    "db = Database()\n",
    "db.use_database('DB1')\n",
    "#db.drop_table(\"LABELED_POSTS\")\n",
    "#db.drop_table(\"LABELED_COMMENTS\")\n",
    "\n",
    "db.initialize_tables()\n",
    "\n",
    "scrapewsb = ScrapeWSB('GME', 11, 2)\n",
    "\n",
    "df = scrapewsb.scrape()\n",
    "scrapewsb.convert(df)\n",
    "print(\"DONE\")"
   ]
  },
  {
   "cell_type": "code",
   "execution_count": 4,
   "metadata": {},
   "outputs": [
    {
     "name": "stdout",
     "output_type": "stream",
     "text": [
      "connection established\n",
      "[(datetime.datetime(2021, 5, 30, 0, 20, 6),)]\n"
     ]
    }
   ],
   "source": [
    "db = Database()\n",
    "db.use_database('DB1')"
   ]
  },
  {
   "cell_type": "code",
   "execution_count": 3,
   "metadata": {},
   "outputs": [],
   "source": [
    "db.drop_table('COMMENTS')\n",
    "db.drop_table(\"POSTS\")\n",
    "db.drop_table(\"STOCKS\")"
   ]
  },
  {
   "cell_type": "code",
   "execution_count": null,
   "metadata": {},
   "outputs": [],
   "source": []
  },
  {
   "cell_type": "code",
   "execution_count": 2,
   "metadata": {},
   "outputs": [
    {
     "name": "stdout",
     "output_type": "stream",
     "text": [
      "connection established\n",
      "[(datetime.datetime(2021, 6, 18, 0, 16, 28),)]\n"
     ]
    }
   ],
   "source": [
    "indices = get_indices(\"GME\", inference=True, scrape_time=6)"
   ]
  },
  {
   "cell_type": "code",
   "execution_count": 3,
   "metadata": {},
   "outputs": [
    {
     "name": "stdout",
     "output_type": "stream",
     "text": [
      "connection established\n",
      "[(datetime.datetime(2021, 6, 18, 0, 16, 31),)]\n"
     ]
    }
   ],
   "source": [
    "post_train = PostDataset(512, indices['post_ids'])\n",
    "\n"
   ]
  },
  {
   "cell_type": "code",
   "execution_count": 4,
   "metadata": {},
   "outputs": [],
   "source": [
    "post_trainloader = DataLoader(\n",
    "    dataset=post_train, \n",
    "    batch_size=3, \n",
    "    num_workers=0,\n",
    "    shuffle=True\n",
    "    )"
   ]
  },
  {
   "cell_type": "code",
   "execution_count": 5,
   "metadata": {},
   "outputs": [
    {
     "name": "stderr",
     "output_type": "stream",
     "text": [
      "/Users/ianleefmans/opt/anaconda3/envs/StockSentiment/lib/python3.7/site-packages/transformers/tokenization_utils_base.py:2110: FutureWarning: The `pad_to_max_length` argument is deprecated and will be removed in a future version, use `padding=True` or `padding='longest'` to pad to the longest sequence in the batch, or use `padding='max_length'` to pad to a max length. In this case, you can give a specific length with `max_length` (e.g. `max_length=45`) or leave max_length to None to pad to the maximal input size of the model (e.g. 512 for Bert).\n",
      "  FutureWarning,\n"
     ]
    }
   ],
   "source": [
    "sample = iter(post_trainloader).next()"
   ]
  },
  {
   "cell_type": "code",
   "execution_count": 6,
   "metadata": {},
   "outputs": [
    {
     "data": {
      "text/plain": [
       "{'post': ['(Part 2) AMC & GME Price Action Comparison before their squeeze',\n",
       "  '❗“The Monkey Fool”❗ 🤡: A Parody on How Bullsh!t FUD Campaigns Are Made for GameStop 😹 A Professional',\n",
       "  'AMC YOLO LFG!'],\n",
       " 'post_input_ids': tensor([[  101,   113,  4539,  ...,     0,     0,     0],\n",
       "         [  101,   100,   789,  ...,     0,     0,     0],\n",
       "         [  101, 24810,   162,  ...,     0,     0,     0]]),\n",
       " 'post_attention_mask': tensor([[1, 1, 1,  ..., 0, 0, 0],\n",
       "         [1, 1, 1,  ..., 0, 0, 0],\n",
       "         [1, 1, 1,  ..., 0, 0, 0]]),\n",
       " 'target': tensor([0, 0, 1])}"
      ]
     },
     "execution_count": 6,
     "metadata": {},
     "output_type": "execute_result"
    }
   ],
   "source": [
    "sample\n"
   ]
  },
  {
   "cell_type": "code",
   "execution_count": 7,
   "metadata": {},
   "outputs": [
    {
     "name": "stderr",
     "output_type": "stream",
     "text": [
      "Some weights of the model checkpoint at bert-base-cased were not used when initializing BertForSequenceClassification: ['cls.predictions.transform.dense.bias', 'cls.seq_relationship.weight', 'cls.predictions.transform.dense.weight', 'cls.predictions.transform.LayerNorm.bias', 'cls.predictions.bias', 'cls.seq_relationship.bias', 'cls.predictions.decoder.weight', 'cls.predictions.transform.LayerNorm.weight']\n",
      "- This IS expected if you are initializing BertForSequenceClassification from the checkpoint of a model trained on another task or with another architecture (e.g. initializing a BertForSequenceClassification model from a BertForPreTraining model).\n",
      "- This IS NOT expected if you are initializing BertForSequenceClassification from the checkpoint of a model that you expect to be exactly identical (initializing a BertForSequenceClassification model from a BertForSequenceClassification model).\n",
      "Some weights of BertForSequenceClassification were not initialized from the model checkpoint at bert-base-cased and are newly initialized: ['classifier.weight', 'classifier.bias']\n",
      "You should probably TRAIN this model on a down-stream task to be able to use it for predictions and inference.\n"
     ]
    }
   ],
   "source": [
    "model = FineTuneClassifier()\n",
    "\n",
    "out = model(input_ids=sample['post_input_ids'], attention_masks=sample['post_attention_mask'])"
   ]
  },
  {
   "cell_type": "code",
   "execution_count": 8,
   "metadata": {},
   "outputs": [
    {
     "data": {
      "text/plain": [
       "tensor([[0.5016, 0.4984],\n",
       "        [0.5107, 0.4893],\n",
       "        [0.4868, 0.5132]], grad_fn=<SoftmaxBackward>)"
      ]
     },
     "execution_count": 8,
     "metadata": {},
     "output_type": "execute_result"
    }
   ],
   "source": [
    "out"
   ]
  },
  {
   "cell_type": "code",
   "execution_count": 20,
   "metadata": {},
   "outputs": [],
   "source": [
    "max_pos = {}"
   ]
  },
  {
   "cell_type": "code",
   "execution_count": 18,
   "metadata": {},
   "outputs": [
    {
     "data": {
      "text/plain": [
       "0.5132220983505249"
      ]
     },
     "execution_count": 18,
     "metadata": {},
     "output_type": "execute_result"
    }
   ],
   "source": [
    "float(out[:,1].max())"
   ]
  },
  {
   "cell_type": "code",
   "execution_count": 21,
   "metadata": {},
   "outputs": [],
   "source": [
    "max_pos[float(out[:,1].max())] = sample['post'][int(out[:,1].argmax())]"
   ]
  },
  {
   "cell_type": "code",
   "execution_count": 22,
   "metadata": {},
   "outputs": [
    {
     "data": {
      "text/plain": [
       "{0.5132220983505249: 'AMC YOLO LFG!'}"
      ]
     },
     "execution_count": 22,
     "metadata": {},
     "output_type": "execute_result"
    }
   ],
   "source": [
    "max_pos"
   ]
  },
  {
   "cell_type": "code",
   "execution_count": 2,
   "metadata": {},
   "outputs": [
    {
     "name": "stdout",
     "output_type": "stream",
     "text": [
      "connection established\n",
      "[(datetime.datetime(2021, 6, 18, 0, 20, 42),)]\n",
      "connection established\n",
      "[(datetime.datetime(2021, 6, 18, 0, 20, 44),)]\n"
     ]
    },
    {
     "name": "stderr",
     "output_type": "stream",
     "text": [
      "\r",
      "Determining Sentiment From Posts:   0%|          | 0/1 [00:00<?, ?it/s]"
     ]
    },
    {
     "name": "stdout",
     "output_type": "stream",
     "text": [
      "connection established\n",
      "[(datetime.datetime(2021, 6, 18, 0, 20, 45),)]\n"
     ]
    },
    {
     "name": "stderr",
     "output_type": "stream",
     "text": [
      "Determining Sentiment From Posts: 100%|██████████| 1/1 [00:06<00:00,  6.28s/it]\n",
      "Determining Sentiment From Comments: 100%|██████████| 1/1 [00:06<00:00,  6.85s/it]\n"
     ]
    }
   ],
   "source": [
    "run_inference = RunInference(stock_id='GME')\n",
    "inference_output = run_inference.evaluate()\n",
    "\n",
    "post_probs = inference_output['avg_post_probs']\n",
    "\n",
    "comment_probs = inference_output['avg_comment_probs']"
   ]
  },
  {
   "cell_type": "code",
   "execution_count": 3,
   "metadata": {},
   "outputs": [],
   "source": [
    "all_post_probs = inference_output['all_post_probs']\n",
    "all_comment_probs = inference_output['all_comment_probs']"
   ]
  },
  {
   "cell_type": "code",
   "execution_count": 4,
   "metadata": {},
   "outputs": [
    {
     "data": {
      "text/plain": [
       "tensor([[9.9838e-01, 1.6161e-03],\n",
       "        [3.9883e-04, 9.9960e-01],\n",
       "        [1.4419e-04, 9.9986e-01]])"
      ]
     },
     "execution_count": 4,
     "metadata": {},
     "output_type": "execute_result"
    }
   ],
   "source": [
    "all_post_probs"
   ]
  },
  {
   "cell_type": "code",
   "execution_count": 5,
   "metadata": {},
   "outputs": [
    {
     "data": {
      "text/plain": [
       "tensor([[0.9948, 0.0052],\n",
       "        [0.0657, 0.9343],\n",
       "        [0.9922, 0.0078]])"
      ]
     },
     "execution_count": 5,
     "metadata": {},
     "output_type": "execute_result"
    }
   ],
   "source": [
    "all_comment_probs"
   ]
  },
  {
   "cell_type": "code",
   "execution_count": 2,
   "metadata": {},
   "outputs": [],
   "source": [
    "stock = Stock()\n",
    "stock.set_start([2021, 7, 16, 0, 0, 0])\n",
    "data = stock.pull_data('GME')"
   ]
  },
  {
   "cell_type": "code",
   "execution_count": 4,
   "metadata": {},
   "outputs": [
    {
     "data": {
      "text/plain": [
       "[172.99,\n",
       " 173.1,\n",
       " 174.0,\n",
       " 174.01,\n",
       " 174.0,\n",
       " 175.0,\n",
       " 174.0,\n",
       " 174.03,\n",
       " 174.0,\n",
       " 174.09,\n",
       " 173.75,\n",
       " 174.0,\n",
       " 173.4,\n",
       " 173.4,\n",
       " 174.5,\n",
       " 174.74,\n",
       " 174.49,\n",
       " 173.52,\n",
       " 173.5,\n",
       " 173.0,\n",
       " 173.0,\n",
       " 173.0,\n",
       " 173.0,\n",
       " 172.95,\n",
       " 173.4,\n",
       " 173.0,\n",
       " 173.11,\n",
       " 174.25,\n",
       " 174.34,\n",
       " 174.0,\n",
       " 174.44,\n",
       " 174.0,\n",
       " 174.0,\n",
       " 173.65,\n",
       " 173.15,\n",
       " 173.35,\n",
       " 173.46,\n",
       " 173.5,\n",
       " 173.4,\n",
       " 170.25,\n",
       " 171.58,\n",
       " 171.03,\n",
       " 170.855,\n",
       " 169.17,\n",
       " 169.0,\n",
       " 168.84,\n",
       " 169.0,\n",
       " 170.0,\n",
       " 170.59,\n",
       " 169.78,\n",
       " 168.5,\n",
       " 169.5,\n",
       " 170.46,\n",
       " 171.24,\n",
       " 171.48,\n",
       " 171.5,\n",
       " 171.1,\n",
       " 170.42,\n",
       " 170.71,\n",
       " 169.69,\n",
       " 169.59,\n",
       " 168.86,\n",
       " 169.35,\n",
       " 169.71,\n",
       " 170.86,\n",
       " 170.45,\n",
       " 170.23,\n",
       " 169.5,\n",
       " 168.46,\n",
       " 168.83,\n",
       " 169.29,\n",
       " 168.6,\n",
       " 168.56,\n",
       " 168.48,\n",
       " 169.06,\n",
       " 168.5,\n",
       " 169.5,\n",
       " 169.07,\n",
       " 168.22,\n",
       " 167.47,\n",
       " 167.21,\n",
       " 166.74,\n",
       " 166.67,\n",
       " 166.82,\n",
       " 166.54,\n",
       " 167.42,\n",
       " 168.12,\n",
       " 168.42,\n",
       " 168.0,\n",
       " 168.61,\n",
       " 168.61,\n",
       " 168.72,\n",
       " 168.5,\n",
       " 169.34,\n",
       " 169.0,\n",
       " 168.77,\n",
       " 169.4,\n",
       " 169.48,\n",
       " 170.005,\n",
       " 170.0,\n",
       " 171.57,\n",
       " 171.89,\n",
       " 171.01,\n",
       " 171.8,\n",
       " 172.0,\n",
       " 171.86,\n",
       " 171.0,\n",
       " 171.99,\n",
       " 172.37,\n",
       " 172.2,\n",
       " 173.47,\n",
       " 173.09,\n",
       " 172.27,\n",
       " 172.6,\n",
       " 172.78,\n",
       " 172.96,\n",
       " 172.0,\n",
       " 172.03,\n",
       " 171.91,\n",
       " 172.63,\n",
       " 172.95,\n",
       " 172.96,\n",
       " 172.5,\n",
       " 171.83,\n",
       " 172.0,\n",
       " 171.92,\n",
       " 172.33,\n",
       " 172.27,\n",
       " 171.98,\n",
       " 172.29,\n",
       " 172.3,\n",
       " 172.2,\n",
       " 172.19,\n",
       " 171.94,\n",
       " 171.98,\n",
       " 171.9,\n",
       " 172.03,\n",
       " 173.0,\n",
       " 173.2,\n",
       " 173.39,\n",
       " 174.27,\n",
       " 174.15,\n",
       " 173.86,\n",
       " 174.13,\n",
       " 174.168,\n",
       " 174.51,\n",
       " 174.32,\n",
       " 173.35,\n",
       " 173.69,\n",
       " 173.255,\n",
       " 172.89,\n",
       " 172.74,\n",
       " 173.24,\n",
       " 173.71,\n",
       " 174.05,\n",
       " 174.43,\n",
       " 175.79,\n",
       " 175.36,\n",
       " 175.0,\n",
       " 175.1,\n",
       " 175.192,\n",
       " 175.59,\n",
       " 176.13,\n",
       " 175.8,\n",
       " 176.61,\n",
       " 177.56,\n",
       " 178.3,\n",
       " 179.05,\n",
       " 176.8,\n",
       " 177.49,\n",
       " 177.4,\n",
       " 177.2,\n",
       " 177.04,\n",
       " 177.02,\n",
       " 178.74,\n",
       " 177.25,\n",
       " 176.76,\n",
       " 176.34,\n",
       " 176.33,\n",
       " 176.54,\n",
       " 176.76,\n",
       " 176.12,\n",
       " 175.49,\n",
       " 175.79,\n",
       " 175.38,\n",
       " 176.25,\n",
       " 176.49,\n",
       " 176.5,\n",
       " 176.57,\n",
       " 176.61,\n",
       " 176.75,\n",
       " 175.82,\n",
       " 175.64,\n",
       " 175.41,\n",
       " 174.92,\n",
       " 175.16,\n",
       " 175.14,\n",
       " 175.57,\n",
       " 175.44,\n",
       " 175.69,\n",
       " 175.0,\n",
       " 174.89,\n",
       " 174.73,\n",
       " 174.13,\n",
       " 173.53,\n",
       " 174.04,\n",
       " 173.95,\n",
       " 173.79,\n",
       " 173.97,\n",
       " 174.71,\n",
       " 174.0,\n",
       " 174.07,\n",
       " 173.82,\n",
       " 173.73,\n",
       " 173.66,\n",
       " 173.89,\n",
       " 173.66,\n",
       " 173.96,\n",
       " 174.0,\n",
       " 173.79,\n",
       " 173.63,\n",
       " 173.5,\n",
       " 173.91,\n",
       " 174.4,\n",
       " 174.47,\n",
       " 174.66,\n",
       " 174.36,\n",
       " 174.28,\n",
       " 174.54,\n",
       " 174.5,\n",
       " 174.5,\n",
       " 175.02,\n",
       " 175.2,\n",
       " 175.22,\n",
       " 175.52,\n",
       " 175.51,\n",
       " 175.33,\n",
       " 175.46,\n",
       " 175.38,\n",
       " 175.4,\n",
       " 175.5,\n",
       " 175.49,\n",
       " 175.72,\n",
       " 175.75,\n",
       " 175.52,\n",
       " 175.18,\n",
       " 175.5,\n",
       " 175.37,\n",
       " 175.39,\n",
       " 175.07,\n",
       " 174.95,\n",
       " 174.66,\n",
       " 174.83,\n",
       " 174.92,\n",
       " 174.83,\n",
       " 174.77,\n",
       " 174.1,\n",
       " 174.37,\n",
       " 174.24,\n",
       " 174.27,\n",
       " 174.185,\n",
       " 174.48,\n",
       " 174.16,\n",
       " 173.87,\n",
       " 173.9,\n",
       " 173.62,\n",
       " 173.62,\n",
       " 173.71,\n",
       " 173.55,\n",
       " 173.75,\n",
       " 173.84,\n",
       " 174.1,\n",
       " 174.0,\n",
       " 174.32,\n",
       " 174.77,\n",
       " 174.58,\n",
       " 174.75,\n",
       " 174.42,\n",
       " 174.22,\n",
       " 174.4,\n",
       " 174.46,\n",
       " 174.24,\n",
       " 174.2,\n",
       " 174.02,\n",
       " 174.33,\n",
       " 173.98,\n",
       " 174.15,\n",
       " 174.39,\n",
       " 175.35,\n",
       " 174.765,\n",
       " 175.17,\n",
       " 174.98,\n",
       " 174.75,\n",
       " 175.0,\n",
       " 174.75,\n",
       " 174.68,\n",
       " 174.61,\n",
       " 175.0,\n",
       " 175.19,\n",
       " 175.5,\n",
       " 175.46,\n",
       " 175.31,\n",
       " 175.3,\n",
       " 174.95,\n",
       " 174.97,\n",
       " 175.66,\n",
       " 175.42,\n",
       " 175.92,\n",
       " 175.66,\n",
       " 175.8,\n",
       " 175.77,\n",
       " 175.37,\n",
       " 175.569,\n",
       " 175.88,\n",
       " 175.26,\n",
       " 174.78,\n",
       " 174.48,\n",
       " 173.45,\n",
       " 173.27,\n",
       " 173.28,\n",
       " 173.65,\n",
       " 173.28,\n",
       " 172.85,\n",
       " 173.32,\n",
       " 173.32,\n",
       " 173.0,\n",
       " 173.06,\n",
       " 173.0,\n",
       " 173.35,\n",
       " 173.45,\n",
       " 173.45,\n",
       " 173.49,\n",
       " 173.0,\n",
       " 173.26,\n",
       " 173.08,\n",
       " 172.78,\n",
       " 173.17,\n",
       " 172.4,\n",
       " 172.0,\n",
       " 172.21,\n",
       " 172.35,\n",
       " 171.8,\n",
       " 171.71,\n",
       " 171.36,\n",
       " 171.57,\n",
       " 171.86,\n",
       " 171.94,\n",
       " 171.65,\n",
       " 171.18,\n",
       " 171.18,\n",
       " 171.33,\n",
       " 171.29,\n",
       " 171.1,\n",
       " 171.1,\n",
       " 170.29,\n",
       " 170.38,\n",
       " 170.42,\n",
       " 170.8,\n",
       " 170.49,\n",
       " 170.09,\n",
       " 170.02,\n",
       " 170.05,\n",
       " 169.385,\n",
       " 169.46,\n",
       " 169.43,\n",
       " 170.0,\n",
       " 169.98,\n",
       " 169.83,\n",
       " 169.74,\n",
       " 169.82,\n",
       " 169.61,\n",
       " 169.73,\n",
       " 169.56,\n",
       " 169.3,\n",
       " 169.22,\n",
       " 169.36,\n",
       " 169.57,\n",
       " 169.5,\n",
       " 169.81,\n",
       " 169.5,\n",
       " 169.88,\n",
       " 169.8,\n",
       " 169.35,\n",
       " 169.12,\n",
       " 169.03,\n",
       " 169.08,\n",
       " 168.8,\n",
       " 168.89,\n",
       " 168.72,\n",
       " 168.33,\n",
       " 168.27,\n",
       " 168.455,\n",
       " 169.245,\n",
       " 169.15,\n",
       " 169.49,\n",
       " 169.26,\n",
       " 169.5,\n",
       " 169.69,\n",
       " 169.54,\n",
       " 169.59,\n",
       " 169.29,\n",
       " 169.345,\n",
       " 169.53,\n",
       " 169.325,\n",
       " 169.7,\n",
       " 169.51,\n",
       " 169.05,\n",
       " 169.04,\n",
       " 169.1,\n",
       " 169.0,\n",
       " 168.25,\n",
       " 168.16,\n",
       " 168.24,\n",
       " 168.6,\n",
       " 168.01,\n",
       " 168.0,\n",
       " 168.53,\n",
       " 168.89,\n",
       " 168.02,\n",
       " 168.8,\n",
       " 168.54,\n",
       " 168.45,\n",
       " 168.05,\n",
       " 168.0,\n",
       " 167.27,\n",
       " 167.5,\n",
       " 167.45,\n",
       " 167.49,\n",
       " 167.0,\n",
       " 167.0,\n",
       " 168.0,\n",
       " 168.0]"
      ]
     },
     "execution_count": 4,
     "metadata": {},
     "output_type": "execute_result"
    }
   ],
   "source": [
    "data['close']"
   ]
  },
  {
   "cell_type": "code",
   "execution_count": null,
   "metadata": {},
   "outputs": [],
   "source": []
  }
 ],
 "metadata": {
  "kernelspec": {
   "display_name": "Python 3",
   "language": "python",
   "name": "python3"
  },
  "language_info": {
   "codemirror_mode": {
    "name": "ipython",
    "version": 3
   },
   "file_extension": ".py",
   "mimetype": "text/x-python",
   "name": "python",
   "nbconvert_exporter": "python",
   "pygments_lexer": "ipython3",
   "version": "3.7.9"
  }
 },
 "nbformat": 4,
 "nbformat_minor": 4
}
