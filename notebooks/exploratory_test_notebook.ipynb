{
 "cells": [
  {
   "cell_type": "code",
   "execution_count": 1,
   "metadata": {},
   "outputs": [
    {
     "name": "stdout",
     "output_type": "stream",
     "text": [
      "/Users/ianleefmans/Desktop/stock-sentiment\n"
     ]
    }
   ],
   "source": [
    "import sys\n",
    "sys.path.append('/Users/ianleefmans/Desktop/stock-sentiment/utils')\n",
    "from data import Database, ScrapeWSB, Stock\n",
    "from datahelper import PostDataset, CommentDataset, get_indices\n",
    "from torch.utils.data import DataLoader\n",
    "from inference import RunInference\n",
    "from models import FineTuneBaseModel, FineTuneClassifier\n",
    "%cd /Users/ianleefmans/Desktop/stock-sentiment"
   ]
  },
  {
   "cell_type": "code",
   "execution_count": 2,
   "metadata": {},
   "outputs": [],
   "source": [
    "import transformers\n",
    "import torch\n",
    "from transformers import BertTokenizer, BertForSequenceClassification"
   ]
  },
  {
   "cell_type": "markdown",
   "metadata": {},
   "source": [
    "### DB Queries"
   ]
  },
  {
   "cell_type": "code",
   "execution_count": 4,
   "metadata": {},
   "outputs": [
    {
     "name": "stdout",
     "output_type": "stream",
     "text": [
      "connection established\n",
      "[(datetime.datetime(2021, 10, 6, 18, 26, 27),)]\n",
      "[('COMMENTS',), ('POSTS',), ('STOCKS',)]\n"
     ]
    }
   ],
   "source": [
    "\n",
    "db = Database()\n",
    "db.use_database('DB1')\n",
    "\n",
    "print(db.query('show tables;'))"
   ]
  },
  {
   "cell_type": "code",
   "execution_count": 7,
   "metadata": {},
   "outputs": [
    {
     "data": {
      "text/plain": [
       "[('AMC', datetime.datetime(2021, 6, 6, 22, 15, 44))]"
      ]
     },
     "execution_count": 7,
     "metadata": {},
     "output_type": "execute_result"
    }
   ],
   "source": [
    "db.query(\"SELECT * FROM STOCKS WHERE STOCK_ID='AMC' AND LAST_SCRAPED >= DATE_SUB(NOW(),INTERVAL 55 MINUTE)\")"
   ]
  },
  {
   "cell_type": "code",
   "execution_count": 16,
   "metadata": {},
   "outputs": [
    {
     "data": {
      "text/plain": [
       "[('nx2ihx',),\n",
       " ('nxcb5h',),\n",
       " ('nxp5r6',),\n",
       " ('nxtjj4',),\n",
       " ('nxv9jr',),\n",
       " ('nxx9sz',),\n",
       " ('ny01wx',),\n",
       " ('nz6tgd',),\n",
       " ('nzf0mj',),\n",
       " ('nzjcfg',)]"
      ]
     },
     "execution_count": 16,
     "metadata": {},
     "output_type": "execute_result"
    }
   ],
   "source": [
    "db.query(\"SELECT POST_ID FROM POSTS WHERE STOCK_ID='{}' AND LAST_SCRAPED >= DATE_SUB((SELECT LAST_SCRAPED FROM STOCKS WHERE STOCK_ID = '{}'), INTERVAL {} HOUR);\".format('BB', 'BB', 6))\n",
    "\n"
   ]
  },
  {
   "cell_type": "code",
   "execution_count": 86,
   "metadata": {},
   "outputs": [
    {
     "data": {
      "text/plain": [
       "[('nv0h06',)]"
      ]
     },
     "execution_count": 86,
     "metadata": {},
     "output_type": "execute_result"
    }
   ],
   "source": [
    "db.query(\"SELECT POST_ID FROM POSTS WHERE STOCK_ID='{}' AND LAST_SCRAPED >= DATE_SUB((SELECT LAST_SCRAPED FROM STOCKS WHERE STOCK_ID = '{}'),INTERVAL {} HOUR);\".format('AAPL','AAPL',6))\n",
    "\n"
   ]
  },
  {
   "cell_type": "code",
   "execution_count": 85,
   "metadata": {},
   "outputs": [
    {
     "data": {
      "text/plain": [
       "[(datetime.datetime(2021, 6, 14, 18, 21, 27),),\n",
       " (datetime.datetime(2021, 6, 14, 14, 27, 44),),\n",
       " (datetime.datetime(2021, 6, 14, 14, 27, 44),),\n",
       " (datetime.datetime(2021, 6, 14, 14, 27, 44),),\n",
       " (datetime.datetime(2021, 6, 14, 14, 27, 44),),\n",
       " (datetime.datetime(2021, 6, 14, 14, 27, 44),),\n",
       " (datetime.datetime(2021, 6, 14, 14, 27, 43),),\n",
       " (datetime.datetime(2021, 6, 14, 14, 27, 44),),\n",
       " (datetime.datetime(2021, 6, 14, 14, 27, 43),),\n",
       " (datetime.datetime(2021, 6, 14, 14, 27, 43),),\n",
       " (datetime.datetime(2021, 6, 14, 14, 27, 43),)]"
      ]
     },
     "execution_count": 85,
     "metadata": {},
     "output_type": "execute_result"
    }
   ],
   "source": [
    "db.query(\"SELECT LAST_SCRAPED FROM POSTS WHERE LAST_SCRAPED >= DATE_SUB((SELECT LAST_SCRAPED FROM STOCKS WHERE STOCK_ID = 'AAPL'),INTERVAL 6 HOUR);\")\n",
    "         \n",
    "         \n",
    "         \n"
   ]
  },
  {
   "cell_type": "markdown",
   "metadata": {},
   "source": [
    "### Running Inference"
   ]
  },
  {
   "cell_type": "code",
   "execution_count": 2,
   "metadata": {},
   "outputs": [
    {
     "name": "stdout",
     "output_type": "stream",
     "text": [
      "connection established\n",
      "[(datetime.datetime(2021, 10, 6, 19, 48, 59),)]\n"
     ]
    }
   ],
   "source": [
    "indices = get_indices(\"GME\", inference=True, scrape_time=6)"
   ]
  },
  {
   "cell_type": "code",
   "execution_count": 3,
   "metadata": {},
   "outputs": [
    {
     "name": "stdout",
     "output_type": "stream",
     "text": [
      "connection established\n",
      "[(datetime.datetime(2021, 10, 6, 19, 49, 1),)]\n"
     ]
    }
   ],
   "source": [
    "post_train = PostDataset(512, indices['post_ids'])\n",
    "\n"
   ]
  },
  {
   "cell_type": "code",
   "execution_count": 4,
   "metadata": {},
   "outputs": [],
   "source": [
    "post_trainloader = DataLoader(\n",
    "    dataset=post_train, \n",
    "    batch_size=3, \n",
    "    num_workers=0,\n",
    "    shuffle=True\n",
    "    )"
   ]
  },
  {
   "cell_type": "code",
   "execution_count": 5,
   "metadata": {},
   "outputs": [],
   "source": [
    "sample = iter(post_trainloader).next()"
   ]
  },
  {
   "cell_type": "code",
   "execution_count": 6,
   "metadata": {},
   "outputs": [
    {
     "data": {
      "text/plain": [
       "{'post': ['GIANT $RUN LOVING APE BALLS OUT.....$BB $AMC $GME',\n",
       "  'Jim Cramer WSB FOMO- GME and AMC bull!',\n",
       "  'Daily option statistics for AMC, CLNE, BB, WISH, GME, WKHS, CLOV, PLTR, CLF, and others.'],\n",
       " 'post_input_ids': tensor([[ 101,  144, 9984,  ...,    0,    0,    0],\n",
       "         [ 101, 3104,  140,  ...,    0,    0,    0],\n",
       "         [ 101, 5732, 5146,  ...,    0,    0,    0]]),\n",
       " 'post_attention_mask': tensor([[1, 1, 1,  ..., 0, 0, 0],\n",
       "         [1, 1, 1,  ..., 0, 0, 0],\n",
       "         [1, 1, 1,  ..., 0, 0, 0]]),\n",
       " 'target': tensor([-1, -1, -1]),\n",
       " 'date': tensor([1.6240e+09, 1.6240e+09, 1.6240e+09], dtype=torch.float64)}"
      ]
     },
     "execution_count": 6,
     "metadata": {},
     "output_type": "execute_result"
    }
   ],
   "source": [
    "sample\n"
   ]
  },
  {
   "cell_type": "code",
   "execution_count": 7,
   "metadata": {},
   "outputs": [
    {
     "name": "stderr",
     "output_type": "stream",
     "text": [
      "Some weights of the model checkpoint at bert-base-cased were not used when initializing BertForSequenceClassification: ['cls.predictions.transform.dense.bias', 'cls.seq_relationship.weight', 'cls.predictions.transform.dense.weight', 'cls.predictions.transform.LayerNorm.bias', 'cls.predictions.bias', 'cls.seq_relationship.bias', 'cls.predictions.decoder.weight', 'cls.predictions.transform.LayerNorm.weight']\n",
      "- This IS expected if you are initializing BertForSequenceClassification from the checkpoint of a model trained on another task or with another architecture (e.g. initializing a BertForSequenceClassification model from a BertForPreTraining model).\n",
      "- This IS NOT expected if you are initializing BertForSequenceClassification from the checkpoint of a model that you expect to be exactly identical (initializing a BertForSequenceClassification model from a BertForSequenceClassification model).\n",
      "Some weights of BertForSequenceClassification were not initialized from the model checkpoint at bert-base-cased and are newly initialized: ['classifier.weight', 'classifier.bias']\n",
      "You should probably TRAIN this model on a down-stream task to be able to use it for predictions and inference.\n"
     ]
    }
   ],
   "source": [
    "model = FineTuneClassifier()\n",
    "\n",
    "out = model(input_ids=sample['post_input_ids'], attention_masks=sample['post_attention_mask'])"
   ]
  },
  {
   "cell_type": "code",
   "execution_count": 8,
   "metadata": {},
   "outputs": [
    {
     "data": {
      "text/plain": [
       "tensor([[0.5016, 0.4984],\n",
       "        [0.5107, 0.4893],\n",
       "        [0.4868, 0.5132]], grad_fn=<SoftmaxBackward>)"
      ]
     },
     "execution_count": 8,
     "metadata": {},
     "output_type": "execute_result"
    }
   ],
   "source": [
    "out"
   ]
  },
  {
   "cell_type": "markdown",
   "metadata": {},
   "source": [
    "### Stock Predictions"
   ]
  },
  {
   "cell_type": "code",
   "execution_count": 2,
   "metadata": {},
   "outputs": [
    {
     "name": "stdout",
     "output_type": "stream",
     "text": [
      "connection established\n",
      "[(datetime.datetime(2021, 10, 17, 19, 3, 39),)]\n",
      "connection established\n",
      "[(datetime.datetime(2021, 10, 17, 19, 3, 41),)]\n"
     ]
    },
    {
     "name": "stderr",
     "output_type": "stream",
     "text": [
      "\r",
      "Determining Sentiment From Posts:   0%|          | 0/1 [00:00<?, ?it/s]"
     ]
    },
    {
     "name": "stdout",
     "output_type": "stream",
     "text": [
      "connection established\n",
      "[(datetime.datetime(2021, 10, 17, 19, 3, 43),)]\n"
     ]
    },
    {
     "name": "stderr",
     "output_type": "stream",
     "text": [
      "Determining Sentiment From Posts: 100%|██████████| 1/1 [00:08<00:00,  8.86s/it]\n",
      "Determining Sentiment From Comments: 100%|██████████| 1/1 [00:08<00:00,  8.51s/it]\n"
     ]
    }
   ],
   "source": [
    "from inference import RunInference\n",
    "\n",
    "run =RunInference('BB')\n",
    "output = run.evaluate()"
   ]
  },
  {
   "cell_type": "code",
   "execution_count": 3,
   "metadata": {},
   "outputs": [
    {
     "data": {
      "text/plain": [
       "{'avg_post_probs': tensor([0.6173, 0.3827]),\n",
       " 'avg_comment_probs': tensor([0.9472, 0.0528]),\n",
       " 'all_post_probs': tensor([[9.9990e-01, 1.0076e-04],\n",
       "         [9.9986e-01, 1.3931e-04],\n",
       "         [4.8800e-03, 9.9512e-01],\n",
       "         [8.2133e-02, 9.1787e-01],\n",
       "         [9.9992e-01, 8.2550e-05]]),\n",
       " 'all_comment_probs': tensor([[0.8430, 0.1570],\n",
       "         [0.9635, 0.0365],\n",
       "         [0.9782, 0.0218],\n",
       "         [0.9653, 0.0347],\n",
       "         [0.9859, 0.0141]]),\n",
       " 'all_post_dates': tensor([1.6343e+09, 1.6342e+09, 1.6342e+09, 1.6343e+09, 1.6342e+09],\n",
       "        dtype=torch.float64),\n",
       " 'all_comment_dates': tensor([1.6343e+09, 1.6343e+09, 1.6342e+09, 1.6342e+09, 1.6342e+09],\n",
       "        dtype=torch.float64),\n",
       " 'max_post_prob': 0.9951199889183044,\n",
       " 'max_comment_prob': 0.15702766180038452,\n",
       " 'max_post': 'yolo bb',\n",
       " 'max_comment': '\\n**User Report**| | | |\\n:--|:--|:--|:--\\n**Total Submissions**|423|**First Seen In WSB**|5 years ago\\n**Total Comments**|32|**Previous DD**|[x](https://www.reddit.com/r/wallstreetbets/comments/pd8xfn/wall_street_week_ahead_for_the_trading_week/) [x](https://www.reddit.com/r/wallstreetbets/comments/q90lzl/wall_street_week_ahead_for_the_trading_week/) [x](https://www.reddit.com/r/wallstreetbets/comments/m0g1gq/38_mondays_premarket_stock_movers_news/) [x](https://www.reddit.com/r/wallstreetbets/comments/q1w4xg/105_tuesdays_premarket_stock_movers_news/) [x](https://www.reddit.com/r/wallstreetbets/comments/q48n96/wall_street_week_ahead_for_the_trading_week/) [x](https://www.reddit.com/r/wallstreetbets/comments/puw6k3/wall_street_week_ahead_for_the_trading_week/) [x](https://www.reddit.com/r/wallstreetbets/comments/q6lcc4/1012_tuesdays_premarket_stock_movers_news/) [x](https://www.reddit.com/r/wallstreetbets/comments/lwu1vd/33_wednesdays_premarket_stock_movers_news/) [x](https://www.reddit.com/r/wallstreetbets/comments/phgmrc/wall_street_week_ahead_for_the_trading_week/) [x](https://www.reddit.com/r/wallstreetbets/comments/plx79k/wall_street_week_ahead_for_the_trading_week/) [x](https://www.reddit.com/r/wallstreetbets/comments/q7a2qs/1013_wednesdays_premarket_stock_movers_news/) [x](https://www.reddit.com/r/wallstreetbets/comments/o32zxu/wall_street_week_ahead_for_the_trading_week/) [x](https://www.reddit.com/r/wallstreetbets/comments/q381r8/107_thursdays_premarket_stock_movers_news/) [x](https://www.reddit.com/r/wallstreetbets/comments/nnl8vc/wall_street_week_ahead_for_the_trading_week/) [x](https://www.reddit.com/r/wallstreetbets/comments/m4v2mw/wall_street_week_ahead_for_the_trading_week/) [x](https://www.reddit.com/r/wallstreetbets/comments/p8q8uf/wall_street_week_ahead_for_the_trading_week/) [x](https://www.reddit.com/r/wallstreetbets/comments/pzjml0/wall_street_week_ahead_for_the_trading_week/) [x](https://www.reddit.com/r/wallstreetbets/comments/q7yvhc/1014_thursdays_premarket_stock_movers_news/) [x](https://www.reddit.com/r/wallstreetbets/comments/pqckg2/wall_street_week_ahead_for_the_trading_week/) \\n**Account Age**|7 years|[^scan ^comment ](https://www.reddit.com/message/compose/?to=VisualMod&subject=scan_comment&message=Replace%20this%20text%20with%20a%20comment%20ID%20(which%20looks%20like%20*h26cq3k*)%20to%20have%20the%20bot%20scan%20your%20comment%20and%20correct%20your%20first%20seen%20date.)|[^scan ^submission ](https://www.reddit.com/message/compose/?to=VisualMod&subject=scan_submission&message=Replace%20this%20text%20with%20a%20submission%20ID%20(which%20looks%20like%20*h26cq3k*)%20to%20have%20the%20bot%20scan%20your%20submission%20and%20correct%20your%20first%20seen%20date.)\\n**Vote Spam (NEW)**|[Click to Vote](https://www.reddit.com/message/compose/?to=VisualMod&subject=vote_spam&message=q90lzl)|**Vote Approve (NEW)**|[Click to Vote](https://www.reddit.com/message/compose/?to=VisualMod&subject=vote_approve&message=q90lzl)\\n    \\nHey /u/bigbear0083, **positions or ban.** Reply to this with a screenshot of your entry/exit.',\n",
       " 'min_post_prob': 8.25498063932173e-05,\n",
       " 'min_comment_prob': 0.014112511649727821,\n",
       " 'min_post': \"$BB - Y'all don't talk enough about Blackberry here. Google + Qualcomm partnership is huge.\",\n",
       " 'min_comment': '\\n**User Report**| | | |\\n:--|:--|:--|:--\\n**Total Submissions**|28|**First Seen In WSB**|9 months ago\\n**Total Comments**|270|**Previous DD**|[x](https://www.reddit.com/r/wallstreetbets/comments/lmcjbw/simple_short_and_sweet_smooth_brain_dd_for_why/) [x](https://www.reddit.com/r/wallstreetbets/comments/lt2g1g/rkt_special_dividend_coming_share_buyback_coming/) [x](https://www.prnewswire.com/news-releases/nobo-technologies-selects-blackberry-for-advanced-digital-cockpit-controller-in-great-wall-motors-haval-h6s-the-next-generation-of-chinas-leading-suv-301363558.html) [x](https://www.reddit.com/r/wallstreetbets/comments/q7on6f/bb_yall_dont_talk_enough_about_blackberry_here/) [x](https://www.reddit.com/r/wallstreetbets/comments/m1zweu/bb_all_in_will_john_chen_get_his_90_million_bonus/) \\n**Account Age**|4 years|[^scan ^comment ](https://www.reddit.com/message/compose/?to=VisualMod&subject=scan_comment&message=Replace%20this%20text%20with%20a%20comment%20ID%20(which%20looks%20like%20*h26cq3k*)%20to%20have%20the%20bot%20scan%20your%20comment%20and%20correct%20your%20first%20seen%20date.)|[^scan ^submission ](https://www.reddit.com/message/compose/?to=VisualMod&subject=scan_submission&message=Replace%20this%20text%20with%20a%20submission%20ID%20(which%20looks%20like%20*h26cq3k*)%20to%20have%20the%20bot%20scan%20your%20submission%20and%20correct%20your%20first%20seen%20date.)\\n**Vote Spam (NEW)**|[Click to Vote](https://www.reddit.com/message/compose/?to=VisualMod&subject=vote_spam&message=q7on6f)|**Vote Approve (NEW)**|[Click to Vote](https://www.reddit.com/message/compose/?to=VisualMod&subject=vote_approve&message=q7on6f)'}"
      ]
     },
     "execution_count": 3,
     "metadata": {},
     "output_type": "execute_result"
    }
   ],
   "source": [
    "output"
   ]
  },
  {
   "cell_type": "code",
   "execution_count": 4,
   "metadata": {},
   "outputs": [
    {
     "name": "stderr",
     "output_type": "stream",
     "text": [
      "100%|██████████| 777/777 [00:01<00:00, 412.16it/s]\n"
     ]
    }
   ],
   "source": [
    "from forecast import Forecast\n",
    "\n",
    "get_stock = Forecast(\"GME\", output)"
   ]
  },
  {
   "cell_type": "code",
   "execution_count": 38,
   "metadata": {},
   "outputs": [
    {
     "name": "stderr",
     "output_type": "stream",
     "text": [
      "/Users/ianleefmans/opt/anaconda3/envs/StockSentiment/lib/python3.7/site-packages/ipykernel/ipkernel.py:283: DeprecationWarning: `should_run_async` will not call `transform_cell` automatically in the future. Please pass the result to `transformed_cell` argument and any exception that happen during thetransform in `preprocessing_exc_tuple` in IPython 7.17 and above.\n",
      "  and should_run_async(code)\n",
      "/Users/ianleefmans/opt/anaconda3/envs/StockSentiment/lib/python3.7/site-packages/statsmodels/tsa/statespace/sarimax.py:966: UserWarning: Non-stationary starting autoregressive parameters found. Using zeros as starting parameters.\n",
      "  warn('Non-stationary starting autoregressive parameters'\n",
      "/Users/ianleefmans/opt/anaconda3/envs/StockSentiment/lib/python3.7/site-packages/statsmodels/base/model.py:568: ConvergenceWarning: Maximum Likelihood optimization failed to converge. Check mle_retvals\n",
      "  ConvergenceWarning)\n"
     ]
    },
    {
     "name": "stdout",
     "output_type": "stream",
     "text": [
      "WARNING: Constant Sentiment, Random Noise Added\n"
     ]
    }
   ],
   "source": [
    "preds = get_stock.arima(periods=200)\n"
   ]
  },
  {
   "cell_type": "code",
   "execution_count": 10,
   "metadata": {},
   "outputs": [],
   "source": [
    "df = get_stock.sentiment\n"
   ]
  },
  {
   "cell_type": "code",
   "execution_count": 42,
   "metadata": {},
   "outputs": [
    {
     "data": {
      "text/plain": [
       "'2021-10-14 00:06'"
      ]
     },
     "execution_count": 42,
     "metadata": {},
     "output_type": "execute_result"
    }
   ],
   "source": [
    "import datetime as dt\n",
    "\n",
    "str(df.iloc[0].date)[:-3]"
   ]
  },
  {
   "cell_type": "code",
   "execution_count": 40,
   "metadata": {},
   "outputs": [
    {
     "data": {
      "text/plain": [
       "0   2021-10-14 00:06:40\n",
       "1   2021-10-14 14:00:00\n",
       "2   2021-10-14 22:20:00\n",
       "3   2021-10-15 12:13:20\n",
       "4   2021-10-15 23:20:00\n",
       "Name: date, dtype: datetime64[ns]"
      ]
     },
     "execution_count": 40,
     "metadata": {},
     "output_type": "execute_result"
    }
   ],
   "source": [
    "df.date.dt.round('s')"
   ]
  },
  {
   "cell_type": "code",
   "execution_count": 30,
   "metadata": {},
   "outputs": [],
   "source": [
    "labels2 = ['a', 'b', 'c', 'd', 'e']"
   ]
  },
  {
   "cell_type": "code",
   "execution_count": 15,
   "metadata": {},
   "outputs": [],
   "source": [
    "from matplotlib import pyplot as plt\n"
   ]
  },
  {
   "cell_type": "code",
   "execution_count": 52,
   "metadata": {},
   "outputs": [
    {
     "data": {
      "image/png": "[encoded data removed]",
      "text/plain": [
       "<Figure size 720x432 with 1 Axes>"
      ]
     },
     "metadata": {},
     "output_type": "display_data"
    }
   ],
   "source": [
    "plt.style.use('dark_background')\n",
    "\n",
    "fig, ax = plt.subplots(figsize=(10,6))\n",
    "\n",
    "\n",
    "get_stock.sentiment.plot.line(ax=ax, x='date', y='sentiment', color='darkred')\n",
    "\n",
    "ticks = get_stock.sentiment.date\n",
    "labels = [str(i)[:-3] for i in get_stock.sentiment.date]\n",
    "\n",
    "ax.set_title(\"Sentiment Over Time\", fontdict={'fontsize': 20}, pad = 15)\n",
    "ax.set_xlabel('Date', fontsize=14, labelpad=20)\n",
    "ax.set_ylabel('Sentiment', fontsize=14, labelpad=20)\n",
    "ax.set_xticks(labels)\n",
    "ax.set_xticklabels(labels)\n",
    "ax.set_ylim(bottom=0, top=1)\n",
    "ax.spines['right'].set_visible(False)\n",
    "ax.spines['top'].set_visible(False);\n",
    "\n"
   ]
  },
  {
   "cell_type": "code",
   "execution_count": null,
   "metadata": {},
   "outputs": [],
   "source": [
    "mod = ARIMA(endog=data.close, exog = self.stock_data.highlow_percent, order=(1, 0, 0))"
   ]
  },
  {
   "cell_type": "code",
   "execution_count": 12,
   "metadata": {},
   "outputs": [],
   "source": [
    "from statsmodels.tsa.arima.model import ARIMA\n",
    "\n",
    "mod = ARIMA(endog=data.sentiment, order=(1, 0, 0))"
   ]
  },
  {
   "cell_type": "code",
   "execution_count": 13,
   "metadata": {},
   "outputs": [
    {
     "name": "stderr",
     "output_type": "stream",
     "text": [
      "/Users/ianleefmans/opt/anaconda3/envs/StockSentiment/lib/python3.7/site-packages/statsmodels/base/model.py:568: ConvergenceWarning: Maximum Likelihood optimization failed to converge. Check mle_retvals\n",
      "  ConvergenceWarning)\n"
     ]
    }
   ],
   "source": [
    "res = mod.fit()"
   ]
  },
  {
   "cell_type": "code",
   "execution_count": 56,
   "metadata": {},
   "outputs": [],
   "source": [
    "predictions = []\n",
    "def pred(df, count):\n",
    "    if count == 0:\n",
    "        return\n",
    "    \n",
    "    mod = ARIMA(endog=df, order=(1, 0, 0))\n",
    "    res = mod.fit()\n",
    "    \n",
    "    predictions.append(float(res.forecast()))\n",
    "    \n",
    "    \n",
    "    pred(df+[float(res.forecast())], count-1)\n",
    "\n"
   ]
  },
  {
   "cell_type": "code",
   "execution_count": 57,
   "metadata": {},
   "outputs": [
    {
     "name": "stderr",
     "output_type": "stream",
     "text": [
      "/Users/ianleefmans/opt/anaconda3/envs/StockSentiment/lib/python3.7/site-packages/statsmodels/base/model.py:568: ConvergenceWarning: Maximum Likelihood optimization failed to converge. Check mle_retvals\n",
      "  ConvergenceWarning)\n",
      "/Users/ianleefmans/opt/anaconda3/envs/StockSentiment/lib/python3.7/site-packages/statsmodels/base/model.py:568: ConvergenceWarning: Maximum Likelihood optimization failed to converge. Check mle_retvals\n",
      "  ConvergenceWarning)\n",
      "/Users/ianleefmans/opt/anaconda3/envs/StockSentiment/lib/python3.7/site-packages/statsmodels/base/model.py:568: ConvergenceWarning: Maximum Likelihood optimization failed to converge. Check mle_retvals\n",
      "  ConvergenceWarning)\n",
      "/Users/ianleefmans/opt/anaconda3/envs/StockSentiment/lib/python3.7/site-packages/statsmodels/base/model.py:568: ConvergenceWarning: Maximum Likelihood optimization failed to converge. Check mle_retvals\n",
      "  ConvergenceWarning)\n",
      "/Users/ianleefmans/opt/anaconda3/envs/StockSentiment/lib/python3.7/site-packages/statsmodels/base/model.py:568: ConvergenceWarning: Maximum Likelihood optimization failed to converge. Check mle_retvals\n",
      "  ConvergenceWarning)\n",
      "/Users/ianleefmans/opt/anaconda3/envs/StockSentiment/lib/python3.7/site-packages/statsmodels/base/model.py:568: ConvergenceWarning: Maximum Likelihood optimization failed to converge. Check mle_retvals\n",
      "  ConvergenceWarning)\n",
      "/Users/ianleefmans/opt/anaconda3/envs/StockSentiment/lib/python3.7/site-packages/statsmodels/base/model.py:568: ConvergenceWarning: Maximum Likelihood optimization failed to converge. Check mle_retvals\n",
      "  ConvergenceWarning)\n",
      "/Users/ianleefmans/opt/anaconda3/envs/StockSentiment/lib/python3.7/site-packages/statsmodels/base/model.py:568: ConvergenceWarning: Maximum Likelihood optimization failed to converge. Check mle_retvals\n",
      "  ConvergenceWarning)\n",
      "/Users/ianleefmans/opt/anaconda3/envs/StockSentiment/lib/python3.7/site-packages/statsmodels/base/model.py:568: ConvergenceWarning: Maximum Likelihood optimization failed to converge. Check mle_retvals\n",
      "  ConvergenceWarning)\n",
      "/Users/ianleefmans/opt/anaconda3/envs/StockSentiment/lib/python3.7/site-packages/statsmodels/base/model.py:568: ConvergenceWarning: Maximum Likelihood optimization failed to converge. Check mle_retvals\n",
      "  ConvergenceWarning)\n"
     ]
    }
   ],
   "source": [
    "pred(list(data.sentiment), 10)"
   ]
  },
  {
   "cell_type": "code",
   "execution_count": 130,
   "metadata": {},
   "outputs": [
    {
     "data": {
      "text/plain": [
       "10"
      ]
     },
     "execution_count": 130,
     "metadata": {},
     "output_type": "execute_result"
    }
   ],
   "source": [
    "len(predictions)"
   ]
  },
  {
   "cell_type": "code",
   "execution_count": 58,
   "metadata": {},
   "outputs": [
    {
     "data": {
      "text/plain": [
       "[0.7995407913533179,\n",
       " 0.7995407770139782,\n",
       " 0.7995407793797036,\n",
       " 0.7995407826003444,\n",
       " 0.7995407878415857,\n",
       " 0.7995407945813624,\n",
       " 0.7995408025039776,\n",
       " 0.7995408113972577,\n",
       " 0.7995408211084032,\n",
       " 0.7995408315218733]"
      ]
     },
     "execution_count": 58,
     "metadata": {},
     "output_type": "execute_result"
    }
   ],
   "source": [
    "predictions"
   ]
  },
  {
   "cell_type": "code",
   "execution_count": 116,
   "metadata": {},
   "outputs": [],
   "source": [
    "predictions2 = []\n",
    "def pred2(df1, df2):\n",
    "    if len(df1)==len(df2):\n",
    "        return\n",
    "    \n",
    "    mod = ARIMA(endog=df1, exog = df2[0:len(df1), 0], order=(1, 0, 0))\n",
    "    res = mod.fit()\n",
    "    \n",
    "    predictions2.append(res.forecast(exog=[df2[len(df1)-1, 0]]))\n",
    "    \n",
    "    \n",
    "    pred2(df1+[float(res.forecast(exog=[df2[len(df1)-1, 0]]))], df2)"
   ]
  },
  {
   "cell_type": "code",
   "execution_count": 120,
   "metadata": {},
   "outputs": [],
   "source": [
    "pred2(list(data.close), np.add(np.array(list(data.sentiment)+predictions).reshape(-1, 1), np.random.randn(len(list(data.sentiment)+predictions), 1).reshape(-1, 1)))\n",
    "\n",
    "\n"
   ]
  }
 ],
 "metadata": {
  "kernelspec": {
   "display_name": "Python 3",
   "language": "python",
   "name": "python3"
  },
  "language_info": {
   "codemirror_mode": {
    "name": "ipython",
    "version": 3
   },
   "file_extension": ".py",
   "mimetype": "text/x-python",
   "name": "python",
   "nbconvert_exporter": "python",
   "pygments_lexer": "ipython3",
   "version": "3.7.9"
  }
 },
 "nbformat": 4,
 "nbformat_minor": 4
}
