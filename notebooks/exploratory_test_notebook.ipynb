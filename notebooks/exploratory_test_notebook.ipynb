{
 "cells": [
  {
   "cell_type": "code",
   "execution_count": 1,
   "metadata": {},
   "outputs": [
    {
     "name": "stdout",
     "output_type": "stream",
     "text": [
      "/Users/ianleefmans/Desktop/stock-sentiment\n"
     ]
    }
   ],
   "source": [
    "import sys\n",
    "sys.path.append('/Users/ianleefmans/Desktop/stock-sentiment/utils')\n",
    "from data import Database, ScrapeWSB, Stock\n",
    "from datahelper import PostDataset, CommentDataset, get_indices\n",
    "from torch.utils.data import DataLoader\n",
    "from inference import RunInference\n",
    "from models import FineTuneBaseModel, FineTuneClassifier\n",
    "%cd /Users/ianleefmans/Desktop/stock-sentiment"
   ]
  },
  {
   "cell_type": "code",
   "execution_count": 2,
   "metadata": {},
   "outputs": [],
   "source": [
    "import transformers\n",
    "import torch\n",
    "from transformers import BertTokenizer, BertForSequenceClassification"
   ]
  },
  {
   "cell_type": "code",
   "execution_count": 4,
   "metadata": {},
   "outputs": [
    {
     "name": "stdout",
     "output_type": "stream",
     "text": [
      "connection established\n",
      "[(datetime.datetime(2021, 10, 6, 18, 26, 27),)]\n",
      "[('COMMENTS',), ('POSTS',), ('STOCKS',)]\n"
     ]
    }
   ],
   "source": [
    "\n",
    "db = Database()\n",
    "db.use_database('DB1')\n",
    "\n",
    "print(db.query('show tables;'))"
   ]
  },
  {
   "cell_type": "code",
   "execution_count": 7,
   "metadata": {},
   "outputs": [
    {
     "data": {
      "text/plain": [
       "[(1612120000.0,),\n",
       " (1612600000.0,),\n",
       " (1612830000.0,),\n",
       " (1613130000.0,),\n",
       " (1613620000.0,)]"
      ]
     },
     "execution_count": 7,
     "metadata": {},
     "output_type": "execute_result"
    }
   ],
   "source": [
    "db.query(\"SELECT CREATED FROM POSTS LIMIT 5\")"
   ]
  },
  {
   "cell_type": "code",
   "execution_count": 7,
   "metadata": {},
   "outputs": [
    {
     "data": {
      "text/plain": [
       "[('AMC', datetime.datetime(2021, 6, 6, 22, 15, 44))]"
      ]
     },
     "execution_count": 7,
     "metadata": {},
     "output_type": "execute_result"
    }
   ],
   "source": [
    "db.query(\"SELECT * FROM STOCKS WHERE STOCK_ID='AMC' AND LAST_SCRAPED >= DATE_SUB(NOW(),INTERVAL 55 MINUTE)\")"
   ]
  },
  {
   "cell_type": "code",
   "execution_count": 16,
   "metadata": {},
   "outputs": [
    {
     "data": {
      "text/plain": [
       "[('nx2ihx',),\n",
       " ('nxcb5h',),\n",
       " ('nxp5r6',),\n",
       " ('nxtjj4',),\n",
       " ('nxv9jr',),\n",
       " ('nxx9sz',),\n",
       " ('ny01wx',),\n",
       " ('nz6tgd',),\n",
       " ('nzf0mj',),\n",
       " ('nzjcfg',)]"
      ]
     },
     "execution_count": 16,
     "metadata": {},
     "output_type": "execute_result"
    }
   ],
   "source": [
    "db.query(\"SELECT POST_ID FROM POSTS WHERE STOCK_ID='{}' AND LAST_SCRAPED >= DATE_SUB((SELECT LAST_SCRAPED FROM STOCKS WHERE STOCK_ID = '{}'), INTERVAL {} HOUR);\".format('BB', 'BB', 6))\n",
    "\n"
   ]
  },
  {
   "cell_type": "code",
   "execution_count": 86,
   "metadata": {},
   "outputs": [
    {
     "data": {
      "text/plain": [
       "[('nv0h06',)]"
      ]
     },
     "execution_count": 86,
     "metadata": {},
     "output_type": "execute_result"
    }
   ],
   "source": [
    "db.query(\"SELECT POST_ID FROM POSTS WHERE STOCK_ID='{}' AND LAST_SCRAPED >= DATE_SUB((SELECT LAST_SCRAPED FROM STOCKS WHERE STOCK_ID = '{}'),INTERVAL {} HOUR);\".format('AAPL','AAPL',6))\n",
    "\n"
   ]
  },
  {
   "cell_type": "code",
   "execution_count": 85,
   "metadata": {},
   "outputs": [
    {
     "data": {
      "text/plain": [
       "[(datetime.datetime(2021, 6, 14, 18, 21, 27),),\n",
       " (datetime.datetime(2021, 6, 14, 14, 27, 44),),\n",
       " (datetime.datetime(2021, 6, 14, 14, 27, 44),),\n",
       " (datetime.datetime(2021, 6, 14, 14, 27, 44),),\n",
       " (datetime.datetime(2021, 6, 14, 14, 27, 44),),\n",
       " (datetime.datetime(2021, 6, 14, 14, 27, 44),),\n",
       " (datetime.datetime(2021, 6, 14, 14, 27, 43),),\n",
       " (datetime.datetime(2021, 6, 14, 14, 27, 44),),\n",
       " (datetime.datetime(2021, 6, 14, 14, 27, 43),),\n",
       " (datetime.datetime(2021, 6, 14, 14, 27, 43),),\n",
       " (datetime.datetime(2021, 6, 14, 14, 27, 43),)]"
      ]
     },
     "execution_count": 85,
     "metadata": {},
     "output_type": "execute_result"
    }
   ],
   "source": [
    "db.query(\"SELECT LAST_SCRAPED FROM POSTS WHERE LAST_SCRAPED >= DATE_SUB((SELECT LAST_SCRAPED FROM STOCKS WHERE STOCK_ID = 'AAPL'),INTERVAL 6 HOUR);\")\n",
    "         \n",
    "         \n",
    "         \n"
   ]
  },
  {
   "cell_type": "code",
   "execution_count": 89,
   "metadata": {},
   "outputs": [
    {
     "data": {
      "text/plain": [
       "[('mzzf2q', datetime.datetime(2021, 6, 7, 1, 38, 7)),\n",
       " ('n0ivmx', datetime.datetime(2021, 6, 7, 1, 38, 7)),\n",
       " ('n1kq5z', datetime.datetime(2021, 6, 7, 1, 38, 6)),\n",
       " ('n226xb', datetime.datetime(2021, 6, 7, 1, 38, 6)),\n",
       " ('n2guu3', datetime.datetime(2021, 6, 7, 1, 38, 6)),\n",
       " ('n3m6m0', datetime.datetime(2021, 6, 7, 1, 38, 5)),\n",
       " ('n51zx5', datetime.datetime(2021, 6, 7, 1, 38, 7)),\n",
       " ('n5sglk', datetime.datetime(2021, 6, 7, 1, 38, 7)),\n",
       " ('n6991f', datetime.datetime(2021, 6, 7, 1, 38, 7)),\n",
       " ('n6fa9f', datetime.datetime(2021, 6, 7, 1, 38, 5)),\n",
       " ('n6k7wf', datetime.datetime(2021, 6, 7, 1, 38, 6)),\n",
       " ('n6m3qj', datetime.datetime(2021, 6, 7, 1, 38, 5)),\n",
       " ('n799ne', datetime.datetime(2021, 6, 7, 1, 38, 6)),\n",
       " ('n7fe53', datetime.datetime(2021, 6, 7, 1, 38, 6)),\n",
       " ('n8coni', datetime.datetime(2021, 6, 7, 1, 38, 6)),\n",
       " ('n8mv7h', datetime.datetime(2021, 6, 7, 1, 38, 5)),\n",
       " ('n90iyg', datetime.datetime(2021, 6, 7, 1, 38, 5)),\n",
       " ('n93o6x', datetime.datetime(2021, 6, 7, 1, 38, 5)),\n",
       " ('na8f8j', datetime.datetime(2021, 6, 7, 1, 38, 5)),\n",
       " ('namvm5', datetime.datetime(2021, 6, 7, 1, 38, 4)),\n",
       " ('nbjqzf', datetime.datetime(2021, 6, 7, 1, 38, 5)),\n",
       " ('nekymm', datetime.datetime(2021, 6, 7, 1, 38, 4)),\n",
       " ('nggpql', datetime.datetime(2021, 6, 7, 1, 38, 4)),\n",
       " ('nh66wz', datetime.datetime(2021, 6, 7, 1, 38, 4)),\n",
       " ('nh6ijq', datetime.datetime(2021, 6, 7, 1, 38, 4)),\n",
       " ('njoxij', datetime.datetime(2021, 6, 7, 1, 38, 4)),\n",
       " ('nolej2', datetime.datetime(2021, 6, 7, 1, 38, 3)),\n",
       " ('nquul5', datetime.datetime(2021, 6, 7, 1, 38, 3)),\n",
       " ('nrnkge', datetime.datetime(2021, 6, 7, 1, 38, 3)),\n",
       " ('nv0h06', datetime.datetime(2021, 6, 14, 18, 21, 27))]"
      ]
     },
     "execution_count": 89,
     "metadata": {},
     "output_type": "execute_result"
    }
   ],
   "source": [
    "db.query(\"SELECT POST_ID, LAST_SCRAPED FROM POSTS WHERE STOCK_ID='AAPL'\")"
   ]
  },
  {
   "cell_type": "code",
   "execution_count": 45,
   "metadata": {},
   "outputs": [],
   "source": [
    "indices = db.query(\"SELECT POST_ID FROM POSTS WHERE StOCK_ID='{}';\".format(\"GME\"))"
   ]
  },
  {
   "cell_type": "code",
   "execution_count": 4,
   "metadata": {},
   "outputs": [
    {
     "name": "stdout",
     "output_type": "stream",
     "text": [
      "connection established\n",
      "[(datetime.datetime(2021, 6, 6, 17, 23, 59),)]\n",
      "connection established\n",
      "[(datetime.datetime(2021, 6, 6, 17, 24),)]\n"
     ]
    },
    {
     "name": "stderr",
     "output_type": "stream",
     "text": [
      "\r",
      "  0%|          | 0/11 [00:00<?, ?it/s]"
     ]
    },
    {
     "name": "stdout",
     "output_type": "stream",
     "text": [
      "connection established\n",
      "[(datetime.datetime(2021, 6, 6, 17, 24, 3),)]\n"
     ]
    },
    {
     "name": "stderr",
     "output_type": "stream",
     "text": [
      "100%|██████████| 11/11 [01:08<00:00,  6.24s/it]"
     ]
    },
    {
     "name": "stdout",
     "output_type": "stream",
     "text": [
      "DONE\n"
     ]
    },
    {
     "name": "stderr",
     "output_type": "stream",
     "text": [
      "\n"
     ]
    }
   ],
   "source": [
    "db = Database()\n",
    "db.use_database('DB1')\n",
    "#db.drop_table(\"LABELED_POSTS\")\n",
    "#db.drop_table(\"LABELED_COMMENTS\")\n",
    "\n",
    "db.initialize_tables()\n",
    "\n",
    "scrapewsb = ScrapeWSB('GME', 11, 2)\n",
    "\n",
    "df = scrapewsb.scrape()\n",
    "scrapewsb.convert(df)\n",
    "print(\"DONE\")"
   ]
  },
  {
   "cell_type": "code",
   "execution_count": 4,
   "metadata": {},
   "outputs": [
    {
     "name": "stdout",
     "output_type": "stream",
     "text": [
      "connection established\n",
      "[(datetime.datetime(2021, 5, 30, 0, 20, 6),)]\n"
     ]
    }
   ],
   "source": [
    "db = Database()\n",
    "db.use_database('DB1')"
   ]
  },
  {
   "cell_type": "code",
   "execution_count": 3,
   "metadata": {},
   "outputs": [],
   "source": [
    "db.drop_table('COMMENTS')\n",
    "db.drop_table(\"POSTS\")\n",
    "db.drop_table(\"STOCKS\")"
   ]
  },
  {
   "cell_type": "code",
   "execution_count": null,
   "metadata": {},
   "outputs": [],
   "source": []
  },
  {
   "cell_type": "code",
   "execution_count": 2,
   "metadata": {},
   "outputs": [
    {
     "name": "stdout",
     "output_type": "stream",
     "text": [
      "connection established\n",
      "[(datetime.datetime(2021, 10, 6, 19, 48, 59),)]\n"
     ]
    }
   ],
   "source": [
    "indices = get_indices(\"GME\", inference=True, scrape_time=6)"
   ]
  },
  {
   "cell_type": "code",
   "execution_count": 3,
   "metadata": {},
   "outputs": [
    {
     "name": "stdout",
     "output_type": "stream",
     "text": [
      "connection established\n",
      "[(datetime.datetime(2021, 10, 6, 19, 49, 1),)]\n"
     ]
    }
   ],
   "source": [
    "post_train = PostDataset(512, indices['post_ids'])\n",
    "\n"
   ]
  },
  {
   "cell_type": "code",
   "execution_count": 4,
   "metadata": {},
   "outputs": [],
   "source": [
    "post_trainloader = DataLoader(\n",
    "    dataset=post_train, \n",
    "    batch_size=3, \n",
    "    num_workers=0,\n",
    "    shuffle=True\n",
    "    )"
   ]
  },
  {
   "cell_type": "code",
   "execution_count": 5,
   "metadata": {},
   "outputs": [],
   "source": [
    "sample = iter(post_trainloader).next()"
   ]
  },
  {
   "cell_type": "code",
   "execution_count": 6,
   "metadata": {},
   "outputs": [
    {
     "data": {
      "text/plain": [
       "{'post': ['GIANT $RUN LOVING APE BALLS OUT.....$BB $AMC $GME',\n",
       "  'Jim Cramer WSB FOMO- GME and AMC bull!',\n",
       "  'Daily option statistics for AMC, CLNE, BB, WISH, GME, WKHS, CLOV, PLTR, CLF, and others.'],\n",
       " 'post_input_ids': tensor([[ 101,  144, 9984,  ...,    0,    0,    0],\n",
       "         [ 101, 3104,  140,  ...,    0,    0,    0],\n",
       "         [ 101, 5732, 5146,  ...,    0,    0,    0]]),\n",
       " 'post_attention_mask': tensor([[1, 1, 1,  ..., 0, 0, 0],\n",
       "         [1, 1, 1,  ..., 0, 0, 0],\n",
       "         [1, 1, 1,  ..., 0, 0, 0]]),\n",
       " 'target': tensor([-1, -1, -1]),\n",
       " 'date': tensor([1.6240e+09, 1.6240e+09, 1.6240e+09], dtype=torch.float64)}"
      ]
     },
     "execution_count": 6,
     "metadata": {},
     "output_type": "execute_result"
    }
   ],
   "source": [
    "sample\n"
   ]
  },
  {
   "cell_type": "code",
   "execution_count": 7,
   "metadata": {},
   "outputs": [
    {
     "name": "stderr",
     "output_type": "stream",
     "text": [
      "Some weights of the model checkpoint at bert-base-cased were not used when initializing BertForSequenceClassification: ['cls.predictions.transform.dense.bias', 'cls.seq_relationship.weight', 'cls.predictions.transform.dense.weight', 'cls.predictions.transform.LayerNorm.bias', 'cls.predictions.bias', 'cls.seq_relationship.bias', 'cls.predictions.decoder.weight', 'cls.predictions.transform.LayerNorm.weight']\n",
      "- This IS expected if you are initializing BertForSequenceClassification from the checkpoint of a model trained on another task or with another architecture (e.g. initializing a BertForSequenceClassification model from a BertForPreTraining model).\n",
      "- This IS NOT expected if you are initializing BertForSequenceClassification from the checkpoint of a model that you expect to be exactly identical (initializing a BertForSequenceClassification model from a BertForSequenceClassification model).\n",
      "Some weights of BertForSequenceClassification were not initialized from the model checkpoint at bert-base-cased and are newly initialized: ['classifier.weight', 'classifier.bias']\n",
      "You should probably TRAIN this model on a down-stream task to be able to use it for predictions and inference.\n"
     ]
    }
   ],
   "source": [
    "model = FineTuneClassifier()\n",
    "\n",
    "out = model(input_ids=sample['post_input_ids'], attention_masks=sample['post_attention_mask'])"
   ]
  },
  {
   "cell_type": "code",
   "execution_count": 8,
   "metadata": {},
   "outputs": [
    {
     "data": {
      "text/plain": [
       "tensor([[0.5016, 0.4984],\n",
       "        [0.5107, 0.4893],\n",
       "        [0.4868, 0.5132]], grad_fn=<SoftmaxBackward>)"
      ]
     },
     "execution_count": 8,
     "metadata": {},
     "output_type": "execute_result"
    }
   ],
   "source": [
    "out"
   ]
  },
  {
   "cell_type": "code",
   "execution_count": 20,
   "metadata": {},
   "outputs": [],
   "source": [
    "max_pos = {}"
   ]
  },
  {
   "cell_type": "code",
   "execution_count": 18,
   "metadata": {},
   "outputs": [
    {
     "data": {
      "text/plain": [
       "0.5132220983505249"
      ]
     },
     "execution_count": 18,
     "metadata": {},
     "output_type": "execute_result"
    }
   ],
   "source": [
    "float(out[:,1].max())"
   ]
  },
  {
   "cell_type": "code",
   "execution_count": 21,
   "metadata": {},
   "outputs": [],
   "source": [
    "max_pos[float(out[:,1].max())] = sample['post'][int(out[:,1].argmax())]"
   ]
  },
  {
   "cell_type": "code",
   "execution_count": 22,
   "metadata": {},
   "outputs": [
    {
     "data": {
      "text/plain": [
       "{0.5132220983505249: 'AMC YOLO LFG!'}"
      ]
     },
     "execution_count": 22,
     "metadata": {},
     "output_type": "execute_result"
    }
   ],
   "source": [
    "max_pos"
   ]
  },
  {
   "cell_type": "code",
   "execution_count": 2,
   "metadata": {},
   "outputs": [
    {
     "name": "stdout",
     "output_type": "stream",
     "text": [
      "connection established\n",
      "[(datetime.datetime(2021, 6, 18, 0, 20, 42),)]\n",
      "connection established\n",
      "[(datetime.datetime(2021, 6, 18, 0, 20, 44),)]\n"
     ]
    },
    {
     "name": "stderr",
     "output_type": "stream",
     "text": [
      "\r",
      "Determining Sentiment From Posts:   0%|          | 0/1 [00:00<?, ?it/s]"
     ]
    },
    {
     "name": "stdout",
     "output_type": "stream",
     "text": [
      "connection established\n",
      "[(datetime.datetime(2021, 6, 18, 0, 20, 45),)]\n"
     ]
    },
    {
     "name": "stderr",
     "output_type": "stream",
     "text": [
      "Determining Sentiment From Posts: 100%|██████████| 1/1 [00:06<00:00,  6.28s/it]\n",
      "Determining Sentiment From Comments: 100%|██████████| 1/1 [00:06<00:00,  6.85s/it]\n"
     ]
    }
   ],
   "source": [
    "run_inference = RunInference(stock_id='GME')\n",
    "inference_output = run_inference.evaluate()\n",
    "\n",
    "post_probs = inference_output['avg_post_probs']\n",
    "\n",
    "comment_probs = inference_output['avg_comment_probs']"
   ]
  },
  {
   "cell_type": "code",
   "execution_count": 3,
   "metadata": {},
   "outputs": [],
   "source": [
    "all_post_probs = inference_output['all_post_probs']\n",
    "all_comment_probs = inference_output['all_comment_probs']"
   ]
  },
  {
   "cell_type": "code",
   "execution_count": 4,
   "metadata": {},
   "outputs": [
    {
     "data": {
      "text/plain": [
       "tensor([[9.9838e-01, 1.6161e-03],\n",
       "        [3.9883e-04, 9.9960e-01],\n",
       "        [1.4419e-04, 9.9986e-01]])"
      ]
     },
     "execution_count": 4,
     "metadata": {},
     "output_type": "execute_result"
    }
   ],
   "source": [
    "all_post_probs"
   ]
  },
  {
   "cell_type": "code",
   "execution_count": 5,
   "metadata": {},
   "outputs": [
    {
     "data": {
      "text/plain": [
       "tensor([[0.9948, 0.0052],\n",
       "        [0.0657, 0.9343],\n",
       "        [0.9922, 0.0078]])"
      ]
     },
     "execution_count": 5,
     "metadata": {},
     "output_type": "execute_result"
    }
   ],
   "source": [
    "all_comment_probs"
   ]
  },
  {
   "cell_type": "code",
   "execution_count": 2,
   "metadata": {},
   "outputs": [
    {
     "name": "stderr",
     "output_type": "stream",
     "text": [
      "100%|██████████| 6476/6476 [00:20<00:00, 323.22it/s]\n"
     ]
    }
   ],
   "source": [
    "stock = Stock()\n",
    "stock.set_start([2021, 7, 16, 0, 0, 0])\n",
    "data = stock.pull_data('GME')"
   ]
  },
  {
   "cell_type": "code",
   "execution_count": 8,
   "metadata": {},
   "outputs": [
    {
     "data": {
      "text/plain": [
       "4876"
      ]
     },
     "execution_count": 8,
     "metadata": {},
     "output_type": "execute_result"
    }
   ],
   "source": [
    "len(data)"
   ]
  },
  {
   "cell_type": "code",
   "execution_count": 7,
   "metadata": {},
   "outputs": [],
   "source": [
    "data.dropna(axis=0, inplace=True)"
   ]
  },
  {
   "cell_type": "code",
   "execution_count": 4,
   "metadata": {},
   "outputs": [],
   "source": [
    "data['highlow_percent'] = data.low/data.high\n"
   ]
  },
  {
   "cell_type": "code",
   "execution_count": 3,
   "metadata": {},
   "outputs": [],
   "source": [
    "def lag(feature, df):\n",
    "    df[feature+\"_t1\"] = [df.loc[df.timestamp.dt.day==i.day-1,['timestamp', feature]]['feature'].mean() for i in tqdm(df.timestamp)]\n",
    "\n",
    "\n",
    "\n",
    "\n"
   ]
  },
  {
   "cell_type": "code",
   "execution_count": 5,
   "metadata": {},
   "outputs": [
    {
     "data": {
      "text/html": [
       "<div>\n",
       "<style scoped>\n",
       "    .dataframe tbody tr th:only-of-type {\n",
       "        vertical-align: middle;\n",
       "    }\n",
       "\n",
       "    .dataframe tbody tr th {\n",
       "        vertical-align: top;\n",
       "    }\n",
       "\n",
       "    .dataframe thead th {\n",
       "        text-align: right;\n",
       "    }\n",
       "</style>\n",
       "<table border=\"1\" class=\"dataframe\">\n",
       "  <thead>\n",
       "    <tr style=\"text-align: right;\">\n",
       "      <th></th>\n",
       "      <th>close</th>\n",
       "      <th>high</th>\n",
       "      <th>low</th>\n",
       "      <th>open</th>\n",
       "      <th>status</th>\n",
       "      <th>timestamp</th>\n",
       "      <th>volume</th>\n",
       "      <th>highlow_percent</th>\n",
       "      <th>target</th>\n",
       "    </tr>\n",
       "  </thead>\n",
       "  <tbody>\n",
       "    <tr>\n",
       "      <th>0</th>\n",
       "      <td>172.99</td>\n",
       "      <td>172.99</td>\n",
       "      <td>172.99</td>\n",
       "      <td>172.99</td>\n",
       "      <td>ok</td>\n",
       "      <td>2021-07-16 04:00:00</td>\n",
       "      <td>170</td>\n",
       "      <td>1.000000</td>\n",
       "      <td>NaN</td>\n",
       "    </tr>\n",
       "    <tr>\n",
       "      <th>1</th>\n",
       "      <td>173.10</td>\n",
       "      <td>173.10</td>\n",
       "      <td>173.00</td>\n",
       "      <td>173.00</td>\n",
       "      <td>ok</td>\n",
       "      <td>2021-07-16 04:03:00</td>\n",
       "      <td>385</td>\n",
       "      <td>0.999422</td>\n",
       "      <td>NaN</td>\n",
       "    </tr>\n",
       "    <tr>\n",
       "      <th>2</th>\n",
       "      <td>174.00</td>\n",
       "      <td>174.00</td>\n",
       "      <td>174.00</td>\n",
       "      <td>174.00</td>\n",
       "      <td>ok</td>\n",
       "      <td>2021-07-16 04:04:00</td>\n",
       "      <td>130</td>\n",
       "      <td>1.000000</td>\n",
       "      <td>NaN</td>\n",
       "    </tr>\n",
       "    <tr>\n",
       "      <th>3</th>\n",
       "      <td>174.01</td>\n",
       "      <td>174.01</td>\n",
       "      <td>174.01</td>\n",
       "      <td>174.01</td>\n",
       "      <td>ok</td>\n",
       "      <td>2021-07-16 04:05:00</td>\n",
       "      <td>359</td>\n",
       "      <td>1.000000</td>\n",
       "      <td>NaN</td>\n",
       "    </tr>\n",
       "    <tr>\n",
       "      <th>4</th>\n",
       "      <td>174.00</td>\n",
       "      <td>174.00</td>\n",
       "      <td>174.00</td>\n",
       "      <td>174.00</td>\n",
       "      <td>ok</td>\n",
       "      <td>2021-07-16 04:14:00</td>\n",
       "      <td>457</td>\n",
       "      <td>1.000000</td>\n",
       "      <td>NaN</td>\n",
       "    </tr>\n",
       "    <tr>\n",
       "      <th>...</th>\n",
       "      <td>...</td>\n",
       "      <td>...</td>\n",
       "      <td>...</td>\n",
       "      <td>...</td>\n",
       "      <td>...</td>\n",
       "      <td>...</td>\n",
       "      <td>...</td>\n",
       "      <td>...</td>\n",
       "      <td>...</td>\n",
       "    </tr>\n",
       "    <tr>\n",
       "      <th>6471</th>\n",
       "      <td>151.95</td>\n",
       "      <td>151.95</td>\n",
       "      <td>151.95</td>\n",
       "      <td>151.95</td>\n",
       "      <td>ok</td>\n",
       "      <td>2021-08-06 17:06:00</td>\n",
       "      <td>290</td>\n",
       "      <td>1.000000</td>\n",
       "      <td>152.645524</td>\n",
       "    </tr>\n",
       "    <tr>\n",
       "      <th>6472</th>\n",
       "      <td>152.00</td>\n",
       "      <td>152.00</td>\n",
       "      <td>152.00</td>\n",
       "      <td>152.00</td>\n",
       "      <td>ok</td>\n",
       "      <td>2021-08-06 17:30:00</td>\n",
       "      <td>865</td>\n",
       "      <td>1.000000</td>\n",
       "      <td>152.645524</td>\n",
       "    </tr>\n",
       "    <tr>\n",
       "      <th>6473</th>\n",
       "      <td>152.00</td>\n",
       "      <td>152.00</td>\n",
       "      <td>152.00</td>\n",
       "      <td>152.00</td>\n",
       "      <td>ok</td>\n",
       "      <td>2021-08-06 18:10:00</td>\n",
       "      <td>131</td>\n",
       "      <td>1.000000</td>\n",
       "      <td>152.645524</td>\n",
       "    </tr>\n",
       "    <tr>\n",
       "      <th>6474</th>\n",
       "      <td>152.01</td>\n",
       "      <td>152.01</td>\n",
       "      <td>152.01</td>\n",
       "      <td>152.01</td>\n",
       "      <td>ok</td>\n",
       "      <td>2021-08-06 18:35:00</td>\n",
       "      <td>202</td>\n",
       "      <td>1.000000</td>\n",
       "      <td>152.645524</td>\n",
       "    </tr>\n",
       "    <tr>\n",
       "      <th>6475</th>\n",
       "      <td>152.24</td>\n",
       "      <td>152.24</td>\n",
       "      <td>152.24</td>\n",
       "      <td>152.24</td>\n",
       "      <td>ok</td>\n",
       "      <td>2021-08-06 19:58:00</td>\n",
       "      <td>209</td>\n",
       "      <td>1.000000</td>\n",
       "      <td>152.645524</td>\n",
       "    </tr>\n",
       "  </tbody>\n",
       "</table>\n",
       "<p>6476 rows × 9 columns</p>\n",
       "</div>"
      ],
      "text/plain": [
       "       close    high     low    open status           timestamp  volume  \\\n",
       "0     172.99  172.99  172.99  172.99     ok 2021-07-16 04:00:00     170   \n",
       "1     173.10  173.10  173.00  173.00     ok 2021-07-16 04:03:00     385   \n",
       "2     174.00  174.00  174.00  174.00     ok 2021-07-16 04:04:00     130   \n",
       "3     174.01  174.01  174.01  174.01     ok 2021-07-16 04:05:00     359   \n",
       "4     174.00  174.00  174.00  174.00     ok 2021-07-16 04:14:00     457   \n",
       "...      ...     ...     ...     ...    ...                 ...     ...   \n",
       "6471  151.95  151.95  151.95  151.95     ok 2021-08-06 17:06:00     290   \n",
       "6472  152.00  152.00  152.00  152.00     ok 2021-08-06 17:30:00     865   \n",
       "6473  152.00  152.00  152.00  152.00     ok 2021-08-06 18:10:00     131   \n",
       "6474  152.01  152.01  152.01  152.01     ok 2021-08-06 18:35:00     202   \n",
       "6475  152.24  152.24  152.24  152.24     ok 2021-08-06 19:58:00     209   \n",
       "\n",
       "      highlow_percent      target  \n",
       "0            1.000000         NaN  \n",
       "1            0.999422         NaN  \n",
       "2            1.000000         NaN  \n",
       "3            1.000000         NaN  \n",
       "4            1.000000         NaN  \n",
       "...               ...         ...  \n",
       "6471         1.000000  152.645524  \n",
       "6472         1.000000  152.645524  \n",
       "6473         1.000000  152.645524  \n",
       "6474         1.000000  152.645524  \n",
       "6475         1.000000  152.645524  \n",
       "\n",
       "[6476 rows x 9 columns]"
      ]
     },
     "execution_count": 5,
     "metadata": {},
     "output_type": "execute_result"
    }
   ],
   "source": [
    "data"
   ]
  },
  {
   "cell_type": "code",
   "execution_count": 8,
   "metadata": {},
   "outputs": [],
   "source": [
    "import pandas as pd\n",
    "data.timestamp = pd.to_datetime(data.timestamp)"
   ]
  },
  {
   "cell_type": "code",
   "execution_count": null,
   "metadata": {},
   "outputs": [],
   "source": []
  },
  {
   "cell_type": "code",
   "execution_count": 4,
   "metadata": {},
   "outputs": [],
   "source": [
    "\n",
    "from statsmodels.tsa.arima.model import ARIMA"
   ]
  },
  {
   "cell_type": "code",
   "execution_count": 9,
   "metadata": {},
   "outputs": [
    {
     "name": "stdout",
     "output_type": "stream",
     "text": [
      "                               SARIMAX Results                                \n",
      "==============================================================================\n",
      "Dep. Variable:                  close   No. Observations:                 6476\n",
      "Model:                 ARIMA(1, 0, 0)   Log Likelihood               -3784.048\n",
      "Date:                Sun, 08 Aug 2021   AIC                           7576.096\n",
      "Time:                        16:40:59   BIC                           7603.199\n",
      "Sample:                             0   HQIC                          7585.472\n",
      "                               - 6476                                         \n",
      "Covariance Type:                  opg                                         \n",
      "===================================================================================\n",
      "                      coef    std err          z      P>|z|      [0.025      0.975]\n",
      "-----------------------------------------------------------------------------------\n",
      "const              64.2753    108.867      0.590      0.555    -149.101     277.651\n",
      "highlow_percent     7.0061      0.943      7.426      0.000       5.157       8.855\n",
      "ar.L1               1.0000   5.85e-05   1.71e+04      0.000       1.000       1.000\n",
      "sigma2              0.1881      0.001    174.378      0.000       0.186       0.190\n",
      "===================================================================================\n",
      "Ljung-Box (L1) (Q):                  23.01   Jarque-Bera (JB):             94067.05\n",
      "Prob(Q):                              0.00   Prob(JB):                         0.00\n",
      "Heteroskedasticity (H):               0.60   Skew:                             0.54\n",
      "Prob(H) (two-sided):                  0.00   Kurtosis:                        21.64\n",
      "===================================================================================\n",
      "\n",
      "Warnings:\n",
      "[1] Covariance matrix calculated using the outer product of gradients (complex-step).\n"
     ]
    }
   ],
   "source": [
    "mod = ARIMA(endog=data.close, exog = data.highlow_percent, order=(1, 0, 0))\n",
    "res = mod.fit()\n",
    "print(res.summary())"
   ]
  },
  {
   "cell_type": "code",
   "execution_count": 37,
   "metadata": {},
   "outputs": [
    {
     "name": "stderr",
     "output_type": "stream",
     "text": [
      "100%|██████████| 6476/6476 [00:21<00:00, 303.90it/s]\n"
     ]
    }
   ],
   "source": [
    "from tqdm import tqdm\n",
    "\n",
    "data['target'] = [data.loc[data.timestamp.dt.day==i.day-1,['timestamp', 'close']].close.mean() for i in tqdm(data.timestamp)]\n",
    "\n",
    "\n"
   ]
  },
  {
   "cell_type": "code",
   "execution_count": 34,
   "metadata": {},
   "outputs": [
    {
     "data": {
      "text/plain": [
       "172.5266180555556"
      ]
     },
     "execution_count": 34,
     "metadata": {},
     "output_type": "execute_result"
    }
   ],
   "source": [
    "data.loc[data.timestamp.dt.day==16,['timestamp', 'close']].close.mean()"
   ]
  },
  {
   "cell_type": "code",
   "execution_count": 33,
   "metadata": {},
   "outputs": [],
   "source": [
    "from datetime import datetime, timedelta\n"
   ]
  },
  {
   "cell_type": "code",
   "execution_count": 15,
   "metadata": {},
   "outputs": [
    {
     "data": {
      "text/plain": [
       "'Tuesday'"
      ]
     },
     "execution_count": 15,
     "metadata": {},
     "output_type": "execute_result"
    }
   ],
   "source": [
    "day = ['Monday', 'Tuesday', 'Wednesday', 'Thursday', 'Friday', 'Saturday', 'Sunday']\n",
    "day[datetime.today().weekday()]"
   ]
  },
  {
   "cell_type": "code",
   "execution_count": 17,
   "metadata": {},
   "outputs": [],
   "source": [
    "now = datetime.today()"
   ]
  },
  {
   "cell_type": "code",
   "execution_count": 21,
   "metadata": {},
   "outputs": [
    {
     "data": {
      "text/plain": [
       "20"
      ]
     },
     "execution_count": 21,
     "metadata": {},
     "output_type": "execute_result"
    }
   ],
   "source": [
    "now."
   ]
  },
  {
   "cell_type": "code",
   "execution_count": 22,
   "metadata": {},
   "outputs": [
    {
     "data": {
      "text/plain": [
       "datetime.datetime(2021, 7, 20, 20, 29, 21, 976621)"
      ]
     },
     "execution_count": 22,
     "metadata": {},
     "output_type": "execute_result"
    }
   ],
   "source": [
    "now"
   ]
  },
  {
   "cell_type": "code",
   "execution_count": 25,
   "metadata": {},
   "outputs": [
    {
     "data": {
      "text/plain": [
       "datetime.datetime(2021, 7, 17, 20, 29, 21, 976621)"
      ]
     },
     "execution_count": 25,
     "metadata": {},
     "output_type": "execute_result"
    }
   ],
   "source": [
    "now - timedelta(days=3)"
   ]
  },
  {
   "cell_type": "code",
   "execution_count": null,
   "metadata": {},
   "outputs": [],
   "source": []
  },
  {
   "cell_type": "code",
   "execution_count": null,
   "metadata": {},
   "outputs": [],
   "source": []
  },
  {
   "cell_type": "code",
   "execution_count": 2,
   "metadata": {},
   "outputs": [
    {
     "name": "stdout",
     "output_type": "stream",
     "text": [
      "connection established\n",
      "[(datetime.datetime(2021, 10, 6, 20, 23, 51),)]\n",
      "connection established\n",
      "[(datetime.datetime(2021, 10, 6, 20, 23, 53),)]\n"
     ]
    },
    {
     "name": "stderr",
     "output_type": "stream",
     "text": [
      "\r",
      "Determining Sentiment From Posts:   0%|          | 0/1 [00:00<?, ?it/s]"
     ]
    },
    {
     "name": "stdout",
     "output_type": "stream",
     "text": [
      "connection established\n",
      "[(datetime.datetime(2021, 10, 6, 20, 23, 54),)]\n"
     ]
    },
    {
     "name": "stderr",
     "output_type": "stream",
     "text": [
      "Determining Sentiment From Posts: 100%|██████████| 1/1 [00:11<00:00, 11.44s/it]\n",
      "Determining Sentiment From Comments: 100%|██████████| 1/1 [00:09<00:00,  9.48s/it]\n"
     ]
    }
   ],
   "source": [
    "from inference import RunInference\n",
    "\n",
    "run =RunInference('GME')\n",
    "output = run.evaluate()"
   ]
  },
  {
   "cell_type": "code",
   "execution_count": 3,
   "metadata": {},
   "outputs": [
    {
     "data": {
      "text/plain": [
       "{'avg_post_probs': tensor([3.6181e-04, 9.9964e-01]),\n",
       " 'avg_comment_probs': tensor([0.0803, 0.9197]),\n",
       " 'all_post_probs': tensor([[6.6488e-04, 9.9934e-01],\n",
       "         [1.8537e-04, 9.9981e-01],\n",
       "         [5.7578e-04, 9.9942e-01],\n",
       "         [2.1131e-04, 9.9979e-01],\n",
       "         [1.7168e-04, 9.9983e-01]]),\n",
       " 'all_comment_probs': tensor([[4.0072e-01, 5.9928e-01],\n",
       "         [1.6010e-04, 9.9984e-01],\n",
       "         [3.3146e-04, 9.9967e-01],\n",
       "         [1.6648e-04, 9.9983e-01],\n",
       "         [1.9659e-04, 9.9980e-01]]),\n",
       " 'all_post_dates': tensor([1.6240e+09, 1.6240e+09, 1.6239e+09, 1.6239e+09, 1.6240e+09],\n",
       "        dtype=torch.float64),\n",
       " 'all_comment_dates': tensor([1.6240e+09, 1.6239e+09, 1.6240e+09, 1.6240e+09, 1.6239e+09],\n",
       "        dtype=torch.float64),\n",
       " 'max_post_prob': 0.9998283386230469,\n",
       " 'max_comment_prob': 0.9998399019241333,\n",
       " 'max_post': 'Jim Cramer WSB FOMO- GME and AMC bull!',\n",
       " 'max_comment': '#BB GANG 🦍🦍🦍',\n",
       " 'min_post_prob': 0.9993351101875305,\n",
       " 'min_comment_prob': 0.5992765426635742,\n",
       " 'min_post': 'Daily option statistics for AMC, CLNE, BB, WISH, GME, WKHS, CLOV, PLTR, CLF, and others.',\n",
       " 'min_comment': '3 things dont lie…. People who like big butts… please edit your post 😂😂😂'}"
      ]
     },
     "execution_count": 3,
     "metadata": {},
     "output_type": "execute_result"
    }
   ],
   "source": [
    "output"
   ]
  },
  {
   "cell_type": "code",
   "execution_count": 8,
   "metadata": {},
   "outputs": [
    {
     "name": "stdout",
     "output_type": "stream",
     "text": [
      "2021-06-17 03:20:00\n"
     ]
    }
   ],
   "source": [
    "from datetime import datetime\n",
    "print(datetime.utcfromtimestamp(output['all_post_dates'][0]).strftime('%Y-%m-%d %H:%M:%S'))"
   ]
  },
  {
   "cell_type": "code",
   "execution_count": 14,
   "metadata": {},
   "outputs": [],
   "source": [
    "import pandas as pd\n",
    "\n",
    "get_prob = lambda x: float(x[1])\n",
    "get_date = lambda x: datetime.utcfromtimestamp(x).strftime('%Y-%m-%d %H:%M:%S')\n",
    "\n",
    "df1 = pd.DataFrame({'date': list(map(get_date, output['all_post_dates'])), \n",
    "              'sentiment': list(map(get_prob, output['all_post_probs']))})"
   ]
  },
  {
   "cell_type": "code",
   "execution_count": 15,
   "metadata": {},
   "outputs": [],
   "source": [
    "df2 = pd.DataFrame({'date': list(map(get_date, output['all_comment_dates'])), \n",
    "              'sentiment': list(map(get_prob, output['all_comment_probs']))})"
   ]
  },
  {
   "cell_type": "code",
   "execution_count": 18,
   "metadata": {},
   "outputs": [
    {
     "data": {
      "text/html": [
       "<div>\n",
       "<style scoped>\n",
       "    .dataframe tbody tr th:only-of-type {\n",
       "        vertical-align: middle;\n",
       "    }\n",
       "\n",
       "    .dataframe tbody tr th {\n",
       "        vertical-align: top;\n",
       "    }\n",
       "\n",
       "    .dataframe thead th {\n",
       "        text-align: right;\n",
       "    }\n",
       "</style>\n",
       "<table border=\"1\" class=\"dataframe\">\n",
       "  <thead>\n",
       "    <tr style=\"text-align: right;\">\n",
       "      <th></th>\n",
       "      <th>date</th>\n",
       "      <th>sentiment</th>\n",
       "    </tr>\n",
       "  </thead>\n",
       "  <tbody>\n",
       "    <tr>\n",
       "      <th>0</th>\n",
       "      <td>2021-06-17 03:20:00</td>\n",
       "      <td>0.999424</td>\n",
       "    </tr>\n",
       "    <tr>\n",
       "      <th>1</th>\n",
       "      <td>2021-06-17 06:06:40</td>\n",
       "      <td>0.999789</td>\n",
       "    </tr>\n",
       "    <tr>\n",
       "      <th>2</th>\n",
       "      <td>2021-06-17 22:46:40</td>\n",
       "      <td>0.999828</td>\n",
       "    </tr>\n",
       "    <tr>\n",
       "      <th>3</th>\n",
       "      <td>2021-06-18 04:20:00</td>\n",
       "      <td>0.999335</td>\n",
       "    </tr>\n",
       "    <tr>\n",
       "      <th>4</th>\n",
       "      <td>2021-06-18 07:06:40</td>\n",
       "      <td>0.999815</td>\n",
       "    </tr>\n",
       "  </tbody>\n",
       "</table>\n",
       "</div>"
      ],
      "text/plain": [
       "                  date  sentiment\n",
       "0  2021-06-17 03:20:00   0.999424\n",
       "1  2021-06-17 06:06:40   0.999789\n",
       "2  2021-06-17 22:46:40   0.999828\n",
       "3  2021-06-18 04:20:00   0.999335\n",
       "4  2021-06-18 07:06:40   0.999815"
      ]
     },
     "execution_count": 18,
     "metadata": {},
     "output_type": "execute_result"
    }
   ],
   "source": [
    "df1"
   ]
  },
  {
   "cell_type": "code",
   "execution_count": 19,
   "metadata": {},
   "outputs": [
    {
     "data": {
      "text/html": [
       "<div>\n",
       "<style scoped>\n",
       "    .dataframe tbody tr th:only-of-type {\n",
       "        vertical-align: middle;\n",
       "    }\n",
       "\n",
       "    .dataframe tbody tr th {\n",
       "        vertical-align: top;\n",
       "    }\n",
       "\n",
       "    .dataframe thead th {\n",
       "        text-align: right;\n",
       "    }\n",
       "</style>\n",
       "<table border=\"1\" class=\"dataframe\">\n",
       "  <thead>\n",
       "    <tr style=\"text-align: right;\">\n",
       "      <th></th>\n",
       "      <th>date</th>\n",
       "      <th>sentiment</th>\n",
       "    </tr>\n",
       "  </thead>\n",
       "  <tbody>\n",
       "    <tr>\n",
       "      <th>0</th>\n",
       "      <td>2021-06-18 04:20:00</td>\n",
       "      <td>0.999669</td>\n",
       "    </tr>\n",
       "    <tr>\n",
       "      <th>1</th>\n",
       "      <td>2021-06-17 03:20:00</td>\n",
       "      <td>0.999803</td>\n",
       "    </tr>\n",
       "    <tr>\n",
       "      <th>2</th>\n",
       "      <td>2021-06-18 07:06:40</td>\n",
       "      <td>0.599277</td>\n",
       "    </tr>\n",
       "    <tr>\n",
       "      <th>3</th>\n",
       "      <td>2021-06-17 22:46:40</td>\n",
       "      <td>0.999833</td>\n",
       "    </tr>\n",
       "    <tr>\n",
       "      <th>4</th>\n",
       "      <td>2021-06-17 06:06:40</td>\n",
       "      <td>0.999840</td>\n",
       "    </tr>\n",
       "  </tbody>\n",
       "</table>\n",
       "</div>"
      ],
      "text/plain": [
       "                  date  sentiment\n",
       "0  2021-06-18 04:20:00   0.999669\n",
       "1  2021-06-17 03:20:00   0.999803\n",
       "2  2021-06-18 07:06:40   0.599277\n",
       "3  2021-06-17 22:46:40   0.999833\n",
       "4  2021-06-17 06:06:40   0.999840"
      ]
     },
     "execution_count": 19,
     "metadata": {},
     "output_type": "execute_result"
    }
   ],
   "source": [
    "df2"
   ]
  },
  {
   "cell_type": "code",
   "execution_count": 17,
   "metadata": {},
   "outputs": [
    {
     "data": {
      "text/html": [
       "<div>\n",
       "<style scoped>\n",
       "    .dataframe tbody tr th:only-of-type {\n",
       "        vertical-align: middle;\n",
       "    }\n",
       "\n",
       "    .dataframe tbody tr th {\n",
       "        vertical-align: top;\n",
       "    }\n",
       "\n",
       "    .dataframe thead th {\n",
       "        text-align: right;\n",
       "    }\n",
       "</style>\n",
       "<table border=\"1\" class=\"dataframe\">\n",
       "  <thead>\n",
       "    <tr style=\"text-align: right;\">\n",
       "      <th></th>\n",
       "      <th>date</th>\n",
       "      <th>sentiment</th>\n",
       "    </tr>\n",
       "  </thead>\n",
       "  <tbody>\n",
       "    <tr>\n",
       "      <th>0</th>\n",
       "      <td>2021-06-17 03:20:00</td>\n",
       "      <td>0.999424</td>\n",
       "    </tr>\n",
       "    <tr>\n",
       "      <th>1</th>\n",
       "      <td>2021-06-17 06:06:40</td>\n",
       "      <td>0.999789</td>\n",
       "    </tr>\n",
       "    <tr>\n",
       "      <th>2</th>\n",
       "      <td>2021-06-17 22:46:40</td>\n",
       "      <td>0.999828</td>\n",
       "    </tr>\n",
       "    <tr>\n",
       "      <th>3</th>\n",
       "      <td>2021-06-18 04:20:00</td>\n",
       "      <td>0.999335</td>\n",
       "    </tr>\n",
       "    <tr>\n",
       "      <th>4</th>\n",
       "      <td>2021-06-18 07:06:40</td>\n",
       "      <td>0.999815</td>\n",
       "    </tr>\n",
       "    <tr>\n",
       "      <th>0</th>\n",
       "      <td>2021-06-18 04:20:00</td>\n",
       "      <td>0.999669</td>\n",
       "    </tr>\n",
       "    <tr>\n",
       "      <th>1</th>\n",
       "      <td>2021-06-17 03:20:00</td>\n",
       "      <td>0.999803</td>\n",
       "    </tr>\n",
       "    <tr>\n",
       "      <th>2</th>\n",
       "      <td>2021-06-18 07:06:40</td>\n",
       "      <td>0.599277</td>\n",
       "    </tr>\n",
       "    <tr>\n",
       "      <th>3</th>\n",
       "      <td>2021-06-17 22:46:40</td>\n",
       "      <td>0.999833</td>\n",
       "    </tr>\n",
       "    <tr>\n",
       "      <th>4</th>\n",
       "      <td>2021-06-17 06:06:40</td>\n",
       "      <td>0.999840</td>\n",
       "    </tr>\n",
       "  </tbody>\n",
       "</table>\n",
       "</div>"
      ],
      "text/plain": [
       "                  date  sentiment\n",
       "0  2021-06-17 03:20:00   0.999424\n",
       "1  2021-06-17 06:06:40   0.999789\n",
       "2  2021-06-17 22:46:40   0.999828\n",
       "3  2021-06-18 04:20:00   0.999335\n",
       "4  2021-06-18 07:06:40   0.999815\n",
       "0  2021-06-18 04:20:00   0.999669\n",
       "1  2021-06-17 03:20:00   0.999803\n",
       "2  2021-06-18 07:06:40   0.599277\n",
       "3  2021-06-17 22:46:40   0.999833\n",
       "4  2021-06-17 06:06:40   0.999840"
      ]
     },
     "execution_count": 17,
     "metadata": {},
     "output_type": "execute_result"
    }
   ],
   "source": [
    "pd.concat([df1, df2])"
   ]
  },
  {
   "cell_type": "code",
   "execution_count": null,
   "metadata": {},
   "outputs": [],
   "source": []
  },
  {
   "cell_type": "code",
   "execution_count": null,
   "metadata": {},
   "outputs": [],
   "source": []
  },
  {
   "cell_type": "code",
   "execution_count": 4,
   "metadata": {},
   "outputs": [
    {
     "name": "stderr",
     "output_type": "stream",
     "text": [
      "100%|██████████| 1081/1081 [00:02<00:00, 433.85it/s]\n"
     ]
    }
   ],
   "source": [
    "from forecast import Forecast\n",
    "\n",
    "get_stock = Forecast(\"GME\", output)"
   ]
  },
  {
   "cell_type": "code",
   "execution_count": 5,
   "metadata": {},
   "outputs": [
    {
     "data": {
      "text/html": [
       "<div>\n",
       "<style scoped>\n",
       "    .dataframe tbody tr th:only-of-type {\n",
       "        vertical-align: middle;\n",
       "    }\n",
       "\n",
       "    .dataframe tbody tr th {\n",
       "        vertical-align: top;\n",
       "    }\n",
       "\n",
       "    .dataframe thead th {\n",
       "        text-align: right;\n",
       "    }\n",
       "</style>\n",
       "<table border=\"1\" class=\"dataframe\">\n",
       "  <thead>\n",
       "    <tr style=\"text-align: right;\">\n",
       "      <th></th>\n",
       "      <th>date</th>\n",
       "      <th>sentiment</th>\n",
       "    </tr>\n",
       "  </thead>\n",
       "  <tbody>\n",
       "    <tr>\n",
       "      <th>0</th>\n",
       "      <td>2021-06-18 04:20:00</td>\n",
       "      <td>0.999335</td>\n",
       "    </tr>\n",
       "    <tr>\n",
       "      <th>1</th>\n",
       "      <td>2021-06-18 07:06:40</td>\n",
       "      <td>0.999815</td>\n",
       "    </tr>\n",
       "    <tr>\n",
       "      <th>2</th>\n",
       "      <td>2021-06-17 03:20:00</td>\n",
       "      <td>0.999424</td>\n",
       "    </tr>\n",
       "    <tr>\n",
       "      <th>3</th>\n",
       "      <td>2021-06-17 06:06:40</td>\n",
       "      <td>0.999789</td>\n",
       "    </tr>\n",
       "    <tr>\n",
       "      <th>4</th>\n",
       "      <td>2021-06-17 22:46:40</td>\n",
       "      <td>0.999828</td>\n",
       "    </tr>\n",
       "    <tr>\n",
       "      <th>0</th>\n",
       "      <td>2021-06-18 07:06:40</td>\n",
       "      <td>0.599277</td>\n",
       "    </tr>\n",
       "    <tr>\n",
       "      <th>1</th>\n",
       "      <td>2021-06-17 06:06:40</td>\n",
       "      <td>0.999840</td>\n",
       "    </tr>\n",
       "    <tr>\n",
       "      <th>2</th>\n",
       "      <td>2021-06-18 04:20:00</td>\n",
       "      <td>0.999669</td>\n",
       "    </tr>\n",
       "    <tr>\n",
       "      <th>3</th>\n",
       "      <td>2021-06-17 22:46:40</td>\n",
       "      <td>0.999833</td>\n",
       "    </tr>\n",
       "    <tr>\n",
       "      <th>4</th>\n",
       "      <td>2021-06-17 03:20:00</td>\n",
       "      <td>0.999803</td>\n",
       "    </tr>\n",
       "  </tbody>\n",
       "</table>\n",
       "</div>"
      ],
      "text/plain": [
       "                  date  sentiment\n",
       "0  2021-06-18 04:20:00   0.999335\n",
       "1  2021-06-18 07:06:40   0.999815\n",
       "2  2021-06-17 03:20:00   0.999424\n",
       "3  2021-06-17 06:06:40   0.999789\n",
       "4  2021-06-17 22:46:40   0.999828\n",
       "0  2021-06-18 07:06:40   0.599277\n",
       "1  2021-06-17 06:06:40   0.999840\n",
       "2  2021-06-18 04:20:00   0.999669\n",
       "3  2021-06-17 22:46:40   0.999833\n",
       "4  2021-06-17 03:20:00   0.999803"
      ]
     },
     "execution_count": 5,
     "metadata": {},
     "output_type": "execute_result"
    }
   ],
   "source": [
    "get_stock.sentiment"
   ]
  },
  {
   "cell_type": "code",
   "execution_count": 5,
   "metadata": {},
   "outputs": [],
   "source": [
    "data = get_stock.stock_data"
   ]
  },
  {
   "cell_type": "code",
   "execution_count": 6,
   "metadata": {},
   "outputs": [
    {
     "data": {
      "text/html": [
       "<div>\n",
       "<style scoped>\n",
       "    .dataframe tbody tr th:only-of-type {\n",
       "        vertical-align: middle;\n",
       "    }\n",
       "\n",
       "    .dataframe tbody tr th {\n",
       "        vertical-align: top;\n",
       "    }\n",
       "\n",
       "    .dataframe thead th {\n",
       "        text-align: right;\n",
       "    }\n",
       "</style>\n",
       "<table border=\"1\" class=\"dataframe\">\n",
       "  <thead>\n",
       "    <tr style=\"text-align: right;\">\n",
       "      <th></th>\n",
       "      <th>close</th>\n",
       "      <th>high</th>\n",
       "      <th>low</th>\n",
       "      <th>open</th>\n",
       "      <th>status</th>\n",
       "      <th>timestamp</th>\n",
       "      <th>volume</th>\n",
       "      <th>highlow_percent</th>\n",
       "      <th>highlow_percent_t1</th>\n",
       "    </tr>\n",
       "  </thead>\n",
       "  <tbody>\n",
       "    <tr>\n",
       "      <th>0</th>\n",
       "      <td>176.330</td>\n",
       "      <td>176.340</td>\n",
       "      <td>176.330</td>\n",
       "      <td>176.340</td>\n",
       "      <td>ok</td>\n",
       "      <td>2021-10-01 13:39:00</td>\n",
       "      <td>1677</td>\n",
       "      <td>0.999943</td>\n",
       "      <td>NaN</td>\n",
       "    </tr>\n",
       "    <tr>\n",
       "      <th>1</th>\n",
       "      <td>176.150</td>\n",
       "      <td>176.220</td>\n",
       "      <td>176.150</td>\n",
       "      <td>176.220</td>\n",
       "      <td>ok</td>\n",
       "      <td>2021-10-01 13:40:00</td>\n",
       "      <td>915</td>\n",
       "      <td>0.999603</td>\n",
       "      <td>NaN</td>\n",
       "    </tr>\n",
       "    <tr>\n",
       "      <th>2</th>\n",
       "      <td>176.030</td>\n",
       "      <td>176.030</td>\n",
       "      <td>176.030</td>\n",
       "      <td>176.030</td>\n",
       "      <td>ok</td>\n",
       "      <td>2021-10-01 13:41:00</td>\n",
       "      <td>386</td>\n",
       "      <td>1.000000</td>\n",
       "      <td>NaN</td>\n",
       "    </tr>\n",
       "    <tr>\n",
       "      <th>3</th>\n",
       "      <td>175.970</td>\n",
       "      <td>176.110</td>\n",
       "      <td>175.970</td>\n",
       "      <td>176.000</td>\n",
       "      <td>ok</td>\n",
       "      <td>2021-10-01 13:42:00</td>\n",
       "      <td>2029</td>\n",
       "      <td>0.999205</td>\n",
       "      <td>NaN</td>\n",
       "    </tr>\n",
       "    <tr>\n",
       "      <th>4</th>\n",
       "      <td>176.110</td>\n",
       "      <td>176.110</td>\n",
       "      <td>176.110</td>\n",
       "      <td>176.110</td>\n",
       "      <td>ok</td>\n",
       "      <td>2021-10-01 13:43:00</td>\n",
       "      <td>803</td>\n",
       "      <td>1.000000</td>\n",
       "      <td>NaN</td>\n",
       "    </tr>\n",
       "    <tr>\n",
       "      <th>...</th>\n",
       "      <td>...</td>\n",
       "      <td>...</td>\n",
       "      <td>...</td>\n",
       "      <td>...</td>\n",
       "      <td>...</td>\n",
       "      <td>...</td>\n",
       "      <td>...</td>\n",
       "      <td>...</td>\n",
       "      <td>...</td>\n",
       "    </tr>\n",
       "    <tr>\n",
       "      <th>1085</th>\n",
       "      <td>169.705</td>\n",
       "      <td>169.705</td>\n",
       "      <td>169.705</td>\n",
       "      <td>169.705</td>\n",
       "      <td>ok</td>\n",
       "      <td>2021-10-06 13:33:00</td>\n",
       "      <td>1284</td>\n",
       "      <td>1.000000</td>\n",
       "      <td>0.99874</td>\n",
       "    </tr>\n",
       "    <tr>\n",
       "      <th>1086</th>\n",
       "      <td>169.870</td>\n",
       "      <td>170.120</td>\n",
       "      <td>169.780</td>\n",
       "      <td>169.780</td>\n",
       "      <td>ok</td>\n",
       "      <td>2021-10-06 13:34:00</td>\n",
       "      <td>4059</td>\n",
       "      <td>0.998001</td>\n",
       "      <td>0.99874</td>\n",
       "    </tr>\n",
       "    <tr>\n",
       "      <th>1087</th>\n",
       "      <td>170.100</td>\n",
       "      <td>170.190</td>\n",
       "      <td>170.030</td>\n",
       "      <td>170.190</td>\n",
       "      <td>ok</td>\n",
       "      <td>2021-10-06 13:35:00</td>\n",
       "      <td>1953</td>\n",
       "      <td>0.999060</td>\n",
       "      <td>0.99874</td>\n",
       "    </tr>\n",
       "    <tr>\n",
       "      <th>1088</th>\n",
       "      <td>170.050</td>\n",
       "      <td>170.125</td>\n",
       "      <td>169.880</td>\n",
       "      <td>170.125</td>\n",
       "      <td>ok</td>\n",
       "      <td>2021-10-06 13:36:00</td>\n",
       "      <td>2156</td>\n",
       "      <td>0.998560</td>\n",
       "      <td>0.99874</td>\n",
       "    </tr>\n",
       "    <tr>\n",
       "      <th>1089</th>\n",
       "      <td>170.000</td>\n",
       "      <td>170.000</td>\n",
       "      <td>170.000</td>\n",
       "      <td>170.000</td>\n",
       "      <td>ok</td>\n",
       "      <td>2021-10-06 13:37:00</td>\n",
       "      <td>533</td>\n",
       "      <td>1.000000</td>\n",
       "      <td>0.99874</td>\n",
       "    </tr>\n",
       "  </tbody>\n",
       "</table>\n",
       "<p>1090 rows × 9 columns</p>\n",
       "</div>"
      ],
      "text/plain": [
       "        close     high      low     open status           timestamp  volume  \\\n",
       "0     176.330  176.340  176.330  176.340     ok 2021-10-01 13:39:00    1677   \n",
       "1     176.150  176.220  176.150  176.220     ok 2021-10-01 13:40:00     915   \n",
       "2     176.030  176.030  176.030  176.030     ok 2021-10-01 13:41:00     386   \n",
       "3     175.970  176.110  175.970  176.000     ok 2021-10-01 13:42:00    2029   \n",
       "4     176.110  176.110  176.110  176.110     ok 2021-10-01 13:43:00     803   \n",
       "...       ...      ...      ...      ...    ...                 ...     ...   \n",
       "1085  169.705  169.705  169.705  169.705     ok 2021-10-06 13:33:00    1284   \n",
       "1086  169.870  170.120  169.780  169.780     ok 2021-10-06 13:34:00    4059   \n",
       "1087  170.100  170.190  170.030  170.190     ok 2021-10-06 13:35:00    1953   \n",
       "1088  170.050  170.125  169.880  170.125     ok 2021-10-06 13:36:00    2156   \n",
       "1089  170.000  170.000  170.000  170.000     ok 2021-10-06 13:37:00     533   \n",
       "\n",
       "      highlow_percent  highlow_percent_t1  \n",
       "0            0.999943                 NaN  \n",
       "1            0.999603                 NaN  \n",
       "2            1.000000                 NaN  \n",
       "3            0.999205                 NaN  \n",
       "4            1.000000                 NaN  \n",
       "...               ...                 ...  \n",
       "1085         1.000000             0.99874  \n",
       "1086         0.998001             0.99874  \n",
       "1087         0.999060             0.99874  \n",
       "1088         0.998560             0.99874  \n",
       "1089         1.000000             0.99874  \n",
       "\n",
       "[1090 rows x 9 columns]"
      ]
     },
     "execution_count": 6,
     "metadata": {},
     "output_type": "execute_result"
    }
   ],
   "source": [
    "data"
   ]
  },
  {
   "cell_type": "code",
   "execution_count": 7,
   "metadata": {},
   "outputs": [],
   "source": [
    "data.dropna(axis=0, inplace=True)"
   ]
  },
  {
   "cell_type": "code",
   "execution_count": 8,
   "metadata": {},
   "outputs": [
    {
     "data": {
      "text/html": [
       "<div>\n",
       "<style scoped>\n",
       "    .dataframe tbody tr th:only-of-type {\n",
       "        vertical-align: middle;\n",
       "    }\n",
       "\n",
       "    .dataframe tbody tr th {\n",
       "        vertical-align: top;\n",
       "    }\n",
       "\n",
       "    .dataframe thead th {\n",
       "        text-align: right;\n",
       "    }\n",
       "</style>\n",
       "<table border=\"1\" class=\"dataframe\">\n",
       "  <thead>\n",
       "    <tr style=\"text-align: right;\">\n",
       "      <th></th>\n",
       "      <th>close</th>\n",
       "      <th>high</th>\n",
       "      <th>low</th>\n",
       "      <th>open</th>\n",
       "      <th>status</th>\n",
       "      <th>timestamp</th>\n",
       "      <th>volume</th>\n",
       "      <th>highlow_percent</th>\n",
       "      <th>highlow_percent_t1</th>\n",
       "    </tr>\n",
       "  </thead>\n",
       "  <tbody>\n",
       "    <tr>\n",
       "      <th>471</th>\n",
       "      <td>171.360</td>\n",
       "      <td>171.360</td>\n",
       "      <td>171.360</td>\n",
       "      <td>171.360</td>\n",
       "      <td>ok</td>\n",
       "      <td>2021-10-05 04:07:00</td>\n",
       "      <td>193</td>\n",
       "      <td>1.000000</td>\n",
       "      <td>0.998716</td>\n",
       "    </tr>\n",
       "    <tr>\n",
       "      <th>472</th>\n",
       "      <td>172.160</td>\n",
       "      <td>172.160</td>\n",
       "      <td>172.150</td>\n",
       "      <td>172.150</td>\n",
       "      <td>ok</td>\n",
       "      <td>2021-10-05 07:33:00</td>\n",
       "      <td>383</td>\n",
       "      <td>0.999942</td>\n",
       "      <td>0.998716</td>\n",
       "    </tr>\n",
       "    <tr>\n",
       "      <th>473</th>\n",
       "      <td>172.000</td>\n",
       "      <td>172.050</td>\n",
       "      <td>172.000</td>\n",
       "      <td>172.050</td>\n",
       "      <td>ok</td>\n",
       "      <td>2021-10-05 08:10:00</td>\n",
       "      <td>416</td>\n",
       "      <td>0.999709</td>\n",
       "      <td>0.998716</td>\n",
       "    </tr>\n",
       "    <tr>\n",
       "      <th>474</th>\n",
       "      <td>171.810</td>\n",
       "      <td>171.810</td>\n",
       "      <td>171.810</td>\n",
       "      <td>171.810</td>\n",
       "      <td>ok</td>\n",
       "      <td>2021-10-05 08:11:00</td>\n",
       "      <td>468</td>\n",
       "      <td>1.000000</td>\n",
       "      <td>0.998716</td>\n",
       "    </tr>\n",
       "    <tr>\n",
       "      <th>475</th>\n",
       "      <td>171.020</td>\n",
       "      <td>171.020</td>\n",
       "      <td>171.020</td>\n",
       "      <td>171.020</td>\n",
       "      <td>ok</td>\n",
       "      <td>2021-10-05 08:12:00</td>\n",
       "      <td>525</td>\n",
       "      <td>1.000000</td>\n",
       "      <td>0.998716</td>\n",
       "    </tr>\n",
       "    <tr>\n",
       "      <th>...</th>\n",
       "      <td>...</td>\n",
       "      <td>...</td>\n",
       "      <td>...</td>\n",
       "      <td>...</td>\n",
       "      <td>...</td>\n",
       "      <td>...</td>\n",
       "      <td>...</td>\n",
       "      <td>...</td>\n",
       "      <td>...</td>\n",
       "    </tr>\n",
       "    <tr>\n",
       "      <th>1085</th>\n",
       "      <td>169.705</td>\n",
       "      <td>169.705</td>\n",
       "      <td>169.705</td>\n",
       "      <td>169.705</td>\n",
       "      <td>ok</td>\n",
       "      <td>2021-10-06 13:33:00</td>\n",
       "      <td>1284</td>\n",
       "      <td>1.000000</td>\n",
       "      <td>0.998740</td>\n",
       "    </tr>\n",
       "    <tr>\n",
       "      <th>1086</th>\n",
       "      <td>169.870</td>\n",
       "      <td>170.120</td>\n",
       "      <td>169.780</td>\n",
       "      <td>169.780</td>\n",
       "      <td>ok</td>\n",
       "      <td>2021-10-06 13:34:00</td>\n",
       "      <td>4059</td>\n",
       "      <td>0.998001</td>\n",
       "      <td>0.998740</td>\n",
       "    </tr>\n",
       "    <tr>\n",
       "      <th>1087</th>\n",
       "      <td>170.100</td>\n",
       "      <td>170.190</td>\n",
       "      <td>170.030</td>\n",
       "      <td>170.190</td>\n",
       "      <td>ok</td>\n",
       "      <td>2021-10-06 13:35:00</td>\n",
       "      <td>1953</td>\n",
       "      <td>0.999060</td>\n",
       "      <td>0.998740</td>\n",
       "    </tr>\n",
       "    <tr>\n",
       "      <th>1088</th>\n",
       "      <td>170.050</td>\n",
       "      <td>170.125</td>\n",
       "      <td>169.880</td>\n",
       "      <td>170.125</td>\n",
       "      <td>ok</td>\n",
       "      <td>2021-10-06 13:36:00</td>\n",
       "      <td>2156</td>\n",
       "      <td>0.998560</td>\n",
       "      <td>0.998740</td>\n",
       "    </tr>\n",
       "    <tr>\n",
       "      <th>1089</th>\n",
       "      <td>170.000</td>\n",
       "      <td>170.000</td>\n",
       "      <td>170.000</td>\n",
       "      <td>170.000</td>\n",
       "      <td>ok</td>\n",
       "      <td>2021-10-06 13:37:00</td>\n",
       "      <td>533</td>\n",
       "      <td>1.000000</td>\n",
       "      <td>0.998740</td>\n",
       "    </tr>\n",
       "  </tbody>\n",
       "</table>\n",
       "<p>619 rows × 9 columns</p>\n",
       "</div>"
      ],
      "text/plain": [
       "        close     high      low     open status           timestamp  volume  \\\n",
       "471   171.360  171.360  171.360  171.360     ok 2021-10-05 04:07:00     193   \n",
       "472   172.160  172.160  172.150  172.150     ok 2021-10-05 07:33:00     383   \n",
       "473   172.000  172.050  172.000  172.050     ok 2021-10-05 08:10:00     416   \n",
       "474   171.810  171.810  171.810  171.810     ok 2021-10-05 08:11:00     468   \n",
       "475   171.020  171.020  171.020  171.020     ok 2021-10-05 08:12:00     525   \n",
       "...       ...      ...      ...      ...    ...                 ...     ...   \n",
       "1085  169.705  169.705  169.705  169.705     ok 2021-10-06 13:33:00    1284   \n",
       "1086  169.870  170.120  169.780  169.780     ok 2021-10-06 13:34:00    4059   \n",
       "1087  170.100  170.190  170.030  170.190     ok 2021-10-06 13:35:00    1953   \n",
       "1088  170.050  170.125  169.880  170.125     ok 2021-10-06 13:36:00    2156   \n",
       "1089  170.000  170.000  170.000  170.000     ok 2021-10-06 13:37:00     533   \n",
       "\n",
       "      highlow_percent  highlow_percent_t1  \n",
       "471          1.000000            0.998716  \n",
       "472          0.999942            0.998716  \n",
       "473          0.999709            0.998716  \n",
       "474          1.000000            0.998716  \n",
       "475          1.000000            0.998716  \n",
       "...               ...                 ...  \n",
       "1085         1.000000            0.998740  \n",
       "1086         0.998001            0.998740  \n",
       "1087         0.999060            0.998740  \n",
       "1088         0.998560            0.998740  \n",
       "1089         1.000000            0.998740  \n",
       "\n",
       "[619 rows x 9 columns]"
      ]
     },
     "execution_count": 8,
     "metadata": {},
     "output_type": "execute_result"
    }
   ],
   "source": [
    "data"
   ]
  },
  {
   "cell_type": "code",
   "execution_count": 4,
   "metadata": {},
   "outputs": [],
   "source": [
    "results = get_stock.arima()"
   ]
  },
  {
   "cell_type": "code",
   "execution_count": 6,
   "metadata": {},
   "outputs": [
    {
     "name": "stdout",
     "output_type": "stream",
     "text": [
      "                               SARIMAX Results                                \n",
      "==============================================================================\n",
      "Dep. Variable:                  close   No. Observations:                 1090\n",
      "Model:                 ARIMA(1, 0, 0)   Log Likelihood                -406.430\n",
      "Date:                Wed, 06 Oct 2021   AIC                            820.860\n",
      "Time:                        13:56:50   BIC                            840.836\n",
      "Sample:                             0   HQIC                           828.421\n",
      "                               - 1090                                         \n",
      "Covariance Type:                  opg                                         \n",
      "===================================================================================\n",
      "                      coef    std err          z      P>|z|      [0.025      0.975]\n",
      "-----------------------------------------------------------------------------------\n",
      "const             139.7038      0.002   5.63e+04      0.000     139.699     139.709\n",
      "highlow_percent     3.9948      2.846      1.403      0.160      -1.584       9.574\n",
      "ar.L1               1.0000   1.39e-05   7.21e+04      0.000       1.000       1.000\n",
      "sigma2              0.1221      0.003     45.316      0.000       0.117       0.127\n",
      "===================================================================================\n",
      "Ljung-Box (L1) (Q):                  15.93   Jarque-Bera (JB):              2528.60\n",
      "Prob(Q):                              0.00   Prob(JB):                         0.00\n",
      "Heteroskedasticity (H):               0.82   Skew:                            -0.56\n",
      "Prob(H) (two-sided):                  0.06   Kurtosis:                        10.38\n",
      "===================================================================================\n",
      "\n",
      "Warnings:\n",
      "[1] Covariance matrix calculated using the outer product of gradients (complex-step).\n",
      "[2] Covariance matrix is singular or near-singular, with condition number 4.34e+18. Standard errors may be unstable.\n"
     ]
    }
   ],
   "source": [
    "print(results.summary())"
   ]
  },
  {
   "cell_type": "code",
   "execution_count": null,
   "metadata": {},
   "outputs": [],
   "source": [
    "results.predict "
   ]
  }
 ],
 "metadata": {
  "kernelspec": {
   "display_name": "Python 3",
   "language": "python",
   "name": "python3"
  },
  "language_info": {
   "codemirror_mode": {
    "name": "ipython",
    "version": 3
   },
   "file_extension": ".py",
   "mimetype": "text/x-python",
   "name": "python",
   "nbconvert_exporter": "python",
   "pygments_lexer": "ipython3",
   "version": "3.7.9"
  }
 },
 "nbformat": 4,
 "nbformat_minor": 4
}
