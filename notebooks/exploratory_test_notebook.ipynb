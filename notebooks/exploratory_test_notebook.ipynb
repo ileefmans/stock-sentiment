{
 "cells": [
  {
   "cell_type": "code",
   "execution_count": 1,
   "metadata": {},
   "outputs": [
    {
     "name": "stdout",
     "output_type": "stream",
     "text": [
      "/Users/ianleefmans/Desktop/stock-sentiment\n"
     ]
    }
   ],
   "source": [
    "import sys\n",
    "sys.path.append('/Users/ianleefmans/Desktop/stock-sentiment/utils')\n",
    "from data import Database, ScrapeWSB, Stock\n",
    "from datahelper import PostDataset, CommentDataset, get_indices\n",
    "from torch.utils.data import DataLoader\n",
    "from inference import RunInference\n",
    "from models import FineTuneBaseModel, FineTuneClassifier\n",
    "%cd /Users/ianleefmans/Desktop/stock-sentiment"
   ]
  },
  {
   "cell_type": "code",
   "execution_count": 2,
   "metadata": {},
   "outputs": [],
   "source": [
    "import transformers\n",
    "import torch\n",
    "from transformers import BertTokenizer, BertForSequenceClassification"
   ]
  },
  {
   "cell_type": "markdown",
   "metadata": {},
   "source": [
    "### DB Queries"
   ]
  },
  {
   "cell_type": "code",
   "execution_count": 4,
   "metadata": {},
   "outputs": [
    {
     "name": "stdout",
     "output_type": "stream",
     "text": [
      "connection established\n",
      "[(datetime.datetime(2021, 10, 6, 18, 26, 27),)]\n",
      "[('COMMENTS',), ('POSTS',), ('STOCKS',)]\n"
     ]
    }
   ],
   "source": [
    "\n",
    "db = Database()\n",
    "db.use_database('DB1')\n",
    "\n",
    "print(db.query('show tables;'))"
   ]
  },
  {
   "cell_type": "code",
   "execution_count": 7,
   "metadata": {},
   "outputs": [
    {
     "data": {
      "text/plain": [
       "[('AMC', datetime.datetime(2021, 6, 6, 22, 15, 44))]"
      ]
     },
     "execution_count": 7,
     "metadata": {},
     "output_type": "execute_result"
    }
   ],
   "source": [
    "db.query(\"SELECT * FROM STOCKS WHERE STOCK_ID='AMC' AND LAST_SCRAPED >= DATE_SUB(NOW(),INTERVAL 55 MINUTE)\")"
   ]
  },
  {
   "cell_type": "code",
   "execution_count": 16,
   "metadata": {},
   "outputs": [
    {
     "data": {
      "text/plain": [
       "[('nx2ihx',),\n",
       " ('nxcb5h',),\n",
       " ('nxp5r6',),\n",
       " ('nxtjj4',),\n",
       " ('nxv9jr',),\n",
       " ('nxx9sz',),\n",
       " ('ny01wx',),\n",
       " ('nz6tgd',),\n",
       " ('nzf0mj',),\n",
       " ('nzjcfg',)]"
      ]
     },
     "execution_count": 16,
     "metadata": {},
     "output_type": "execute_result"
    }
   ],
   "source": [
    "db.query(\"SELECT POST_ID FROM POSTS WHERE STOCK_ID='{}' AND LAST_SCRAPED >= DATE_SUB((SELECT LAST_SCRAPED FROM STOCKS WHERE STOCK_ID = '{}'), INTERVAL {} HOUR);\".format('BB', 'BB', 6))\n",
    "\n"
   ]
  },
  {
   "cell_type": "code",
   "execution_count": 86,
   "metadata": {},
   "outputs": [
    {
     "data": {
      "text/plain": [
       "[('nv0h06',)]"
      ]
     },
     "execution_count": 86,
     "metadata": {},
     "output_type": "execute_result"
    }
   ],
   "source": [
    "db.query(\"SELECT POST_ID FROM POSTS WHERE STOCK_ID='{}' AND LAST_SCRAPED >= DATE_SUB((SELECT LAST_SCRAPED FROM STOCKS WHERE STOCK_ID = '{}'),INTERVAL {} HOUR);\".format('AAPL','AAPL',6))\n",
    "\n"
   ]
  },
  {
   "cell_type": "code",
   "execution_count": 85,
   "metadata": {},
   "outputs": [
    {
     "data": {
      "text/plain": [
       "[(datetime.datetime(2021, 6, 14, 18, 21, 27),),\n",
       " (datetime.datetime(2021, 6, 14, 14, 27, 44),),\n",
       " (datetime.datetime(2021, 6, 14, 14, 27, 44),),\n",
       " (datetime.datetime(2021, 6, 14, 14, 27, 44),),\n",
       " (datetime.datetime(2021, 6, 14, 14, 27, 44),),\n",
       " (datetime.datetime(2021, 6, 14, 14, 27, 44),),\n",
       " (datetime.datetime(2021, 6, 14, 14, 27, 43),),\n",
       " (datetime.datetime(2021, 6, 14, 14, 27, 44),),\n",
       " (datetime.datetime(2021, 6, 14, 14, 27, 43),),\n",
       " (datetime.datetime(2021, 6, 14, 14, 27, 43),),\n",
       " (datetime.datetime(2021, 6, 14, 14, 27, 43),)]"
      ]
     },
     "execution_count": 85,
     "metadata": {},
     "output_type": "execute_result"
    }
   ],
   "source": [
    "db.query(\"SELECT LAST_SCRAPED FROM POSTS WHERE LAST_SCRAPED >= DATE_SUB((SELECT LAST_SCRAPED FROM STOCKS WHERE STOCK_ID = 'AAPL'),INTERVAL 6 HOUR);\")\n",
    "         \n",
    "         \n",
    "         \n"
   ]
  },
  {
   "cell_type": "markdown",
   "metadata": {},
   "source": [
    "### Running Inference"
   ]
  },
  {
   "cell_type": "code",
   "execution_count": 2,
   "metadata": {},
   "outputs": [
    {
     "name": "stdout",
     "output_type": "stream",
     "text": [
      "connection established\n",
      "[(datetime.datetime(2021, 10, 6, 19, 48, 59),)]\n"
     ]
    }
   ],
   "source": [
    "indices = get_indices(\"GME\", inference=True, scrape_time=6)"
   ]
  },
  {
   "cell_type": "code",
   "execution_count": 3,
   "metadata": {},
   "outputs": [
    {
     "name": "stdout",
     "output_type": "stream",
     "text": [
      "connection established\n",
      "[(datetime.datetime(2021, 10, 6, 19, 49, 1),)]\n"
     ]
    }
   ],
   "source": [
    "post_train = PostDataset(512, indices['post_ids'])\n",
    "\n"
   ]
  },
  {
   "cell_type": "code",
   "execution_count": 4,
   "metadata": {},
   "outputs": [],
   "source": [
    "post_trainloader = DataLoader(\n",
    "    dataset=post_train, \n",
    "    batch_size=3, \n",
    "    num_workers=0,\n",
    "    shuffle=True\n",
    "    )"
   ]
  },
  {
   "cell_type": "code",
   "execution_count": 5,
   "metadata": {},
   "outputs": [],
   "source": [
    "sample = iter(post_trainloader).next()"
   ]
  },
  {
   "cell_type": "code",
   "execution_count": 6,
   "metadata": {},
   "outputs": [
    {
     "data": {
      "text/plain": [
       "{'post': ['GIANT $RUN LOVING APE BALLS OUT.....$BB $AMC $GME',\n",
       "  'Jim Cramer WSB FOMO- GME and AMC bull!',\n",
       "  'Daily option statistics for AMC, CLNE, BB, WISH, GME, WKHS, CLOV, PLTR, CLF, and others.'],\n",
       " 'post_input_ids': tensor([[ 101,  144, 9984,  ...,    0,    0,    0],\n",
       "         [ 101, 3104,  140,  ...,    0,    0,    0],\n",
       "         [ 101, 5732, 5146,  ...,    0,    0,    0]]),\n",
       " 'post_attention_mask': tensor([[1, 1, 1,  ..., 0, 0, 0],\n",
       "         [1, 1, 1,  ..., 0, 0, 0],\n",
       "         [1, 1, 1,  ..., 0, 0, 0]]),\n",
       " 'target': tensor([-1, -1, -1]),\n",
       " 'date': tensor([1.6240e+09, 1.6240e+09, 1.6240e+09], dtype=torch.float64)}"
      ]
     },
     "execution_count": 6,
     "metadata": {},
     "output_type": "execute_result"
    }
   ],
   "source": [
    "sample\n"
   ]
  },
  {
   "cell_type": "code",
   "execution_count": 7,
   "metadata": {},
   "outputs": [
    {
     "name": "stderr",
     "output_type": "stream",
     "text": [
      "Some weights of the model checkpoint at bert-base-cased were not used when initializing BertForSequenceClassification: ['cls.predictions.transform.dense.bias', 'cls.seq_relationship.weight', 'cls.predictions.transform.dense.weight', 'cls.predictions.transform.LayerNorm.bias', 'cls.predictions.bias', 'cls.seq_relationship.bias', 'cls.predictions.decoder.weight', 'cls.predictions.transform.LayerNorm.weight']\n",
      "- This IS expected if you are initializing BertForSequenceClassification from the checkpoint of a model trained on another task or with another architecture (e.g. initializing a BertForSequenceClassification model from a BertForPreTraining model).\n",
      "- This IS NOT expected if you are initializing BertForSequenceClassification from the checkpoint of a model that you expect to be exactly identical (initializing a BertForSequenceClassification model from a BertForSequenceClassification model).\n",
      "Some weights of BertForSequenceClassification were not initialized from the model checkpoint at bert-base-cased and are newly initialized: ['classifier.weight', 'classifier.bias']\n",
      "You should probably TRAIN this model on a down-stream task to be able to use it for predictions and inference.\n"
     ]
    }
   ],
   "source": [
    "model = FineTuneClassifier()\n",
    "\n",
    "out = model(input_ids=sample['post_input_ids'], attention_masks=sample['post_attention_mask'])"
   ]
  },
  {
   "cell_type": "code",
   "execution_count": 8,
   "metadata": {},
   "outputs": [
    {
     "data": {
      "text/plain": [
       "tensor([[0.5016, 0.4984],\n",
       "        [0.5107, 0.4893],\n",
       "        [0.4868, 0.5132]], grad_fn=<SoftmaxBackward>)"
      ]
     },
     "execution_count": 8,
     "metadata": {},
     "output_type": "execute_result"
    }
   ],
   "source": [
    "out"
   ]
  },
  {
   "cell_type": "markdown",
   "metadata": {},
   "source": [
    "### Stock Predictions"
   ]
  },
  {
   "cell_type": "code",
   "execution_count": 2,
   "metadata": {},
   "outputs": [
    {
     "name": "stdout",
     "output_type": "stream",
     "text": [
      "connection established\n",
      "[(datetime.datetime(2021, 10, 9, 17, 3, 50),)]\n",
      "connection established\n",
      "[(datetime.datetime(2021, 10, 9, 17, 3, 52),)]\n"
     ]
    },
    {
     "name": "stderr",
     "output_type": "stream",
     "text": [
      "\r",
      "Determining Sentiment From Posts:   0%|          | 0/1 [00:00<?, ?it/s]"
     ]
    },
    {
     "name": "stdout",
     "output_type": "stream",
     "text": [
      "connection established\n",
      "[(datetime.datetime(2021, 10, 9, 17, 3, 54),)]\n"
     ]
    },
    {
     "name": "stderr",
     "output_type": "stream",
     "text": [
      "Determining Sentiment From Posts: 100%|██████████| 1/1 [00:08<00:00,  8.83s/it]\n",
      "Determining Sentiment From Comments: 100%|██████████| 1/1 [00:08<00:00,  8.72s/it]\n"
     ]
    }
   ],
   "source": [
    "from inference import RunInference\n",
    "\n",
    "run =RunInference('GME')\n",
    "output = run.evaluate()"
   ]
  },
  {
   "cell_type": "code",
   "execution_count": 3,
   "metadata": {},
   "outputs": [
    {
     "data": {
      "text/plain": [
       "{'avg_post_probs': tensor([3.6181e-04, 9.9964e-01]),\n",
       " 'avg_comment_probs': tensor([0.0803, 0.9197]),\n",
       " 'all_post_probs': tensor([[6.6488e-04, 9.9934e-01],\n",
       "         [1.8537e-04, 9.9981e-01],\n",
       "         [5.7578e-04, 9.9942e-01],\n",
       "         [2.1131e-04, 9.9979e-01],\n",
       "         [1.7168e-04, 9.9983e-01]]),\n",
       " 'all_comment_probs': tensor([[4.0072e-01, 5.9928e-01],\n",
       "         [1.6010e-04, 9.9984e-01],\n",
       "         [3.3146e-04, 9.9967e-01],\n",
       "         [1.6648e-04, 9.9983e-01],\n",
       "         [1.9659e-04, 9.9980e-01]]),\n",
       " 'all_post_dates': tensor([1.6240e+09, 1.6240e+09, 1.6239e+09, 1.6239e+09, 1.6240e+09],\n",
       "        dtype=torch.float64),\n",
       " 'all_comment_dates': tensor([1.6240e+09, 1.6239e+09, 1.6240e+09, 1.6240e+09, 1.6239e+09],\n",
       "        dtype=torch.float64),\n",
       " 'max_post_prob': 0.9998283386230469,\n",
       " 'max_comment_prob': 0.9998399019241333,\n",
       " 'max_post': 'Jim Cramer WSB FOMO- GME and AMC bull!',\n",
       " 'max_comment': '#BB GANG 🦍🦍🦍',\n",
       " 'min_post_prob': 0.9993351101875305,\n",
       " 'min_comment_prob': 0.5992765426635742,\n",
       " 'min_post': 'Daily option statistics for AMC, CLNE, BB, WISH, GME, WKHS, CLOV, PLTR, CLF, and others.',\n",
       " 'min_comment': '3 things dont lie…. People who like big butts… please edit your post 😂😂😂'}"
      ]
     },
     "execution_count": 3,
     "metadata": {},
     "output_type": "execute_result"
    }
   ],
   "source": [
    "output"
   ]
  },
  {
   "cell_type": "code",
   "execution_count": 3,
   "metadata": {},
   "outputs": [
    {
     "name": "stderr",
     "output_type": "stream",
     "text": [
      "100%|██████████| 786/786 [00:01<00:00, 481.74it/s]\n"
     ]
    }
   ],
   "source": [
    "from forecast import Forecast\n",
    "\n",
    "get_stock = Forecast(\"GME\", output)"
   ]
  },
  {
   "cell_type": "code",
   "execution_count": 4,
   "metadata": {},
   "outputs": [
    {
     "data": {
      "text/html": [
       "<div>\n",
       "<style scoped>\n",
       "    .dataframe tbody tr th:only-of-type {\n",
       "        vertical-align: middle;\n",
       "    }\n",
       "\n",
       "    .dataframe tbody tr th {\n",
       "        vertical-align: top;\n",
       "    }\n",
       "\n",
       "    .dataframe thead th {\n",
       "        text-align: right;\n",
       "    }\n",
       "</style>\n",
       "<table border=\"1\" class=\"dataframe\">\n",
       "  <thead>\n",
       "    <tr style=\"text-align: right;\">\n",
       "      <th></th>\n",
       "      <th>close</th>\n",
       "      <th>high</th>\n",
       "      <th>low</th>\n",
       "      <th>open</th>\n",
       "      <th>status</th>\n",
       "      <th>timestamp</th>\n",
       "      <th>volume</th>\n",
       "      <th>highlow_percent</th>\n",
       "      <th>highlow_percent_t1</th>\n",
       "      <th>sentiment</th>\n",
       "    </tr>\n",
       "  </thead>\n",
       "  <tbody>\n",
       "    <tr>\n",
       "      <th>0</th>\n",
       "      <td>168.78</td>\n",
       "      <td>169.130</td>\n",
       "      <td>168.78</td>\n",
       "      <td>169.000</td>\n",
       "      <td>ok</td>\n",
       "      <td>2021-10-06 13:06:00</td>\n",
       "      <td>1973</td>\n",
       "      <td>0.997931</td>\n",
       "      <td>NaN</td>\n",
       "      <td>0.799546</td>\n",
       "    </tr>\n",
       "    <tr>\n",
       "      <th>1</th>\n",
       "      <td>168.60</td>\n",
       "      <td>168.775</td>\n",
       "      <td>168.60</td>\n",
       "      <td>168.775</td>\n",
       "      <td>ok</td>\n",
       "      <td>2021-10-06 13:07:00</td>\n",
       "      <td>1470</td>\n",
       "      <td>0.998963</td>\n",
       "      <td>NaN</td>\n",
       "      <td>0.799546</td>\n",
       "    </tr>\n",
       "    <tr>\n",
       "      <th>2</th>\n",
       "      <td>168.80</td>\n",
       "      <td>168.800</td>\n",
       "      <td>168.50</td>\n",
       "      <td>168.640</td>\n",
       "      <td>ok</td>\n",
       "      <td>2021-10-06 13:09:00</td>\n",
       "      <td>4365</td>\n",
       "      <td>0.998223</td>\n",
       "      <td>NaN</td>\n",
       "      <td>0.799546</td>\n",
       "    </tr>\n",
       "    <tr>\n",
       "      <th>3</th>\n",
       "      <td>168.55</td>\n",
       "      <td>168.550</td>\n",
       "      <td>168.55</td>\n",
       "      <td>168.550</td>\n",
       "      <td>ok</td>\n",
       "      <td>2021-10-06 13:11:00</td>\n",
       "      <td>1236</td>\n",
       "      <td>1.000000</td>\n",
       "      <td>NaN</td>\n",
       "      <td>0.799546</td>\n",
       "    </tr>\n",
       "    <tr>\n",
       "      <th>4</th>\n",
       "      <td>168.81</td>\n",
       "      <td>168.810</td>\n",
       "      <td>168.81</td>\n",
       "      <td>168.810</td>\n",
       "      <td>ok</td>\n",
       "      <td>2021-10-06 13:12:00</td>\n",
       "      <td>248</td>\n",
       "      <td>1.000000</td>\n",
       "      <td>NaN</td>\n",
       "      <td>0.799546</td>\n",
       "    </tr>\n",
       "    <tr>\n",
       "      <th>...</th>\n",
       "      <td>...</td>\n",
       "      <td>...</td>\n",
       "      <td>...</td>\n",
       "      <td>...</td>\n",
       "      <td>...</td>\n",
       "      <td>...</td>\n",
       "      <td>...</td>\n",
       "      <td>...</td>\n",
       "      <td>...</td>\n",
       "      <td>...</td>\n",
       "    </tr>\n",
       "    <tr>\n",
       "      <th>781</th>\n",
       "      <td>172.45</td>\n",
       "      <td>172.690</td>\n",
       "      <td>172.45</td>\n",
       "      <td>172.690</td>\n",
       "      <td>ok</td>\n",
       "      <td>2021-10-08 16:16:00</td>\n",
       "      <td>375</td>\n",
       "      <td>0.998610</td>\n",
       "      <td>0.999004</td>\n",
       "      <td>0.799546</td>\n",
       "    </tr>\n",
       "    <tr>\n",
       "      <th>782</th>\n",
       "      <td>172.45</td>\n",
       "      <td>172.450</td>\n",
       "      <td>172.45</td>\n",
       "      <td>172.450</td>\n",
       "      <td>ok</td>\n",
       "      <td>2021-10-08 16:17:00</td>\n",
       "      <td>198</td>\n",
       "      <td>1.000000</td>\n",
       "      <td>0.999004</td>\n",
       "      <td>0.799546</td>\n",
       "    </tr>\n",
       "    <tr>\n",
       "      <th>783</th>\n",
       "      <td>172.95</td>\n",
       "      <td>172.950</td>\n",
       "      <td>172.95</td>\n",
       "      <td>172.950</td>\n",
       "      <td>ok</td>\n",
       "      <td>2021-10-08 17:11:00</td>\n",
       "      <td>179</td>\n",
       "      <td>1.000000</td>\n",
       "      <td>0.999004</td>\n",
       "      <td>0.799546</td>\n",
       "    </tr>\n",
       "    <tr>\n",
       "      <th>784</th>\n",
       "      <td>172.72</td>\n",
       "      <td>172.720</td>\n",
       "      <td>172.72</td>\n",
       "      <td>172.720</td>\n",
       "      <td>ok</td>\n",
       "      <td>2021-10-08 17:34:00</td>\n",
       "      <td>148</td>\n",
       "      <td>1.000000</td>\n",
       "      <td>0.999004</td>\n",
       "      <td>0.799546</td>\n",
       "    </tr>\n",
       "    <tr>\n",
       "      <th>785</th>\n",
       "      <td>172.80</td>\n",
       "      <td>172.800</td>\n",
       "      <td>172.80</td>\n",
       "      <td>172.800</td>\n",
       "      <td>ok</td>\n",
       "      <td>2021-10-08 19:56:00</td>\n",
       "      <td>205</td>\n",
       "      <td>1.000000</td>\n",
       "      <td>0.999004</td>\n",
       "      <td>0.799546</td>\n",
       "    </tr>\n",
       "  </tbody>\n",
       "</table>\n",
       "<p>786 rows × 10 columns</p>\n",
       "</div>"
      ],
      "text/plain": [
       "      close     high     low     open status           timestamp  volume  \\\n",
       "0    168.78  169.130  168.78  169.000     ok 2021-10-06 13:06:00    1973   \n",
       "1    168.60  168.775  168.60  168.775     ok 2021-10-06 13:07:00    1470   \n",
       "2    168.80  168.800  168.50  168.640     ok 2021-10-06 13:09:00    4365   \n",
       "3    168.55  168.550  168.55  168.550     ok 2021-10-06 13:11:00    1236   \n",
       "4    168.81  168.810  168.81  168.810     ok 2021-10-06 13:12:00     248   \n",
       "..      ...      ...     ...      ...    ...                 ...     ...   \n",
       "781  172.45  172.690  172.45  172.690     ok 2021-10-08 16:16:00     375   \n",
       "782  172.45  172.450  172.45  172.450     ok 2021-10-08 16:17:00     198   \n",
       "783  172.95  172.950  172.95  172.950     ok 2021-10-08 17:11:00     179   \n",
       "784  172.72  172.720  172.72  172.720     ok 2021-10-08 17:34:00     148   \n",
       "785  172.80  172.800  172.80  172.800     ok 2021-10-08 19:56:00     205   \n",
       "\n",
       "     highlow_percent  highlow_percent_t1  sentiment  \n",
       "0           0.997931                 NaN   0.799546  \n",
       "1           0.998963                 NaN   0.799546  \n",
       "2           0.998223                 NaN   0.799546  \n",
       "3           1.000000                 NaN   0.799546  \n",
       "4           1.000000                 NaN   0.799546  \n",
       "..               ...                 ...        ...  \n",
       "781         0.998610            0.999004   0.799546  \n",
       "782         1.000000            0.999004   0.799546  \n",
       "783         1.000000            0.999004   0.799546  \n",
       "784         1.000000            0.999004   0.799546  \n",
       "785         1.000000            0.999004   0.799546  \n",
       "\n",
       "[786 rows x 10 columns]"
      ]
     },
     "execution_count": 4,
     "metadata": {},
     "output_type": "execute_result"
    }
   ],
   "source": [
    "get_stock.assign_sentiment()\n",
    "get_stock.stock_data"
   ]
  },
  {
   "cell_type": "code",
   "execution_count": 5,
   "metadata": {
    "scrolled": true
   },
   "outputs": [
    {
     "data": {
      "text/html": [
       "<div>\n",
       "<style scoped>\n",
       "    .dataframe tbody tr th:only-of-type {\n",
       "        vertical-align: middle;\n",
       "    }\n",
       "\n",
       "    .dataframe tbody tr th {\n",
       "        vertical-align: top;\n",
       "    }\n",
       "\n",
       "    .dataframe thead th {\n",
       "        text-align: right;\n",
       "    }\n",
       "</style>\n",
       "<table border=\"1\" class=\"dataframe\">\n",
       "  <thead>\n",
       "    <tr style=\"text-align: right;\">\n",
       "      <th></th>\n",
       "      <th>date</th>\n",
       "      <th>sentiment</th>\n",
       "    </tr>\n",
       "  </thead>\n",
       "  <tbody>\n",
       "    <tr>\n",
       "      <th>0</th>\n",
       "      <td>2021-06-17 03:20:00</td>\n",
       "      <td>0.999614</td>\n",
       "    </tr>\n",
       "    <tr>\n",
       "      <th>1</th>\n",
       "      <td>2021-06-17 06:06:40</td>\n",
       "      <td>0.999814</td>\n",
       "    </tr>\n",
       "    <tr>\n",
       "      <th>2</th>\n",
       "      <td>2021-06-17 22:46:40</td>\n",
       "      <td>0.999831</td>\n",
       "    </tr>\n",
       "    <tr>\n",
       "      <th>3</th>\n",
       "      <td>2021-06-18 04:20:00</td>\n",
       "      <td>0.999502</td>\n",
       "    </tr>\n",
       "    <tr>\n",
       "      <th>4</th>\n",
       "      <td>2021-06-18 07:06:40</td>\n",
       "      <td>0.799546</td>\n",
       "    </tr>\n",
       "  </tbody>\n",
       "</table>\n",
       "</div>"
      ],
      "text/plain": [
       "                 date  sentiment\n",
       "0 2021-06-17 03:20:00   0.999614\n",
       "1 2021-06-17 06:06:40   0.999814\n",
       "2 2021-06-17 22:46:40   0.999831\n",
       "3 2021-06-18 04:20:00   0.999502\n",
       "4 2021-06-18 07:06:40   0.799546"
      ]
     },
     "execution_count": 5,
     "metadata": {},
     "output_type": "execute_result"
    }
   ],
   "source": [
    "\n",
    "table = get_stock.sentiment\n",
    "table"
   ]
  },
  {
   "cell_type": "code",
   "execution_count": 4,
   "metadata": {},
   "outputs": [],
   "source": [
    "results = get_stock.arima()"
   ]
  },
  {
   "cell_type": "code",
   "execution_count": 6,
   "metadata": {},
   "outputs": [
    {
     "name": "stdout",
     "output_type": "stream",
     "text": [
      "                               SARIMAX Results                                \n",
      "==============================================================================\n",
      "Dep. Variable:                  close   No. Observations:                 1090\n",
      "Model:                 ARIMA(1, 0, 0)   Log Likelihood                -406.430\n",
      "Date:                Wed, 06 Oct 2021   AIC                            820.860\n",
      "Time:                        13:56:50   BIC                            840.836\n",
      "Sample:                             0   HQIC                           828.421\n",
      "                               - 1090                                         \n",
      "Covariance Type:                  opg                                         \n",
      "===================================================================================\n",
      "                      coef    std err          z      P>|z|      [0.025      0.975]\n",
      "-----------------------------------------------------------------------------------\n",
      "const             139.7038      0.002   5.63e+04      0.000     139.699     139.709\n",
      "highlow_percent     3.9948      2.846      1.403      0.160      -1.584       9.574\n",
      "ar.L1               1.0000   1.39e-05   7.21e+04      0.000       1.000       1.000\n",
      "sigma2              0.1221      0.003     45.316      0.000       0.117       0.127\n",
      "===================================================================================\n",
      "Ljung-Box (L1) (Q):                  15.93   Jarque-Bera (JB):              2528.60\n",
      "Prob(Q):                              0.00   Prob(JB):                         0.00\n",
      "Heteroskedasticity (H):               0.82   Skew:                            -0.56\n",
      "Prob(H) (two-sided):                  0.06   Kurtosis:                        10.38\n",
      "===================================================================================\n",
      "\n",
      "Warnings:\n",
      "[1] Covariance matrix calculated using the outer product of gradients (complex-step).\n",
      "[2] Covariance matrix is singular or near-singular, with condition number 4.34e+18. Standard errors may be unstable.\n"
     ]
    }
   ],
   "source": [
    "print(results.summary())"
   ]
  }
 ],
 "metadata": {
  "kernelspec": {
   "display_name": "Python 3",
   "language": "python",
   "name": "python3"
  },
  "language_info": {
   "codemirror_mode": {
    "name": "ipython",
    "version": 3
   },
   "file_extension": ".py",
   "mimetype": "text/x-python",
   "name": "python",
   "nbconvert_exporter": "python",
   "pygments_lexer": "ipython3",
   "version": "3.7.9"
  }
 },
 "nbformat": 4,
 "nbformat_minor": 4
}
