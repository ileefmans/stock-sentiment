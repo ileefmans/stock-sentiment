{
 "cells": [
  {
   "cell_type": "code",
   "execution_count": 1,
   "metadata": {},
   "outputs": [
    {
     "name": "stdout",
     "output_type": "stream",
     "text": [
      "/Users/ianleefmans/Desktop/stock-sentiment\n"
     ]
    }
   ],
   "source": [
    "import sys\n",
    "sys.path.append('/Users/ianleefmans/Desktop/stock-sentiment/utils')\n",
    "from data import Database, ScrapeWSB, Stock\n",
    "from datahelper import PostDataset, CommentDataset, get_indices\n",
    "from torch.utils.data import DataLoader\n",
    "from inference import RunInference\n",
    "from models import FineTuneBaseModel, FineTuneClassifier\n",
    "%cd /Users/ianleefmans/Desktop/stock-sentiment"
   ]
  },
  {
   "cell_type": "code",
   "execution_count": 2,
   "metadata": {},
   "outputs": [],
   "source": [
    "import transformers\n",
    "import torch\n",
    "from transformers import BertTokenizer, BertForSequenceClassification"
   ]
  },
  {
   "cell_type": "markdown",
   "metadata": {},
   "source": [
    "### DB Queries"
   ]
  },
  {
   "cell_type": "code",
   "execution_count": 4,
   "metadata": {},
   "outputs": [
    {
     "name": "stdout",
     "output_type": "stream",
     "text": [
      "connection established\n",
      "[(datetime.datetime(2021, 10, 6, 18, 26, 27),)]\n",
      "[('COMMENTS',), ('POSTS',), ('STOCKS',)]\n"
     ]
    }
   ],
   "source": [
    "\n",
    "db = Database()\n",
    "db.use_database('DB1')\n",
    "\n",
    "print(db.query('show tables;'))"
   ]
  },
  {
   "cell_type": "code",
   "execution_count": 7,
   "metadata": {},
   "outputs": [
    {
     "data": {
      "text/plain": [
       "[('AMC', datetime.datetime(2021, 6, 6, 22, 15, 44))]"
      ]
     },
     "execution_count": 7,
     "metadata": {},
     "output_type": "execute_result"
    }
   ],
   "source": [
    "db.query(\"SELECT * FROM STOCKS WHERE STOCK_ID='AMC' AND LAST_SCRAPED >= DATE_SUB(NOW(),INTERVAL 55 MINUTE)\")"
   ]
  },
  {
   "cell_type": "code",
   "execution_count": 16,
   "metadata": {},
   "outputs": [
    {
     "data": {
      "text/plain": [
       "[('nx2ihx',),\n",
       " ('nxcb5h',),\n",
       " ('nxp5r6',),\n",
       " ('nxtjj4',),\n",
       " ('nxv9jr',),\n",
       " ('nxx9sz',),\n",
       " ('ny01wx',),\n",
       " ('nz6tgd',),\n",
       " ('nzf0mj',),\n",
       " ('nzjcfg',)]"
      ]
     },
     "execution_count": 16,
     "metadata": {},
     "output_type": "execute_result"
    }
   ],
   "source": [
    "db.query(\"SELECT POST_ID FROM POSTS WHERE STOCK_ID='{}' AND LAST_SCRAPED >= DATE_SUB((SELECT LAST_SCRAPED FROM STOCKS WHERE STOCK_ID = '{}'), INTERVAL {} HOUR);\".format('BB', 'BB', 6))\n",
    "\n"
   ]
  },
  {
   "cell_type": "code",
   "execution_count": 86,
   "metadata": {},
   "outputs": [
    {
     "data": {
      "text/plain": [
       "[('nv0h06',)]"
      ]
     },
     "execution_count": 86,
     "metadata": {},
     "output_type": "execute_result"
    }
   ],
   "source": [
    "db.query(\"SELECT POST_ID FROM POSTS WHERE STOCK_ID='{}' AND LAST_SCRAPED >= DATE_SUB((SELECT LAST_SCRAPED FROM STOCKS WHERE STOCK_ID = '{}'),INTERVAL {} HOUR);\".format('AAPL','AAPL',6))\n",
    "\n"
   ]
  },
  {
   "cell_type": "code",
   "execution_count": 85,
   "metadata": {},
   "outputs": [
    {
     "data": {
      "text/plain": [
       "[(datetime.datetime(2021, 6, 14, 18, 21, 27),),\n",
       " (datetime.datetime(2021, 6, 14, 14, 27, 44),),\n",
       " (datetime.datetime(2021, 6, 14, 14, 27, 44),),\n",
       " (datetime.datetime(2021, 6, 14, 14, 27, 44),),\n",
       " (datetime.datetime(2021, 6, 14, 14, 27, 44),),\n",
       " (datetime.datetime(2021, 6, 14, 14, 27, 44),),\n",
       " (datetime.datetime(2021, 6, 14, 14, 27, 43),),\n",
       " (datetime.datetime(2021, 6, 14, 14, 27, 44),),\n",
       " (datetime.datetime(2021, 6, 14, 14, 27, 43),),\n",
       " (datetime.datetime(2021, 6, 14, 14, 27, 43),),\n",
       " (datetime.datetime(2021, 6, 14, 14, 27, 43),)]"
      ]
     },
     "execution_count": 85,
     "metadata": {},
     "output_type": "execute_result"
    }
   ],
   "source": [
    "db.query(\"SELECT LAST_SCRAPED FROM POSTS WHERE LAST_SCRAPED >= DATE_SUB((SELECT LAST_SCRAPED FROM STOCKS WHERE STOCK_ID = 'AAPL'),INTERVAL 6 HOUR);\")\n",
    "         \n",
    "         \n",
    "         \n"
   ]
  },
  {
   "cell_type": "markdown",
   "metadata": {},
   "source": [
    "### Running Inference"
   ]
  },
  {
   "cell_type": "code",
   "execution_count": 2,
   "metadata": {},
   "outputs": [
    {
     "name": "stdout",
     "output_type": "stream",
     "text": [
      "connection established\n",
      "[(datetime.datetime(2021, 10, 6, 19, 48, 59),)]\n"
     ]
    }
   ],
   "source": [
    "indices = get_indices(\"GME\", inference=True, scrape_time=6)"
   ]
  },
  {
   "cell_type": "code",
   "execution_count": 3,
   "metadata": {},
   "outputs": [
    {
     "name": "stdout",
     "output_type": "stream",
     "text": [
      "connection established\n",
      "[(datetime.datetime(2021, 10, 6, 19, 49, 1),)]\n"
     ]
    }
   ],
   "source": [
    "post_train = PostDataset(512, indices['post_ids'])\n",
    "\n"
   ]
  },
  {
   "cell_type": "code",
   "execution_count": 4,
   "metadata": {},
   "outputs": [],
   "source": [
    "post_trainloader = DataLoader(\n",
    "    dataset=post_train, \n",
    "    batch_size=3, \n",
    "    num_workers=0,\n",
    "    shuffle=True\n",
    "    )"
   ]
  },
  {
   "cell_type": "code",
   "execution_count": 5,
   "metadata": {},
   "outputs": [],
   "source": [
    "sample = iter(post_trainloader).next()"
   ]
  },
  {
   "cell_type": "code",
   "execution_count": 6,
   "metadata": {},
   "outputs": [
    {
     "data": {
      "text/plain": [
       "{'post': ['GIANT $RUN LOVING APE BALLS OUT.....$BB $AMC $GME',\n",
       "  'Jim Cramer WSB FOMO- GME and AMC bull!',\n",
       "  'Daily option statistics for AMC, CLNE, BB, WISH, GME, WKHS, CLOV, PLTR, CLF, and others.'],\n",
       " 'post_input_ids': tensor([[ 101,  144, 9984,  ...,    0,    0,    0],\n",
       "         [ 101, 3104,  140,  ...,    0,    0,    0],\n",
       "         [ 101, 5732, 5146,  ...,    0,    0,    0]]),\n",
       " 'post_attention_mask': tensor([[1, 1, 1,  ..., 0, 0, 0],\n",
       "         [1, 1, 1,  ..., 0, 0, 0],\n",
       "         [1, 1, 1,  ..., 0, 0, 0]]),\n",
       " 'target': tensor([-1, -1, -1]),\n",
       " 'date': tensor([1.6240e+09, 1.6240e+09, 1.6240e+09], dtype=torch.float64)}"
      ]
     },
     "execution_count": 6,
     "metadata": {},
     "output_type": "execute_result"
    }
   ],
   "source": [
    "sample\n"
   ]
  },
  {
   "cell_type": "code",
   "execution_count": 7,
   "metadata": {},
   "outputs": [
    {
     "name": "stderr",
     "output_type": "stream",
     "text": [
      "Some weights of the model checkpoint at bert-base-cased were not used when initializing BertForSequenceClassification: ['cls.predictions.transform.dense.bias', 'cls.seq_relationship.weight', 'cls.predictions.transform.dense.weight', 'cls.predictions.transform.LayerNorm.bias', 'cls.predictions.bias', 'cls.seq_relationship.bias', 'cls.predictions.decoder.weight', 'cls.predictions.transform.LayerNorm.weight']\n",
      "- This IS expected if you are initializing BertForSequenceClassification from the checkpoint of a model trained on another task or with another architecture (e.g. initializing a BertForSequenceClassification model from a BertForPreTraining model).\n",
      "- This IS NOT expected if you are initializing BertForSequenceClassification from the checkpoint of a model that you expect to be exactly identical (initializing a BertForSequenceClassification model from a BertForSequenceClassification model).\n",
      "Some weights of BertForSequenceClassification were not initialized from the model checkpoint at bert-base-cased and are newly initialized: ['classifier.weight', 'classifier.bias']\n",
      "You should probably TRAIN this model on a down-stream task to be able to use it for predictions and inference.\n"
     ]
    }
   ],
   "source": [
    "model = FineTuneClassifier()\n",
    "\n",
    "out = model(input_ids=sample['post_input_ids'], attention_masks=sample['post_attention_mask'])"
   ]
  },
  {
   "cell_type": "code",
   "execution_count": 8,
   "metadata": {},
   "outputs": [
    {
     "data": {
      "text/plain": [
       "tensor([[0.5016, 0.4984],\n",
       "        [0.5107, 0.4893],\n",
       "        [0.4868, 0.5132]], grad_fn=<SoftmaxBackward>)"
      ]
     },
     "execution_count": 8,
     "metadata": {},
     "output_type": "execute_result"
    }
   ],
   "source": [
    "out"
   ]
  },
  {
   "cell_type": "markdown",
   "metadata": {},
   "source": [
    "### Stock Predictions"
   ]
  },
  {
   "cell_type": "code",
   "execution_count": 2,
   "metadata": {},
   "outputs": [
    {
     "name": "stdout",
     "output_type": "stream",
     "text": [
      "connection established\n",
      "[(datetime.datetime(2021, 10, 16, 20, 2, 31),)]\n",
      "connection established\n",
      "[(datetime.datetime(2021, 10, 16, 20, 2, 33),)]\n"
     ]
    },
    {
     "name": "stderr",
     "output_type": "stream",
     "text": [
      "\r",
      "Determining Sentiment From Posts:   0%|          | 0/1 [00:00<?, ?it/s]"
     ]
    },
    {
     "name": "stdout",
     "output_type": "stream",
     "text": [
      "connection established\n",
      "[(datetime.datetime(2021, 10, 16, 20, 2, 35),)]\n"
     ]
    },
    {
     "name": "stderr",
     "output_type": "stream",
     "text": [
      "Determining Sentiment From Posts: 100%|██████████| 1/1 [00:10<00:00, 10.36s/it]\n",
      "Determining Sentiment From Comments: 100%|██████████| 1/1 [00:10<00:00, 10.34s/it]\n"
     ]
    }
   ],
   "source": [
    "from inference import RunInference\n",
    "\n",
    "run =RunInference('GME')\n",
    "output = run.evaluate()"
   ]
  },
  {
   "cell_type": "code",
   "execution_count": 3,
   "metadata": {},
   "outputs": [
    {
     "data": {
      "text/plain": [
       "{'avg_post_probs': tensor([0.3999, 0.6001]),\n",
       " 'avg_comment_probs': tensor([0.7995, 0.2005]),\n",
       " 'all_post_probs': tensor([[9.9936e-01, 6.3518e-04],\n",
       "         [2.2896e-04, 9.9977e-01],\n",
       "         [2.2188e-04, 9.9978e-01],\n",
       "         [9.9945e-01, 5.4841e-04],\n",
       "         [1.7562e-04, 9.9982e-01]]),\n",
       " 'all_comment_probs': tensor([[9.9924e-01, 7.5561e-04],\n",
       "         [3.0345e-04, 9.9970e-01],\n",
       "         [9.9924e-01, 7.5804e-04],\n",
       "         [9.9927e-01, 7.3070e-04],\n",
       "         [9.9933e-01, 6.6655e-04]]),\n",
       " 'all_post_dates': tensor([1.6336e+09, 1.6335e+09, 1.6336e+09, 1.6335e+09, 1.6336e+09],\n",
       "        dtype=torch.float64),\n",
       " 'all_comment_dates': tensor([1.6336e+09, 1.6335e+09, 1.6336e+09, 1.6335e+09, 1.6336e+09],\n",
       "        dtype=torch.float64),\n",
       " 'max_post_prob': 0.9998244643211365,\n",
       " 'max_comment_prob': 0.9996966123580933,\n",
       " 'max_post': '$77K to $233K, Roller coaster journey. Top Gainers: GME, SPCE, DOCN, ASAN, WORK, SPOT',\n",
       " 'max_comment': \"Alright SDC, if you can multiply your stock price by 100 right now, I will be a millionaire and can get myself a FAT lake house. Let's go baby!\",\n",
       " 'min_post_prob': 0.0005484112771227956,\n",
       " 'min_comment_prob': 0.0006665491964668036,\n",
       " 'min_post': 'Here is my FB position I covered today had to take the gains the hidden part is GME can’t wait to sh',\n",
       " 'min_comment': 'All I want is a 300% run. What’s the big deal?'}"
      ]
     },
     "execution_count": 3,
     "metadata": {},
     "output_type": "execute_result"
    }
   ],
   "source": [
    "output"
   ]
  },
  {
   "cell_type": "code",
   "execution_count": 4,
   "metadata": {},
   "outputs": [
    {
     "name": "stderr",
     "output_type": "stream",
     "text": [
      "100%|██████████| 722/722 [00:01<00:00, 425.69it/s]\n"
     ]
    }
   ],
   "source": [
    "from forecast import Forecast\n",
    "\n",
    "get_stock = Forecast(\"GME\", output)"
   ]
  },
  {
   "cell_type": "code",
   "execution_count": 38,
   "metadata": {},
   "outputs": [
    {
     "name": "stderr",
     "output_type": "stream",
     "text": [
      "/Users/ianleefmans/opt/anaconda3/envs/StockSentiment/lib/python3.7/site-packages/ipykernel/ipkernel.py:283: DeprecationWarning: `should_run_async` will not call `transform_cell` automatically in the future. Please pass the result to `transformed_cell` argument and any exception that happen during thetransform in `preprocessing_exc_tuple` in IPython 7.17 and above.\n",
      "  and should_run_async(code)\n",
      "/Users/ianleefmans/opt/anaconda3/envs/StockSentiment/lib/python3.7/site-packages/statsmodels/tsa/statespace/sarimax.py:966: UserWarning: Non-stationary starting autoregressive parameters found. Using zeros as starting parameters.\n",
      "  warn('Non-stationary starting autoregressive parameters'\n",
      "/Users/ianleefmans/opt/anaconda3/envs/StockSentiment/lib/python3.7/site-packages/statsmodels/base/model.py:568: ConvergenceWarning: Maximum Likelihood optimization failed to converge. Check mle_retvals\n",
      "  ConvergenceWarning)\n"
     ]
    },
    {
     "name": "stdout",
     "output_type": "stream",
     "text": [
      "WARNING: Constant Sentiment, Random Noise Added\n"
     ]
    }
   ],
   "source": [
    "preds = get_stock.arima(periods=200)\n"
   ]
  },
  {
   "cell_type": "code",
   "execution_count": 39,
   "metadata": {},
   "outputs": [
    {
     "name": "stderr",
     "output_type": "stream",
     "text": [
      "/Users/ianleefmans/opt/anaconda3/envs/StockSentiment/lib/python3.7/site-packages/ipykernel/ipkernel.py:283: DeprecationWarning: `should_run_async` will not call `transform_cell` automatically in the future. Please pass the result to `transformed_cell` argument and any exception that happen during thetransform in `preprocessing_exc_tuple` in IPython 7.17 and above.\n",
      "  and should_run_async(code)\n"
     ]
    },
    {
     "data": {
      "text/html": [
       "<div>\n",
       "<style scoped>\n",
       "    .dataframe tbody tr th:only-of-type {\n",
       "        vertical-align: middle;\n",
       "    }\n",
       "\n",
       "    .dataframe tbody tr th {\n",
       "        vertical-align: top;\n",
       "    }\n",
       "\n",
       "    .dataframe thead th {\n",
       "        text-align: right;\n",
       "    }\n",
       "</style>\n",
       "<table border=\"1\" class=\"dataframe\">\n",
       "  <thead>\n",
       "    <tr style=\"text-align: right;\">\n",
       "      <th></th>\n",
       "      <th>timestamp</th>\n",
       "      <th>sentiment</th>\n",
       "      <th>close_price</th>\n",
       "      <th>is_pred</th>\n",
       "    </tr>\n",
       "  </thead>\n",
       "  <tbody>\n",
       "    <tr>\n",
       "      <th>0</th>\n",
       "      <td>2021-10-13 16:07:00</td>\n",
       "      <td>0.500291</td>\n",
       "      <td>184.800000</td>\n",
       "      <td>0</td>\n",
       "    </tr>\n",
       "    <tr>\n",
       "      <th>1</th>\n",
       "      <td>2021-10-13 16:23:00</td>\n",
       "      <td>0.500291</td>\n",
       "      <td>184.750000</td>\n",
       "      <td>0</td>\n",
       "    </tr>\n",
       "    <tr>\n",
       "      <th>2</th>\n",
       "      <td>2021-10-13 16:29:00</td>\n",
       "      <td>0.500291</td>\n",
       "      <td>184.900000</td>\n",
       "      <td>0</td>\n",
       "    </tr>\n",
       "    <tr>\n",
       "      <th>3</th>\n",
       "      <td>2021-10-13 17:10:00</td>\n",
       "      <td>0.500291</td>\n",
       "      <td>184.250000</td>\n",
       "      <td>0</td>\n",
       "    </tr>\n",
       "    <tr>\n",
       "      <th>4</th>\n",
       "      <td>2021-10-13 17:30:00</td>\n",
       "      <td>0.500291</td>\n",
       "      <td>184.500000</td>\n",
       "      <td>0</td>\n",
       "    </tr>\n",
       "    <tr>\n",
       "      <th>...</th>\n",
       "      <td>...</td>\n",
       "      <td>...</td>\n",
       "      <td>...</td>\n",
       "      <td>...</td>\n",
       "    </tr>\n",
       "    <tr>\n",
       "      <th>917</th>\n",
       "      <td>2021-10-15 23:15:00</td>\n",
       "      <td>0.500289</td>\n",
       "      <td>184.114044</td>\n",
       "      <td>1</td>\n",
       "    </tr>\n",
       "    <tr>\n",
       "      <th>918</th>\n",
       "      <td>2021-10-15 23:16:00</td>\n",
       "      <td>0.500289</td>\n",
       "      <td>184.114307</td>\n",
       "      <td>1</td>\n",
       "    </tr>\n",
       "    <tr>\n",
       "      <th>919</th>\n",
       "      <td>2021-10-15 23:17:00</td>\n",
       "      <td>0.500289</td>\n",
       "      <td>184.114574</td>\n",
       "      <td>1</td>\n",
       "    </tr>\n",
       "    <tr>\n",
       "      <th>920</th>\n",
       "      <td>2021-10-15 23:18:00</td>\n",
       "      <td>0.500289</td>\n",
       "      <td>184.114747</td>\n",
       "      <td>1</td>\n",
       "    </tr>\n",
       "    <tr>\n",
       "      <th>921</th>\n",
       "      <td>2021-10-15 23:19:00</td>\n",
       "      <td>0.500289</td>\n",
       "      <td>184.115034</td>\n",
       "      <td>1</td>\n",
       "    </tr>\n",
       "  </tbody>\n",
       "</table>\n",
       "<p>922 rows × 4 columns</p>\n",
       "</div>"
      ],
      "text/plain": [
       "              timestamp  sentiment  close_price  is_pred\n",
       "0   2021-10-13 16:07:00   0.500291   184.800000        0\n",
       "1   2021-10-13 16:23:00   0.500291   184.750000        0\n",
       "2   2021-10-13 16:29:00   0.500291   184.900000        0\n",
       "3   2021-10-13 17:10:00   0.500291   184.250000        0\n",
       "4   2021-10-13 17:30:00   0.500291   184.500000        0\n",
       "..                  ...        ...          ...      ...\n",
       "917 2021-10-15 23:15:00   0.500289   184.114044        1\n",
       "918 2021-10-15 23:16:00   0.500289   184.114307        1\n",
       "919 2021-10-15 23:17:00   0.500289   184.114574        1\n",
       "920 2021-10-15 23:18:00   0.500289   184.114747        1\n",
       "921 2021-10-15 23:19:00   0.500289   184.115034        1\n",
       "\n",
       "[922 rows x 4 columns]"
      ]
     },
     "execution_count": 39,
     "metadata": {},
     "output_type": "execute_result"
    }
   ],
   "source": [
    "preds"
   ]
  },
  {
   "cell_type": "code",
   "execution_count": null,
   "metadata": {},
   "outputs": [],
   "source": []
  },
  {
   "cell_type": "code",
   "execution_count": 40,
   "metadata": {},
   "outputs": [
    {
     "name": "stderr",
     "output_type": "stream",
     "text": [
      "/Users/ianleefmans/opt/anaconda3/envs/StockSentiment/lib/python3.7/site-packages/ipykernel/ipkernel.py:283: DeprecationWarning: `should_run_async` will not call `transform_cell` automatically in the future. Please pass the result to `transformed_cell` argument and any exception that happen during thetransform in `preprocessing_exc_tuple` in IPython 7.17 and above.\n",
      "  and should_run_async(code)\n"
     ]
    },
    {
     "data": {
      "image/png": "[encoded data removed]",
      "text/plain": [
       "<Figure size 720x432 with 1 Axes>"
      ]
     },
     "metadata": {},
     "output_type": "display_data"
    }
   ],
   "source": [
    "from matplotlib import pyplot as plt\n",
    "plt.style.use('dark_background')\n",
    "\n",
    "fig, ax = plt.subplots(figsize=(10,6))\n",
    "\n",
    "\n",
    "\n",
    "preds.loc[preds.is_pred==0,:].plot.line(ax=ax, x=\"timestamp\", y=\"close_price\", color='darkred')\n",
    "preds.loc[preds.is_pred==1,:].plot.line(ax=ax, x=\"timestamp\", y=\"close_price\", color='lightsteelblue')\n",
    "\n",
    "ax.set_title(\"Predictions\", fontdict = {'fontsize': 20}, pad = 15)\n",
    "ax.set_xlabel('date', fontsize=14, labelpad = 20)\n",
    "ax.set_ylabel('close price', fontsize=14, labelpad=20)\n",
    "\n",
    "ax.legend(['price', 'predicted price'])\n",
    "ax.spines['right'].set_visible(False)\n",
    "ax.spines['top'].set_visible(False);"
   ]
  },
  {
   "cell_type": "code",
   "execution_count": 9,
   "metadata": {},
   "outputs": [
    {
     "data": {
      "text/html": [
       "<div>\n",
       "<style scoped>\n",
       "    .dataframe tbody tr th:only-of-type {\n",
       "        vertical-align: middle;\n",
       "    }\n",
       "\n",
       "    .dataframe tbody tr th {\n",
       "        vertical-align: top;\n",
       "    }\n",
       "\n",
       "    .dataframe thead th {\n",
       "        text-align: right;\n",
       "    }\n",
       "</style>\n",
       "<table border=\"1\" class=\"dataframe\">\n",
       "  <thead>\n",
       "    <tr style=\"text-align: right;\">\n",
       "      <th></th>\n",
       "      <th>close</th>\n",
       "      <th>high</th>\n",
       "      <th>low</th>\n",
       "      <th>open</th>\n",
       "      <th>status</th>\n",
       "      <th>timestamp</th>\n",
       "      <th>volume</th>\n",
       "      <th>highlow_percent</th>\n",
       "      <th>highlow_percent_t1</th>\n",
       "      <th>sentiment</th>\n",
       "    </tr>\n",
       "  </thead>\n",
       "  <tbody>\n",
       "    <tr>\n",
       "      <th>0</th>\n",
       "      <td>183.28</td>\n",
       "      <td>183.78</td>\n",
       "      <td>182.90</td>\n",
       "      <td>183.78</td>\n",
       "      <td>ok</td>\n",
       "      <td>2021-10-13 15:43:00</td>\n",
       "      <td>16293</td>\n",
       "      <td>0.995212</td>\n",
       "      <td>NaN</td>\n",
       "      <td>0.500291</td>\n",
       "    </tr>\n",
       "    <tr>\n",
       "      <th>1</th>\n",
       "      <td>183.09</td>\n",
       "      <td>183.25</td>\n",
       "      <td>182.93</td>\n",
       "      <td>183.23</td>\n",
       "      <td>ok</td>\n",
       "      <td>2021-10-13 15:44:00</td>\n",
       "      <td>6541</td>\n",
       "      <td>0.998254</td>\n",
       "      <td>NaN</td>\n",
       "      <td>0.500291</td>\n",
       "    </tr>\n",
       "    <tr>\n",
       "      <th>2</th>\n",
       "      <td>183.07</td>\n",
       "      <td>183.08</td>\n",
       "      <td>183.00</td>\n",
       "      <td>183.00</td>\n",
       "      <td>ok</td>\n",
       "      <td>2021-10-13 15:45:00</td>\n",
       "      <td>1472</td>\n",
       "      <td>0.999563</td>\n",
       "      <td>NaN</td>\n",
       "      <td>0.500291</td>\n",
       "    </tr>\n",
       "    <tr>\n",
       "      <th>3</th>\n",
       "      <td>182.93</td>\n",
       "      <td>183.05</td>\n",
       "      <td>182.88</td>\n",
       "      <td>183.05</td>\n",
       "      <td>ok</td>\n",
       "      <td>2021-10-13 15:46:00</td>\n",
       "      <td>2546</td>\n",
       "      <td>0.999071</td>\n",
       "      <td>NaN</td>\n",
       "      <td>0.500291</td>\n",
       "    </tr>\n",
       "    <tr>\n",
       "      <th>4</th>\n",
       "      <td>183.09</td>\n",
       "      <td>183.09</td>\n",
       "      <td>182.87</td>\n",
       "      <td>183.00</td>\n",
       "      <td>ok</td>\n",
       "      <td>2021-10-13 15:47:00</td>\n",
       "      <td>5402</td>\n",
       "      <td>0.998798</td>\n",
       "      <td>NaN</td>\n",
       "      <td>0.500291</td>\n",
       "    </tr>\n",
       "    <tr>\n",
       "      <th>...</th>\n",
       "      <td>...</td>\n",
       "      <td>...</td>\n",
       "      <td>...</td>\n",
       "      <td>...</td>\n",
       "      <td>...</td>\n",
       "      <td>...</td>\n",
       "      <td>...</td>\n",
       "      <td>...</td>\n",
       "      <td>...</td>\n",
       "      <td>...</td>\n",
       "    </tr>\n",
       "    <tr>\n",
       "      <th>736</th>\n",
       "      <td>183.00</td>\n",
       "      <td>183.00</td>\n",
       "      <td>183.00</td>\n",
       "      <td>183.00</td>\n",
       "      <td>ok</td>\n",
       "      <td>2021-10-15 16:29:00</td>\n",
       "      <td>185</td>\n",
       "      <td>1.000000</td>\n",
       "      <td>0.998541</td>\n",
       "      <td>0.500291</td>\n",
       "    </tr>\n",
       "    <tr>\n",
       "      <th>737</th>\n",
       "      <td>183.20</td>\n",
       "      <td>183.20</td>\n",
       "      <td>183.20</td>\n",
       "      <td>183.20</td>\n",
       "      <td>ok</td>\n",
       "      <td>2021-10-15 16:33:00</td>\n",
       "      <td>114</td>\n",
       "      <td>1.000000</td>\n",
       "      <td>0.998541</td>\n",
       "      <td>0.500291</td>\n",
       "    </tr>\n",
       "    <tr>\n",
       "      <th>738</th>\n",
       "      <td>183.33</td>\n",
       "      <td>183.33</td>\n",
       "      <td>183.33</td>\n",
       "      <td>183.33</td>\n",
       "      <td>ok</td>\n",
       "      <td>2021-10-15 17:10:00</td>\n",
       "      <td>371</td>\n",
       "      <td>1.000000</td>\n",
       "      <td>0.998541</td>\n",
       "      <td>0.500291</td>\n",
       "    </tr>\n",
       "    <tr>\n",
       "      <th>739</th>\n",
       "      <td>183.20</td>\n",
       "      <td>183.20</td>\n",
       "      <td>183.20</td>\n",
       "      <td>183.20</td>\n",
       "      <td>ok</td>\n",
       "      <td>2021-10-15 19:37:00</td>\n",
       "      <td>249</td>\n",
       "      <td>1.000000</td>\n",
       "      <td>0.998541</td>\n",
       "      <td>0.500291</td>\n",
       "    </tr>\n",
       "    <tr>\n",
       "      <th>740</th>\n",
       "      <td>183.32</td>\n",
       "      <td>183.32</td>\n",
       "      <td>183.32</td>\n",
       "      <td>183.32</td>\n",
       "      <td>ok</td>\n",
       "      <td>2021-10-15 19:59:00</td>\n",
       "      <td>658</td>\n",
       "      <td>1.000000</td>\n",
       "      <td>0.998541</td>\n",
       "      <td>0.500291</td>\n",
       "    </tr>\n",
       "  </tbody>\n",
       "</table>\n",
       "<p>741 rows × 10 columns</p>\n",
       "</div>"
      ],
      "text/plain": [
       "      close    high     low    open status           timestamp  volume  \\\n",
       "0    183.28  183.78  182.90  183.78     ok 2021-10-13 15:43:00   16293   \n",
       "1    183.09  183.25  182.93  183.23     ok 2021-10-13 15:44:00    6541   \n",
       "2    183.07  183.08  183.00  183.00     ok 2021-10-13 15:45:00    1472   \n",
       "3    182.93  183.05  182.88  183.05     ok 2021-10-13 15:46:00    2546   \n",
       "4    183.09  183.09  182.87  183.00     ok 2021-10-13 15:47:00    5402   \n",
       "..      ...     ...     ...     ...    ...                 ...     ...   \n",
       "736  183.00  183.00  183.00  183.00     ok 2021-10-15 16:29:00     185   \n",
       "737  183.20  183.20  183.20  183.20     ok 2021-10-15 16:33:00     114   \n",
       "738  183.33  183.33  183.33  183.33     ok 2021-10-15 17:10:00     371   \n",
       "739  183.20  183.20  183.20  183.20     ok 2021-10-15 19:37:00     249   \n",
       "740  183.32  183.32  183.32  183.32     ok 2021-10-15 19:59:00     658   \n",
       "\n",
       "     highlow_percent  highlow_percent_t1  sentiment  \n",
       "0           0.995212                 NaN   0.500291  \n",
       "1           0.998254                 NaN   0.500291  \n",
       "2           0.999563                 NaN   0.500291  \n",
       "3           0.999071                 NaN   0.500291  \n",
       "4           0.998798                 NaN   0.500291  \n",
       "..               ...                 ...        ...  \n",
       "736         1.000000            0.998541   0.500291  \n",
       "737         1.000000            0.998541   0.500291  \n",
       "738         1.000000            0.998541   0.500291  \n",
       "739         1.000000            0.998541   0.500291  \n",
       "740         1.000000            0.998541   0.500291  \n",
       "\n",
       "[741 rows x 10 columns]"
      ]
     },
     "execution_count": 9,
     "metadata": {},
     "output_type": "execute_result"
    }
   ],
   "source": [
    "get_stock.stock_data"
   ]
  },
  {
   "cell_type": "code",
   "execution_count": null,
   "metadata": {},
   "outputs": [],
   "source": []
  },
  {
   "cell_type": "code",
   "execution_count": null,
   "metadata": {},
   "outputs": [],
   "source": []
  },
  {
   "cell_type": "code",
   "execution_count": 4,
   "metadata": {},
   "outputs": [
    {
     "data": {
      "text/html": [
       "<div>\n",
       "<style scoped>\n",
       "    .dataframe tbody tr th:only-of-type {\n",
       "        vertical-align: middle;\n",
       "    }\n",
       "\n",
       "    .dataframe tbody tr th {\n",
       "        vertical-align: top;\n",
       "    }\n",
       "\n",
       "    .dataframe thead th {\n",
       "        text-align: right;\n",
       "    }\n",
       "</style>\n",
       "<table border=\"1\" class=\"dataframe\">\n",
       "  <thead>\n",
       "    <tr style=\"text-align: right;\">\n",
       "      <th></th>\n",
       "      <th>close</th>\n",
       "      <th>high</th>\n",
       "      <th>low</th>\n",
       "      <th>open</th>\n",
       "      <th>status</th>\n",
       "      <th>timestamp</th>\n",
       "      <th>volume</th>\n",
       "      <th>highlow_percent</th>\n",
       "      <th>highlow_percent_t1</th>\n",
       "      <th>sentiment</th>\n",
       "    </tr>\n",
       "  </thead>\n",
       "  <tbody>\n",
       "    <tr>\n",
       "      <th>0</th>\n",
       "      <td>168.78</td>\n",
       "      <td>169.130</td>\n",
       "      <td>168.78</td>\n",
       "      <td>169.000</td>\n",
       "      <td>ok</td>\n",
       "      <td>2021-10-06 13:06:00</td>\n",
       "      <td>1973</td>\n",
       "      <td>0.997931</td>\n",
       "      <td>NaN</td>\n",
       "      <td>0.799546</td>\n",
       "    </tr>\n",
       "    <tr>\n",
       "      <th>1</th>\n",
       "      <td>168.60</td>\n",
       "      <td>168.775</td>\n",
       "      <td>168.60</td>\n",
       "      <td>168.775</td>\n",
       "      <td>ok</td>\n",
       "      <td>2021-10-06 13:07:00</td>\n",
       "      <td>1470</td>\n",
       "      <td>0.998963</td>\n",
       "      <td>NaN</td>\n",
       "      <td>0.799546</td>\n",
       "    </tr>\n",
       "    <tr>\n",
       "      <th>2</th>\n",
       "      <td>168.80</td>\n",
       "      <td>168.800</td>\n",
       "      <td>168.50</td>\n",
       "      <td>168.640</td>\n",
       "      <td>ok</td>\n",
       "      <td>2021-10-06 13:09:00</td>\n",
       "      <td>4365</td>\n",
       "      <td>0.998223</td>\n",
       "      <td>NaN</td>\n",
       "      <td>0.799546</td>\n",
       "    </tr>\n",
       "    <tr>\n",
       "      <th>3</th>\n",
       "      <td>168.55</td>\n",
       "      <td>168.550</td>\n",
       "      <td>168.55</td>\n",
       "      <td>168.550</td>\n",
       "      <td>ok</td>\n",
       "      <td>2021-10-06 13:11:00</td>\n",
       "      <td>1236</td>\n",
       "      <td>1.000000</td>\n",
       "      <td>NaN</td>\n",
       "      <td>0.799546</td>\n",
       "    </tr>\n",
       "    <tr>\n",
       "      <th>4</th>\n",
       "      <td>168.81</td>\n",
       "      <td>168.810</td>\n",
       "      <td>168.81</td>\n",
       "      <td>168.810</td>\n",
       "      <td>ok</td>\n",
       "      <td>2021-10-06 13:12:00</td>\n",
       "      <td>248</td>\n",
       "      <td>1.000000</td>\n",
       "      <td>NaN</td>\n",
       "      <td>0.799546</td>\n",
       "    </tr>\n",
       "    <tr>\n",
       "      <th>...</th>\n",
       "      <td>...</td>\n",
       "      <td>...</td>\n",
       "      <td>...</td>\n",
       "      <td>...</td>\n",
       "      <td>...</td>\n",
       "      <td>...</td>\n",
       "      <td>...</td>\n",
       "      <td>...</td>\n",
       "      <td>...</td>\n",
       "      <td>...</td>\n",
       "    </tr>\n",
       "    <tr>\n",
       "      <th>781</th>\n",
       "      <td>172.45</td>\n",
       "      <td>172.690</td>\n",
       "      <td>172.45</td>\n",
       "      <td>172.690</td>\n",
       "      <td>ok</td>\n",
       "      <td>2021-10-08 16:16:00</td>\n",
       "      <td>375</td>\n",
       "      <td>0.998610</td>\n",
       "      <td>0.999004</td>\n",
       "      <td>0.799546</td>\n",
       "    </tr>\n",
       "    <tr>\n",
       "      <th>782</th>\n",
       "      <td>172.45</td>\n",
       "      <td>172.450</td>\n",
       "      <td>172.45</td>\n",
       "      <td>172.450</td>\n",
       "      <td>ok</td>\n",
       "      <td>2021-10-08 16:17:00</td>\n",
       "      <td>198</td>\n",
       "      <td>1.000000</td>\n",
       "      <td>0.999004</td>\n",
       "      <td>0.799546</td>\n",
       "    </tr>\n",
       "    <tr>\n",
       "      <th>783</th>\n",
       "      <td>172.95</td>\n",
       "      <td>172.950</td>\n",
       "      <td>172.95</td>\n",
       "      <td>172.950</td>\n",
       "      <td>ok</td>\n",
       "      <td>2021-10-08 17:11:00</td>\n",
       "      <td>179</td>\n",
       "      <td>1.000000</td>\n",
       "      <td>0.999004</td>\n",
       "      <td>0.799546</td>\n",
       "    </tr>\n",
       "    <tr>\n",
       "      <th>784</th>\n",
       "      <td>172.72</td>\n",
       "      <td>172.720</td>\n",
       "      <td>172.72</td>\n",
       "      <td>172.720</td>\n",
       "      <td>ok</td>\n",
       "      <td>2021-10-08 17:34:00</td>\n",
       "      <td>148</td>\n",
       "      <td>1.000000</td>\n",
       "      <td>0.999004</td>\n",
       "      <td>0.799546</td>\n",
       "    </tr>\n",
       "    <tr>\n",
       "      <th>785</th>\n",
       "      <td>172.80</td>\n",
       "      <td>172.800</td>\n",
       "      <td>172.80</td>\n",
       "      <td>172.800</td>\n",
       "      <td>ok</td>\n",
       "      <td>2021-10-08 19:56:00</td>\n",
       "      <td>205</td>\n",
       "      <td>1.000000</td>\n",
       "      <td>0.999004</td>\n",
       "      <td>0.799546</td>\n",
       "    </tr>\n",
       "  </tbody>\n",
       "</table>\n",
       "<p>786 rows × 10 columns</p>\n",
       "</div>"
      ],
      "text/plain": [
       "      close     high     low     open status           timestamp  volume  \\\n",
       "0    168.78  169.130  168.78  169.000     ok 2021-10-06 13:06:00    1973   \n",
       "1    168.60  168.775  168.60  168.775     ok 2021-10-06 13:07:00    1470   \n",
       "2    168.80  168.800  168.50  168.640     ok 2021-10-06 13:09:00    4365   \n",
       "3    168.55  168.550  168.55  168.550     ok 2021-10-06 13:11:00    1236   \n",
       "4    168.81  168.810  168.81  168.810     ok 2021-10-06 13:12:00     248   \n",
       "..      ...      ...     ...      ...    ...                 ...     ...   \n",
       "781  172.45  172.690  172.45  172.690     ok 2021-10-08 16:16:00     375   \n",
       "782  172.45  172.450  172.45  172.450     ok 2021-10-08 16:17:00     198   \n",
       "783  172.95  172.950  172.95  172.950     ok 2021-10-08 17:11:00     179   \n",
       "784  172.72  172.720  172.72  172.720     ok 2021-10-08 17:34:00     148   \n",
       "785  172.80  172.800  172.80  172.800     ok 2021-10-08 19:56:00     205   \n",
       "\n",
       "     highlow_percent  highlow_percent_t1  sentiment  \n",
       "0           0.997931                 NaN   0.799546  \n",
       "1           0.998963                 NaN   0.799546  \n",
       "2           0.998223                 NaN   0.799546  \n",
       "3           1.000000                 NaN   0.799546  \n",
       "4           1.000000                 NaN   0.799546  \n",
       "..               ...                 ...        ...  \n",
       "781         0.998610            0.999004   0.799546  \n",
       "782         1.000000            0.999004   0.799546  \n",
       "783         1.000000            0.999004   0.799546  \n",
       "784         1.000000            0.999004   0.799546  \n",
       "785         1.000000            0.999004   0.799546  \n",
       "\n",
       "[786 rows x 10 columns]"
      ]
     },
     "execution_count": 4,
     "metadata": {},
     "output_type": "execute_result"
    }
   ],
   "source": [
    "get_stock.assign_sentiment()\n",
    "get_stock.stock_data"
   ]
  },
  {
   "cell_type": "code",
   "execution_count": 5,
   "metadata": {
    "scrolled": true
   },
   "outputs": [
    {
     "data": {
      "text/html": [
       "<div>\n",
       "<style scoped>\n",
       "    .dataframe tbody tr th:only-of-type {\n",
       "        vertical-align: middle;\n",
       "    }\n",
       "\n",
       "    .dataframe tbody tr th {\n",
       "        vertical-align: top;\n",
       "    }\n",
       "\n",
       "    .dataframe thead th {\n",
       "        text-align: right;\n",
       "    }\n",
       "</style>\n",
       "<table border=\"1\" class=\"dataframe\">\n",
       "  <thead>\n",
       "    <tr style=\"text-align: right;\">\n",
       "      <th></th>\n",
       "      <th>date</th>\n",
       "      <th>sentiment</th>\n",
       "    </tr>\n",
       "  </thead>\n",
       "  <tbody>\n",
       "    <tr>\n",
       "      <th>0</th>\n",
       "      <td>2021-06-17 03:20:00</td>\n",
       "      <td>0.999614</td>\n",
       "    </tr>\n",
       "    <tr>\n",
       "      <th>1</th>\n",
       "      <td>2021-06-17 06:06:40</td>\n",
       "      <td>0.999814</td>\n",
       "    </tr>\n",
       "    <tr>\n",
       "      <th>2</th>\n",
       "      <td>2021-06-17 22:46:40</td>\n",
       "      <td>0.999831</td>\n",
       "    </tr>\n",
       "    <tr>\n",
       "      <th>3</th>\n",
       "      <td>2021-06-18 04:20:00</td>\n",
       "      <td>0.999502</td>\n",
       "    </tr>\n",
       "    <tr>\n",
       "      <th>4</th>\n",
       "      <td>2021-06-18 07:06:40</td>\n",
       "      <td>0.799546</td>\n",
       "    </tr>\n",
       "  </tbody>\n",
       "</table>\n",
       "</div>"
      ],
      "text/plain": [
       "                 date  sentiment\n",
       "0 2021-06-17 03:20:00   0.999614\n",
       "1 2021-06-17 06:06:40   0.999814\n",
       "2 2021-06-17 22:46:40   0.999831\n",
       "3 2021-06-18 04:20:00   0.999502\n",
       "4 2021-06-18 07:06:40   0.799546"
      ]
     },
     "execution_count": 5,
     "metadata": {},
     "output_type": "execute_result"
    }
   ],
   "source": [
    "\n",
    "table = get_stock.sentiment\n",
    "table"
   ]
  },
  {
   "cell_type": "code",
   "execution_count": 6,
   "metadata": {},
   "outputs": [],
   "source": [
    "data = get_stock.stock_data"
   ]
  },
  {
   "cell_type": "code",
   "execution_count": null,
   "metadata": {},
   "outputs": [],
   "source": []
  },
  {
   "cell_type": "code",
   "execution_count": 123,
   "metadata": {},
   "outputs": [
    {
     "data": {
      "text/html": [
       "<div>\n",
       "<style scoped>\n",
       "    .dataframe tbody tr th:only-of-type {\n",
       "        vertical-align: middle;\n",
       "    }\n",
       "\n",
       "    .dataframe tbody tr th {\n",
       "        vertical-align: top;\n",
       "    }\n",
       "\n",
       "    .dataframe thead th {\n",
       "        text-align: right;\n",
       "    }\n",
       "</style>\n",
       "<table border=\"1\" class=\"dataframe\">\n",
       "  <thead>\n",
       "    <tr style=\"text-align: right;\">\n",
       "      <th></th>\n",
       "      <th>close</th>\n",
       "      <th>high</th>\n",
       "      <th>low</th>\n",
       "      <th>open</th>\n",
       "      <th>status</th>\n",
       "      <th>timestamp</th>\n",
       "      <th>volume</th>\n",
       "      <th>highlow_percent</th>\n",
       "      <th>highlow_percent_t1</th>\n",
       "      <th>sentiment</th>\n",
       "    </tr>\n",
       "  </thead>\n",
       "  <tbody>\n",
       "    <tr>\n",
       "      <th>0</th>\n",
       "      <td>168.78</td>\n",
       "      <td>169.130</td>\n",
       "      <td>168.78</td>\n",
       "      <td>169.000</td>\n",
       "      <td>ok</td>\n",
       "      <td>2021-10-06 13:06:00</td>\n",
       "      <td>1973</td>\n",
       "      <td>0.997931</td>\n",
       "      <td>NaN</td>\n",
       "      <td>0.799546</td>\n",
       "    </tr>\n",
       "    <tr>\n",
       "      <th>1</th>\n",
       "      <td>168.60</td>\n",
       "      <td>168.775</td>\n",
       "      <td>168.60</td>\n",
       "      <td>168.775</td>\n",
       "      <td>ok</td>\n",
       "      <td>2021-10-06 13:07:00</td>\n",
       "      <td>1470</td>\n",
       "      <td>0.998963</td>\n",
       "      <td>NaN</td>\n",
       "      <td>0.799546</td>\n",
       "    </tr>\n",
       "    <tr>\n",
       "      <th>2</th>\n",
       "      <td>168.80</td>\n",
       "      <td>168.800</td>\n",
       "      <td>168.50</td>\n",
       "      <td>168.640</td>\n",
       "      <td>ok</td>\n",
       "      <td>2021-10-06 13:09:00</td>\n",
       "      <td>4365</td>\n",
       "      <td>0.998223</td>\n",
       "      <td>NaN</td>\n",
       "      <td>0.799546</td>\n",
       "    </tr>\n",
       "    <tr>\n",
       "      <th>3</th>\n",
       "      <td>168.55</td>\n",
       "      <td>168.550</td>\n",
       "      <td>168.55</td>\n",
       "      <td>168.550</td>\n",
       "      <td>ok</td>\n",
       "      <td>2021-10-06 13:11:00</td>\n",
       "      <td>1236</td>\n",
       "      <td>1.000000</td>\n",
       "      <td>NaN</td>\n",
       "      <td>0.799546</td>\n",
       "    </tr>\n",
       "    <tr>\n",
       "      <th>4</th>\n",
       "      <td>168.81</td>\n",
       "      <td>168.810</td>\n",
       "      <td>168.81</td>\n",
       "      <td>168.810</td>\n",
       "      <td>ok</td>\n",
       "      <td>2021-10-06 13:12:00</td>\n",
       "      <td>248</td>\n",
       "      <td>1.000000</td>\n",
       "      <td>NaN</td>\n",
       "      <td>0.799546</td>\n",
       "    </tr>\n",
       "  </tbody>\n",
       "</table>\n",
       "</div>"
      ],
      "text/plain": [
       "    close     high     low     open status           timestamp  volume  \\\n",
       "0  168.78  169.130  168.78  169.000     ok 2021-10-06 13:06:00    1973   \n",
       "1  168.60  168.775  168.60  168.775     ok 2021-10-06 13:07:00    1470   \n",
       "2  168.80  168.800  168.50  168.640     ok 2021-10-06 13:09:00    4365   \n",
       "3  168.55  168.550  168.55  168.550     ok 2021-10-06 13:11:00    1236   \n",
       "4  168.81  168.810  168.81  168.810     ok 2021-10-06 13:12:00     248   \n",
       "\n",
       "   highlow_percent  highlow_percent_t1  sentiment  \n",
       "0         0.997931                 NaN   0.799546  \n",
       "1         0.998963                 NaN   0.799546  \n",
       "2         0.998223                 NaN   0.799546  \n",
       "3         1.000000                 NaN   0.799546  \n",
       "4         1.000000                 NaN   0.799546  "
      ]
     },
     "execution_count": 123,
     "metadata": {},
     "output_type": "execute_result"
    }
   ],
   "source": [
    "data.head()"
   ]
  },
  {
   "cell_type": "code",
   "execution_count": 125,
   "metadata": {},
   "outputs": [
    {
     "data": {
      "text/plain": [
       "Timedelta('0 days 00:04:11.464968152')"
      ]
     },
     "execution_count": 125,
     "metadata": {},
     "output_type": "execute_result"
    }
   ],
   "source": [
    "data.timestamp.diff().mean()"
   ]
  },
  {
   "cell_type": "code",
   "execution_count": 134,
   "metadata": {},
   "outputs": [
    {
     "data": {
      "text/plain": [
       "Timedelta('0 days 00:03:00')"
      ]
     },
     "execution_count": 134,
     "metadata": {},
     "output_type": "execute_result"
    }
   ],
   "source": [
    "data.timestamp.diff().median()*3"
   ]
  },
  {
   "cell_type": "code",
   "execution_count": 129,
   "metadata": {},
   "outputs": [
    {
     "data": {
      "text/plain": [
       "Timestamp('2021-10-08 19:56:00')"
      ]
     },
     "execution_count": 129,
     "metadata": {},
     "output_type": "execute_result"
    }
   ],
   "source": [
    "data.timestamp.max()"
   ]
  },
  {
   "cell_type": "code",
   "execution_count": 128,
   "metadata": {},
   "outputs": [
    {
     "data": {
      "text/plain": [
       "Timestamp('2021-10-08 19:57:00')"
      ]
     },
     "execution_count": 128,
     "metadata": {},
     "output_type": "execute_result"
    }
   ],
   "source": [
    "data.timestamp.max() + data.timestamp.diff().median()"
   ]
  },
  {
   "cell_type": "code",
   "execution_count": null,
   "metadata": {},
   "outputs": [],
   "source": []
  },
  {
   "cell_type": "code",
   "execution_count": null,
   "metadata": {},
   "outputs": [],
   "source": []
  },
  {
   "cell_type": "code",
   "execution_count": null,
   "metadata": {},
   "outputs": [],
   "source": [
    "mod = ARIMA(endog=data.close, exog = self.stock_data.highlow_percent, order=(1, 0, 0))"
   ]
  },
  {
   "cell_type": "code",
   "execution_count": 12,
   "metadata": {},
   "outputs": [],
   "source": [
    "from statsmodels.tsa.arima.model import ARIMA\n",
    "\n",
    "mod = ARIMA(endog=data.sentiment, order=(1, 0, 0))"
   ]
  },
  {
   "cell_type": "code",
   "execution_count": 13,
   "metadata": {},
   "outputs": [
    {
     "name": "stderr",
     "output_type": "stream",
     "text": [
      "/Users/ianleefmans/opt/anaconda3/envs/StockSentiment/lib/python3.7/site-packages/statsmodels/base/model.py:568: ConvergenceWarning: Maximum Likelihood optimization failed to converge. Check mle_retvals\n",
      "  ConvergenceWarning)\n"
     ]
    }
   ],
   "source": [
    "res = mod.fit()"
   ]
  },
  {
   "cell_type": "code",
   "execution_count": 56,
   "metadata": {},
   "outputs": [],
   "source": [
    "predictions = []\n",
    "def pred(df, count):\n",
    "    if count == 0:\n",
    "        return\n",
    "    \n",
    "    mod = ARIMA(endog=df, order=(1, 0, 0))\n",
    "    res = mod.fit()\n",
    "    \n",
    "    predictions.append(float(res.forecast()))\n",
    "    \n",
    "    \n",
    "    pred(df+[float(res.forecast())], count-1)\n",
    "\n"
   ]
  },
  {
   "cell_type": "code",
   "execution_count": 57,
   "metadata": {},
   "outputs": [
    {
     "name": "stderr",
     "output_type": "stream",
     "text": [
      "/Users/ianleefmans/opt/anaconda3/envs/StockSentiment/lib/python3.7/site-packages/statsmodels/base/model.py:568: ConvergenceWarning: Maximum Likelihood optimization failed to converge. Check mle_retvals\n",
      "  ConvergenceWarning)\n",
      "/Users/ianleefmans/opt/anaconda3/envs/StockSentiment/lib/python3.7/site-packages/statsmodels/base/model.py:568: ConvergenceWarning: Maximum Likelihood optimization failed to converge. Check mle_retvals\n",
      "  ConvergenceWarning)\n",
      "/Users/ianleefmans/opt/anaconda3/envs/StockSentiment/lib/python3.7/site-packages/statsmodels/base/model.py:568: ConvergenceWarning: Maximum Likelihood optimization failed to converge. Check mle_retvals\n",
      "  ConvergenceWarning)\n",
      "/Users/ianleefmans/opt/anaconda3/envs/StockSentiment/lib/python3.7/site-packages/statsmodels/base/model.py:568: ConvergenceWarning: Maximum Likelihood optimization failed to converge. Check mle_retvals\n",
      "  ConvergenceWarning)\n",
      "/Users/ianleefmans/opt/anaconda3/envs/StockSentiment/lib/python3.7/site-packages/statsmodels/base/model.py:568: ConvergenceWarning: Maximum Likelihood optimization failed to converge. Check mle_retvals\n",
      "  ConvergenceWarning)\n",
      "/Users/ianleefmans/opt/anaconda3/envs/StockSentiment/lib/python3.7/site-packages/statsmodels/base/model.py:568: ConvergenceWarning: Maximum Likelihood optimization failed to converge. Check mle_retvals\n",
      "  ConvergenceWarning)\n",
      "/Users/ianleefmans/opt/anaconda3/envs/StockSentiment/lib/python3.7/site-packages/statsmodels/base/model.py:568: ConvergenceWarning: Maximum Likelihood optimization failed to converge. Check mle_retvals\n",
      "  ConvergenceWarning)\n",
      "/Users/ianleefmans/opt/anaconda3/envs/StockSentiment/lib/python3.7/site-packages/statsmodels/base/model.py:568: ConvergenceWarning: Maximum Likelihood optimization failed to converge. Check mle_retvals\n",
      "  ConvergenceWarning)\n",
      "/Users/ianleefmans/opt/anaconda3/envs/StockSentiment/lib/python3.7/site-packages/statsmodels/base/model.py:568: ConvergenceWarning: Maximum Likelihood optimization failed to converge. Check mle_retvals\n",
      "  ConvergenceWarning)\n",
      "/Users/ianleefmans/opt/anaconda3/envs/StockSentiment/lib/python3.7/site-packages/statsmodels/base/model.py:568: ConvergenceWarning: Maximum Likelihood optimization failed to converge. Check mle_retvals\n",
      "  ConvergenceWarning)\n"
     ]
    }
   ],
   "source": [
    "pred(list(data.sentiment), 10)"
   ]
  },
  {
   "cell_type": "code",
   "execution_count": 130,
   "metadata": {},
   "outputs": [
    {
     "data": {
      "text/plain": [
       "10"
      ]
     },
     "execution_count": 130,
     "metadata": {},
     "output_type": "execute_result"
    }
   ],
   "source": [
    "len(predictions)"
   ]
  },
  {
   "cell_type": "code",
   "execution_count": 58,
   "metadata": {},
   "outputs": [
    {
     "data": {
      "text/plain": [
       "[0.7995407913533179,\n",
       " 0.7995407770139782,\n",
       " 0.7995407793797036,\n",
       " 0.7995407826003444,\n",
       " 0.7995407878415857,\n",
       " 0.7995407945813624,\n",
       " 0.7995408025039776,\n",
       " 0.7995408113972577,\n",
       " 0.7995408211084032,\n",
       " 0.7995408315218733]"
      ]
     },
     "execution_count": 58,
     "metadata": {},
     "output_type": "execute_result"
    }
   ],
   "source": [
    "predictions"
   ]
  },
  {
   "cell_type": "code",
   "execution_count": 116,
   "metadata": {},
   "outputs": [],
   "source": [
    "predictions2 = []\n",
    "def pred2(df1, df2):\n",
    "    if len(df1)==len(df2):\n",
    "        return\n",
    "    \n",
    "    mod = ARIMA(endog=df1, exog = df2[0:len(df1), 0], order=(1, 0, 0))\n",
    "    res = mod.fit()\n",
    "    \n",
    "    predictions2.append(res.forecast(exog=[df2[len(df1)-1, 0]]))\n",
    "    \n",
    "    \n",
    "    pred2(df1+[float(res.forecast(exog=[df2[len(df1)-1, 0]]))], df2)"
   ]
  },
  {
   "cell_type": "code",
   "execution_count": 120,
   "metadata": {},
   "outputs": [],
   "source": [
    "pred2(list(data.close), np.add(np.array(list(data.sentiment)+predictions).reshape(-1, 1), np.random.randn(len(list(data.sentiment)+predictions), 1).reshape(-1, 1)))\n",
    "\n",
    "\n"
   ]
  },
  {
   "cell_type": "code",
   "execution_count": 131,
   "metadata": {},
   "outputs": [
    {
     "data": {
      "text/plain": [
       "20"
      ]
     },
     "execution_count": 131,
     "metadata": {},
     "output_type": "execute_result"
    }
   ],
   "source": [
    "len(predictions2)"
   ]
  },
  {
   "cell_type": "code",
   "execution_count": 121,
   "metadata": {},
   "outputs": [
    {
     "data": {
      "text/plain": [
       "[array([172.79432499]),\n",
       " array([172.78882544]),\n",
       " array([172.78329517]),\n",
       " array([172.7780081]),\n",
       " array([172.7725928]),\n",
       " array([172.76761834]),\n",
       " array([172.76248924]),\n",
       " array([172.75788214]),\n",
       " array([172.75310902]),\n",
       " array([172.74836839]),\n",
       " array([172.79441661]),\n",
       " array([172.78896918]),\n",
       " array([172.78349531]),\n",
       " array([172.77819952]),\n",
       " array([172.77289296]),\n",
       " array([172.76771112]),\n",
       " array([172.7626385]),\n",
       " array([172.75762023]),\n",
       " array([172.75270978]),\n",
       " array([172.74784666])]"
      ]
     },
     "execution_count": 121,
     "metadata": {},
     "output_type": "execute_result"
    }
   ],
   "source": [
    "predictions2\n"
   ]
  }
 ],
 "metadata": {
  "kernelspec": {
   "display_name": "Python 3",
   "language": "python",
   "name": "python3"
  },
  "language_info": {
   "codemirror_mode": {
    "name": "ipython",
    "version": 3
   },
   "file_extension": ".py",
   "mimetype": "text/x-python",
   "name": "python",
   "nbconvert_exporter": "python",
   "pygments_lexer": "ipython3",
   "version": "3.7.9"
  }
 },
 "nbformat": 4,
 "nbformat_minor": 4
}
